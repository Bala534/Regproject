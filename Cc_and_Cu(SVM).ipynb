{
  "nbformat": 4,
  "nbformat_minor": 0,
  "metadata": {
    "colab": {
      "name": "Cc and Cu(SVM)",
      "provenance": [],
      "collapsed_sections": [],
      "authorship_tag": "ABX9TyPPQFuD/+agAPA85FjsEJNy",
      "include_colab_link": true
    },
    "kernelspec": {
      "name": "python3",
      "display_name": "Python 3"
    }
  },
  "cells": [
    {
      "cell_type": "markdown",
      "metadata": {
        "id": "view-in-github",
        "colab_type": "text"
      },
      "source": [
        "<a href=\"https://colab.research.google.com/github/Bala534/Regproject/blob/main/Cc_and_Cu(SVM).ipynb\" target=\"_parent\"><img src=\"https://colab.research.google.com/assets/colab-badge.svg\" alt=\"Open In Colab\"/></a>"
      ]
    },
    {
      "cell_type": "code",
      "metadata": {
        "id": "dlKeInoi28i6"
      },
      "source": [
        "import numpy as np\r\n",
        "import pandas as pd\r\n",
        "import matplotlib.pyplot as plt\r\n",
        "%matplotlib inline\r\n",
        "import seaborn as sns"
      ],
      "execution_count": 1,
      "outputs": []
    },
    {
      "cell_type": "code",
      "metadata": {
        "id": "2Uk_SQ6W4Dim"
      },
      "source": [
        "from pandas import ExcelWriter\r\n",
        "from pandas import ExcelFile"
      ],
      "execution_count": 2,
      "outputs": []
    },
    {
      "cell_type": "code",
      "metadata": {
        "colab": {
          "base_uri": "https://localhost:8080/",
          "height": 195
        },
        "id": "83Owt6W44Nc7",
        "outputId": "f5d3afa9-6a55-4f9e-ff11-bc50d4ee3e07"
      },
      "source": [
        "data = pd.read_excel('Cu and Cu Table of Data.xlsx')\r\n",
        "data.head()"
      ],
      "execution_count": 3,
      "outputs": [
        {
          "output_type": "execute_result",
          "data": {
            "text/html": [
              "<div>\n",
              "<style scoped>\n",
              "    .dataframe tbody tr th:only-of-type {\n",
              "        vertical-align: middle;\n",
              "    }\n",
              "\n",
              "    .dataframe tbody tr th {\n",
              "        vertical-align: top;\n",
              "    }\n",
              "\n",
              "    .dataframe thead th {\n",
              "        text-align: right;\n",
              "    }\n",
              "</style>\n",
              "<table border=\"1\" class=\"dataframe\">\n",
              "  <thead>\n",
              "    <tr style=\"text-align: right;\">\n",
              "      <th></th>\n",
              "      <th>S NO</th>\n",
              "      <th>HC (%)</th>\n",
              "      <th>NQF (%)</th>\n",
              "      <th>C (%)</th>\n",
              "      <th>Unnamed: 4</th>\n",
              "      <th>Unnamed: 5</th>\n",
              "      <th>Unnamed: 6</th>\n",
              "      <th>Unnamed: 7</th>\n",
              "    </tr>\n",
              "  </thead>\n",
              "  <tbody>\n",
              "    <tr>\n",
              "      <th>0</th>\n",
              "      <td>1</td>\n",
              "      <td>0.0</td>\n",
              "      <td>0.00</td>\n",
              "      <td>23.02</td>\n",
              "      <td>2.00</td>\n",
              "      <td>15.00</td>\n",
              "      <td>0.84</td>\n",
              "      <td>2.05</td>\n",
              "    </tr>\n",
              "    <tr>\n",
              "      <th>1</th>\n",
              "      <td>2</td>\n",
              "      <td>0.1</td>\n",
              "      <td>0.01</td>\n",
              "      <td>23.02</td>\n",
              "      <td>1.98</td>\n",
              "      <td>15.01</td>\n",
              "      <td>0.85</td>\n",
              "      <td>2.05</td>\n",
              "    </tr>\n",
              "    <tr>\n",
              "      <th>2</th>\n",
              "      <td>3</td>\n",
              "      <td>0.2</td>\n",
              "      <td>0.02</td>\n",
              "      <td>23.03</td>\n",
              "      <td>1.96</td>\n",
              "      <td>15.04</td>\n",
              "      <td>0.86</td>\n",
              "      <td>2.06</td>\n",
              "    </tr>\n",
              "    <tr>\n",
              "      <th>3</th>\n",
              "      <td>4</td>\n",
              "      <td>0.3</td>\n",
              "      <td>0.03</td>\n",
              "      <td>23.03</td>\n",
              "      <td>1.96</td>\n",
              "      <td>15.09</td>\n",
              "      <td>0.87</td>\n",
              "      <td>2.06</td>\n",
              "    </tr>\n",
              "    <tr>\n",
              "      <th>4</th>\n",
              "      <td>5</td>\n",
              "      <td>0.4</td>\n",
              "      <td>0.04</td>\n",
              "      <td>23.04</td>\n",
              "      <td>1.93</td>\n",
              "      <td>15.14</td>\n",
              "      <td>0.88</td>\n",
              "      <td>2.06</td>\n",
              "    </tr>\n",
              "  </tbody>\n",
              "</table>\n",
              "</div>"
            ],
            "text/plain": [
              "   S NO  HC (%)  NQF (%)  C (%)  Unnamed: 4  Unnamed: 5  Unnamed: 6  Unnamed: 7\n",
              "0     1     0.0     0.00  23.02        2.00       15.00        0.84        2.05\n",
              "1     2     0.1     0.01  23.02        1.98       15.01        0.85        2.05\n",
              "2     3     0.2     0.02  23.03        1.96       15.04        0.86        2.06\n",
              "3     4     0.3     0.03  23.03        1.96       15.09        0.87        2.06\n",
              "4     5     0.4     0.04  23.04        1.93       15.14        0.88        2.06"
            ]
          },
          "metadata": {
            "tags": []
          },
          "execution_count": 3
        }
      ]
    },
    {
      "cell_type": "code",
      "metadata": {
        "id": "7N4OhYMH4Vyl"
      },
      "source": [
        "del data['S NO']"
      ],
      "execution_count": 4,
      "outputs": []
    },
    {
      "cell_type": "code",
      "metadata": {
        "colab": {
          "base_uri": "https://localhost:8080/"
        },
        "id": "-nlR5I1W4Ybw",
        "outputId": "0ecdb471-111a-4711-8462-c4bf01352562"
      },
      "source": [
        "data.shape"
      ],
      "execution_count": 5,
      "outputs": [
        {
          "output_type": "execute_result",
          "data": {
            "text/plain": [
              "(121, 7)"
            ]
          },
          "metadata": {
            "tags": []
          },
          "execution_count": 5
        }
      ]
    },
    {
      "cell_type": "code",
      "metadata": {
        "colab": {
          "base_uri": "https://localhost:8080/"
        },
        "id": "_UxhF1os4Zou",
        "outputId": "b3b31374-5c04-4844-c317-755b58766064"
      },
      "source": [
        "data.isna().any()"
      ],
      "execution_count": 6,
      "outputs": [
        {
          "output_type": "execute_result",
          "data": {
            "text/plain": [
              "HC (%)        False\n",
              "NQF (%)       False\n",
              "C (%)         False\n",
              "Unnamed: 4    False\n",
              "Unnamed: 5    False\n",
              "Unnamed: 6    False\n",
              "Unnamed: 7    False\n",
              "dtype: bool"
            ]
          },
          "metadata": {
            "tags": []
          },
          "execution_count": 6
        }
      ]
    },
    {
      "cell_type": "code",
      "metadata": {
        "colab": {
          "base_uri": "https://localhost:8080/"
        },
        "id": "xIBe_n9J4beZ",
        "outputId": "d6b33749-5698-460e-eaeb-c436038849db"
      },
      "source": [
        "data.isna().sum().sum()"
      ],
      "execution_count": 7,
      "outputs": [
        {
          "output_type": "execute_result",
          "data": {
            "text/plain": [
              "0"
            ]
          },
          "metadata": {
            "tags": []
          },
          "execution_count": 7
        }
      ]
    },
    {
      "cell_type": "code",
      "metadata": {
        "id": "kWXtEhdE5zNj"
      },
      "source": [
        "data.rename(columns = {'Unnamed: 4':'Ac','Unnamed: 5':'Φ','Unnamed: 6':'Cc','Unnamed: 7':'Cu'}, inplace = True) # Changing the column names"
      ],
      "execution_count": 8,
      "outputs": []
    },
    {
      "cell_type": "markdown",
      "metadata": {
        "id": "m7N_LSY_5dXG"
      },
      "source": [
        "**Conduct Pearson’s regression to determine the agreement between all parameters with the outputs (Cu and Cc) and present basic linear fittings.**"
      ]
    },
    {
      "cell_type": "code",
      "metadata": {
        "id": "qIfw_4le5grj"
      },
      "source": [
        "x = data['Cc'] # taking the Cc column\r\n",
        "y = data['Cu'] # taking the Cu column"
      ],
      "execution_count": 9,
      "outputs": []
    },
    {
      "cell_type": "code",
      "metadata": {
        "id": "-k_edq-I558i"
      },
      "source": [
        "from scipy.stats import pearsonr "
      ],
      "execution_count": 10,
      "outputs": []
    },
    {
      "cell_type": "code",
      "metadata": {
        "colab": {
          "base_uri": "https://localhost:8080/"
        },
        "id": "BTFKVEaV58mk",
        "outputId": "96c881b7-11e3-458d-ac93-eb2b1c2eaeeb"
      },
      "source": [
        "r, _  = pearsonr(x,y) # calculating the pearson's correlation coefficient for two variables\r\n",
        "r "
      ],
      "execution_count": 11,
      "outputs": [
        {
          "output_type": "execute_result",
          "data": {
            "text/plain": [
              "0.9657678969639489"
            ]
          },
          "metadata": {
            "tags": []
          },
          "execution_count": 11
        }
      ]
    },
    {
      "cell_type": "code",
      "metadata": {
        "colab": {
          "base_uri": "https://localhost:8080/"
        },
        "id": "rfRwfjyv5_C2",
        "outputId": "c170bb1d-7030-4833-e387-181d46d012e9"
      },
      "source": [
        "np.corrcoef(x, y)"
      ],
      "execution_count": 12,
      "outputs": [
        {
          "output_type": "execute_result",
          "data": {
            "text/plain": [
              "array([[1.       , 0.9657679],\n",
              "       [0.9657679, 1.       ]])"
            ]
          },
          "metadata": {
            "tags": []
          },
          "execution_count": 12
        }
      ]
    },
    {
      "cell_type": "code",
      "metadata": {
        "colab": {
          "base_uri": "https://localhost:8080/"
        },
        "id": "ONlqxBhO6Cct",
        "outputId": "a686b55c-acce-4bbe-ccac-14ea24195941"
      },
      "source": [
        "corMat = data.corr()\r\n",
        "print(corMat)"
      ],
      "execution_count": 13,
      "outputs": [
        {
          "output_type": "stream",
          "text": [
            "           HC (%)   NQF (%)     C (%)        Ac         Φ        Cc        Cu\n",
            "HC (%)   1.000000  1.000000  0.996439 -0.993883  0.992387  0.994610  0.982764\n",
            "NQF (%)  1.000000  1.000000  0.996439 -0.993883  0.992387  0.994610  0.982764\n",
            "C (%)    0.996439  0.996439  1.000000 -0.997008  0.993742  0.984554  0.983685\n",
            "Ac      -0.993883 -0.993883 -0.997008  1.000000 -0.991463 -0.983404 -0.981070\n",
            "Φ        0.992387  0.992387  0.993742 -0.991463  1.000000  0.980971  0.972374\n",
            "Cc       0.994610  0.994610  0.984554 -0.983404  0.980971  1.000000  0.965768\n",
            "Cu       0.982764  0.982764  0.983685 -0.981070  0.972374  0.965768  1.000000\n"
          ],
          "name": "stdout"
        }
      ]
    },
    {
      "cell_type": "code",
      "metadata": {
        "colab": {
          "base_uri": "https://localhost:8080/",
          "height": 269
        },
        "id": "nf-Gy8Kl6GgZ",
        "outputId": "a365f387-2b6c-4d76-b73e-440d29e49a97"
      },
      "source": [
        "sns.heatmap(corMat, annot=True)\r\n",
        "plt.show()"
      ],
      "execution_count": 14,
      "outputs": [
        {
          "output_type": "display_data",
          "data": {
            "image/png": "[encoded data removed]",
            "text/plain": [
              "<Figure size 432x288 with 2 Axes>"
            ]
          },
          "metadata": {
            "tags": [],
            "needs_background": "light"
          }
        }
      ]
    },
    {
      "cell_type": "markdown",
      "metadata": {
        "id": "pdi04eHy6Q0r"
      },
      "source": [
        "From the above we can say that there is a positive correlation between Cc and Cu.\r\n",
        "\r\n",
        "which clearly says x and y both are strongly correlated with each other."
      ]
    },
    {
      "cell_type": "markdown",
      "metadata": {
        "id": "iXR2CzGu6ZY1"
      },
      "source": [
        "**Present frequency histograms of the variables.**"
      ]
    },
    {
      "cell_type": "code",
      "metadata": {
        "colab": {
          "base_uri": "https://localhost:8080/",
          "height": 299
        },
        "id": "GdgjVWQq6c3m",
        "outputId": "4c67952c-e504-4838-c39d-62e8dbffd092"
      },
      "source": [
        "sns.histplot(data=data, x=\"Cc\",kde=True) # histogram for the Cc variable"
      ],
      "execution_count": 15,
      "outputs": [
        {
          "output_type": "execute_result",
          "data": {
            "text/plain": [
              "<matplotlib.axes._subplots.AxesSubplot at 0x7f87126e02b0>"
            ]
          },
          "metadata": {
            "tags": []
          },
          "execution_count": 15
        },
        {
          "output_type": "display_data",
          "data": {
            "image/png": "[encoded data removed]",
            "text/plain": [
              "<Figure size 432x288 with 1 Axes>"
            ]
          },
          "metadata": {
            "tags": [],
            "needs_background": "light"
          }
        }
      ]
    },
    {
      "cell_type": "code",
      "metadata": {
        "colab": {
          "base_uri": "https://localhost:8080/",
          "height": 296
        },
        "id": "sjYj0dER6mfE",
        "outputId": "ed632a5b-2229-454e-fc73-a527d952b43a"
      },
      "source": [
        "sns.histplot(data=data, x=\"Cu\",color='grey',kde=True) # histogram for the Cu variable"
      ],
      "execution_count": 16,
      "outputs": [
        {
          "output_type": "execute_result",
          "data": {
            "text/plain": [
              "<matplotlib.axes._subplots.AxesSubplot at 0x7f8711f3ed30>"
            ]
          },
          "metadata": {
            "tags": []
          },
          "execution_count": 16
        },
        {
          "output_type": "display_data",
          "data": {
            "image/png": "[encoded data removed]",
            "text/plain": [
              "<Figure size 432x288 with 1 Axes>"
            ]
          },
          "metadata": {
            "tags": [],
            "needs_background": "light"
          }
        }
      ]
    },
    {
      "cell_type": "markdown",
      "metadata": {
        "id": "YVE08lB-6tVu"
      },
      "source": [
        "**Train, Validate and Test. Present the architecture of the program.**"
      ]
    },
    {
      "cell_type": "code",
      "metadata": {
        "id": "o3TdEx9o6vXY"
      },
      "source": [
        "from sklearn.linear_model import LinearRegression\r\n",
        "from sklearn.metrics import r2_score,mean_absolute_error,mean_squared_error\r\n",
        "from sklearn.preprocessing import PolynomialFeatures\r\n",
        "from sklearn.model_selection import train_test_split\r\n",
        "from sklearn.svm import SVR"
      ],
      "execution_count": 17,
      "outputs": []
    },
    {
      "cell_type": "code",
      "metadata": {
        "id": "Gv0QiJ6A66Yw"
      },
      "source": [
        "features = data[['HC (%)','NQF (%)','C (%)','Ac','Φ']].values\r\n",
        "labels = data[['Cc']].values"
      ],
      "execution_count": 18,
      "outputs": []
    },
    {
      "cell_type": "code",
      "metadata": {
        "id": "F-4q0vWe7QM2"
      },
      "source": [
        "x_train,x_test,y_train,y_test = train_test_split(features,labels,test_size=0.2)"
      ],
      "execution_count": 19,
      "outputs": []
    },
    {
      "cell_type": "code",
      "metadata": {
        "colab": {
          "base_uri": "https://localhost:8080/"
        },
        "id": "bXaCzAeB7Siy",
        "outputId": "f0d5d580-6263-4836-a039-1fe44eb3fcf6"
      },
      "source": [
        "model =SVR(kernel='linear')  \r\n",
        "model.fit(x_train, y_train)"
      ],
      "execution_count": 20,
      "outputs": [
        {
          "output_type": "stream",
          "text": [
            "/usr/local/lib/python3.6/dist-packages/sklearn/utils/validation.py:760: DataConversionWarning: A column-vector y was passed when a 1d array was expected. Please change the shape of y to (n_samples, ), for example using ravel().\n",
            "  y = column_or_1d(y, warn=True)\n"
          ],
          "name": "stderr"
        },
        {
          "output_type": "execute_result",
          "data": {
            "text/plain": [
              "SVR(C=1.0, cache_size=200, coef0=0.0, degree=3, epsilon=0.1, gamma='scale',\n",
              "    kernel='linear', max_iter=-1, shrinking=True, tol=0.001, verbose=False)"
            ]
          },
          "metadata": {
            "tags": []
          },
          "execution_count": 20
        }
      ]
    },
    {
      "cell_type": "code",
      "metadata": {
        "colab": {
          "base_uri": "https://localhost:8080/"
        },
        "id": "3ZsjAerg7bQk",
        "outputId": "4b9deaad-2073-43ee-b531-03147103b212"
      },
      "source": [
        "y_pred1 = model.predict(x_test)\r\n",
        "y_pred1"
      ],
      "execution_count": 21,
      "outputs": [
        {
          "output_type": "execute_result",
          "data": {
            "text/plain": [
              "array([1.50072769, 1.26045835, 1.11773712, 1.70081763, 1.17780027,\n",
              "       1.45543724, 1.23786341, 1.12517376, 1.62941151, 1.25288758,\n",
              "       1.39509147, 1.60805003, 1.80941892, 1.71552804, 1.49308987,\n",
              "       1.53056048, 1.04350484, 1.73003727, 1.79524499, 1.636532  ,\n",
              "       1.05095825, 1.66501397, 1.59243907, 1.41805285, 1.21521819])"
            ]
          },
          "metadata": {
            "tags": []
          },
          "execution_count": 21
        }
      ]
    },
    {
      "cell_type": "code",
      "metadata": {
        "colab": {
          "base_uri": "https://localhost:8080/"
        },
        "id": "EQI8Ipg-8EgI",
        "outputId": "08fc53f4-3533-4a9a-8625-27dc741173ff"
      },
      "source": [
        "mean_absolute_error(y_test,y_pred1)"
      ],
      "execution_count": 22,
      "outputs": [
        {
          "output_type": "execute_result",
          "data": {
            "text/plain": [
              "0.026302851721515433"
            ]
          },
          "metadata": {
            "tags": []
          },
          "execution_count": 22
        }
      ]
    },
    {
      "cell_type": "code",
      "metadata": {
        "colab": {
          "base_uri": "https://localhost:8080/"
        },
        "id": "CGefAZjY8PXI",
        "outputId": "73475fc3-2615-47d4-bf80-93da30cc2217"
      },
      "source": [
        "mean_squared_error(y_test,y_pred1)"
      ],
      "execution_count": 23,
      "outputs": [
        {
          "output_type": "execute_result",
          "data": {
            "text/plain": [
              "0.0010322469535202928"
            ]
          },
          "metadata": {
            "tags": []
          },
          "execution_count": 23
        }
      ]
    },
    {
      "cell_type": "code",
      "metadata": {
        "colab": {
          "base_uri": "https://localhost:8080/"
        },
        "id": "pTM7aGCV8SDx",
        "outputId": "7b98ce44-7ba8-40f3-ea0f-dd6b0c6d4ae2"
      },
      "source": [
        "from math import sqrt\r\n",
        "rmse1 = sqrt(mean_squared_error(y_test,y_pred1)) # calculating the root mean squared error for actual and predicted values\r\n",
        "rmse1"
      ],
      "execution_count": 24,
      "outputs": [
        {
          "output_type": "execute_result",
          "data": {
            "text/plain": [
              "0.032128600242156406"
            ]
          },
          "metadata": {
            "tags": []
          },
          "execution_count": 24
        }
      ]
    },
    {
      "cell_type": "code",
      "metadata": {
        "colab": {
          "base_uri": "https://localhost:8080/"
        },
        "id": "ePUw9pW98Vfj",
        "outputId": "dc0d8919-e9f0-41f0-abf4-72aab0c54b49"
      },
      "source": [
        "r2_score(y_test,y_pred1)"
      ],
      "execution_count": 25,
      "outputs": [
        {
          "output_type": "execute_result",
          "data": {
            "text/plain": [
              "0.9832525752168809"
            ]
          },
          "metadata": {
            "tags": []
          },
          "execution_count": 25
        }
      ]
    },
    {
      "cell_type": "code",
      "metadata": {
        "id": "wFcSDzo98X3S"
      },
      "source": [
        "x11 = np.array(['MAE','MSE','RMSE','R2_error'])\r\n",
        "y11 = np.array([0.0346,0.0018,0.0435,0.9707])"
      ],
      "execution_count": 26,
      "outputs": []
    },
    {
      "cell_type": "code",
      "metadata": {
        "colab": {
          "base_uri": "https://localhost:8080/",
          "height": 297
        },
        "id": "qvLg8VRX8k3_",
        "outputId": "2fccd8e2-70a2-4cb4-a607-8e66b6424e07"
      },
      "source": [
        "plt.bar(x11,y11,color='y')\r\n",
        "plt.xlabel('Performance measure')\r\n",
        "plt.ylabel('value')"
      ],
      "execution_count": 27,
      "outputs": [
        {
          "output_type": "execute_result",
          "data": {
            "text/plain": [
              "Text(0, 0.5, 'value')"
            ]
          },
          "metadata": {
            "tags": []
          },
          "execution_count": 27
        },
        {
          "output_type": "display_data",
          "data": {
            "image/png": "[encoded data removed]",
            "text/plain": [
              "<Figure size 432x288 with 1 Axes>"
            ]
          },
          "metadata": {
            "tags": [],
            "needs_background": "light"
          }
        }
      ]
    },
    {
      "cell_type": "code",
      "metadata": {
        "id": "j7Z3PrKq8pWw"
      },
      "source": [
        "features1 = data[['HC (%)','NQF (%)','C (%)','Ac','Φ']].values\r\n",
        "labels1 = data[['Cu']].values"
      ],
      "execution_count": 28,
      "outputs": []
    },
    {
      "cell_type": "code",
      "metadata": {
        "id": "cRN_D7O88x02"
      },
      "source": [
        "x_train,x_test,y_train,y_test = train_test_split(features1,labels1,test_size=0.2)"
      ],
      "execution_count": 29,
      "outputs": []
    },
    {
      "cell_type": "code",
      "metadata": {
        "colab": {
          "base_uri": "https://localhost:8080/"
        },
        "id": "zjevW4Uk805Q",
        "outputId": "3a0236a0-80dd-4e3c-c541-e5f8685b4f8a"
      },
      "source": [
        "model1 =SVR(kernel='linear')  \r\n",
        "model1.fit(x_train, y_train)"
      ],
      "execution_count": 30,
      "outputs": [
        {
          "output_type": "stream",
          "text": [
            "/usr/local/lib/python3.6/dist-packages/sklearn/utils/validation.py:760: DataConversionWarning: A column-vector y was passed when a 1d array was expected. Please change the shape of y to (n_samples, ), for example using ravel().\n",
            "  y = column_or_1d(y, warn=True)\n"
          ],
          "name": "stderr"
        },
        {
          "output_type": "execute_result",
          "data": {
            "text/plain": [
              "SVR(C=1.0, cache_size=200, coef0=0.0, degree=3, epsilon=0.1, gamma='scale',\n",
              "    kernel='linear', max_iter=-1, shrinking=True, tol=0.001, verbose=False)"
            ]
          },
          "metadata": {
            "tags": []
          },
          "execution_count": 30
        }
      ]
    },
    {
      "cell_type": "code",
      "metadata": {
        "colab": {
          "base_uri": "https://localhost:8080/"
        },
        "id": "Oq4pe1xE87ht",
        "outputId": "841be986-d505-441f-880e-7e4c95bff34f"
      },
      "source": [
        "y_pred2 = model1.predict(x_test)\r\n",
        "y_pred2"
      ],
      "execution_count": 31,
      "outputs": [
        {
          "output_type": "execute_result",
          "data": {
            "text/plain": [
              "array([4.94430256, 4.50861089, 3.30838556, 1.67264375, 3.73310517,\n",
              "       3.65546434, 3.13338874, 2.13059694, 3.80951251, 4.87882048,\n",
              "       5.6244175 , 5.34248849, 1.87339927, 4.12992999, 3.94084302,\n",
              "       5.04991973, 4.91156152, 3.98450933, 4.06091668, 4.58907201,\n",
              "       4.78059735, 6.08069148, 3.23197821, 2.67999558, 4.49594517])"
            ]
          },
          "metadata": {
            "tags": []
          },
          "execution_count": 31
        }
      ]
    },
    {
      "cell_type": "code",
      "metadata": {
        "colab": {
          "base_uri": "https://localhost:8080/"
        },
        "id": "SlPzI6fH9Ajv",
        "outputId": "022878a3-76c4-4ac0-a65e-1cf3978e14b6"
      },
      "source": [
        "mean_absolute_error(y_test,y_pred2)"
      ],
      "execution_count": 32,
      "outputs": [
        {
          "output_type": "execute_result",
          "data": {
            "text/plain": [
              "0.1589009418235689"
            ]
          },
          "metadata": {
            "tags": []
          },
          "execution_count": 32
        }
      ]
    },
    {
      "cell_type": "code",
      "metadata": {
        "colab": {
          "base_uri": "https://localhost:8080/"
        },
        "id": "WTFhkqnP9Hax",
        "outputId": "e315c53b-0261-4b29-d7d3-760c3f85d75c"
      },
      "source": [
        "mean_squared_error(y_test,y_pred2)"
      ],
      "execution_count": 33,
      "outputs": [
        {
          "output_type": "execute_result",
          "data": {
            "text/plain": [
              "0.041514308776278576"
            ]
          },
          "metadata": {
            "tags": []
          },
          "execution_count": 33
        }
      ]
    },
    {
      "cell_type": "code",
      "metadata": {
        "colab": {
          "base_uri": "https://localhost:8080/"
        },
        "id": "PtwX06lk9J6B",
        "outputId": "c5f26576-9cf5-495b-eac3-7a963805789e"
      },
      "source": [
        "from math import sqrt\r\n",
        "rmse2 = sqrt(mean_squared_error(y_test,y_pred2)) # calculating the root mean squared error for actual and predicted values\r\n",
        "rmse2"
      ],
      "execution_count": 34,
      "outputs": [
        {
          "output_type": "execute_result",
          "data": {
            "text/plain": [
              "0.20375060435806952"
            ]
          },
          "metadata": {
            "tags": []
          },
          "execution_count": 34
        }
      ]
    },
    {
      "cell_type": "code",
      "metadata": {
        "colab": {
          "base_uri": "https://localhost:8080/"
        },
        "id": "aBE0dIDF9PL8",
        "outputId": "505cb4be-d2dd-4c6e-d26d-ecae3bbac05e"
      },
      "source": [
        "r2_score(y_test,y_pred2)"
      ],
      "execution_count": 35,
      "outputs": [
        {
          "output_type": "execute_result",
          "data": {
            "text/plain": [
              "0.9665474634921886"
            ]
          },
          "metadata": {
            "tags": []
          },
          "execution_count": 35
        }
      ]
    },
    {
      "cell_type": "code",
      "metadata": {
        "id": "QL5IGplN9S3E"
      },
      "source": [
        "x22 = np.array(['MAE','MSE','RMSE','R2_error'])\r\n",
        "y22 = np.array([0.1508,0.0468,0.2165,0.9710])"
      ],
      "execution_count": 36,
      "outputs": []
    },
    {
      "cell_type": "code",
      "metadata": {
        "colab": {
          "base_uri": "https://localhost:8080/",
          "height": 297
        },
        "id": "1J83Mt0B9hmY",
        "outputId": "a9c2d69e-0e2c-4408-9726-138846ef80a9"
      },
      "source": [
        "plt.bar(x22,y22,color='black')\r\n",
        "plt.xlabel('Performance measure')\r\n",
        "plt.ylabel('value')"
      ],
      "execution_count": 37,
      "outputs": [
        {
          "output_type": "execute_result",
          "data": {
            "text/plain": [
              "Text(0, 0.5, 'value')"
            ]
          },
          "metadata": {
            "tags": []
          },
          "execution_count": 37
        },
        {
          "output_type": "display_data",
          "data": {
            "image/png": "[encoded data removed]",
            "text/plain": [
              "<Figure size 432x288 with 1 Axes>"
            ]
          },
          "metadata": {
            "tags": [],
            "needs_background": "light"
          }
        }
      ]
    },
    {
      "cell_type": "code",
      "metadata": {
        "id": "MLCjcOhI9moD"
      },
      "source": [
        "from sklearn.model_selection import cross_validate,KFold,cross_val_score"
      ],
      "execution_count": 38,
      "outputs": []
    },
    {
      "cell_type": "code",
      "metadata": {
        "colab": {
          "base_uri": "https://localhost:8080/"
        },
        "id": "ZQGytfxK93sM",
        "outputId": "d7ef5325-2589-4f3a-f57a-f8287d1654f2"
      },
      "source": [
        "cross_val_score(SVR(),features,labels).mean()"
      ],
      "execution_count": 39,
      "outputs": [
        {
          "output_type": "stream",
          "text": [
            "/usr/local/lib/python3.6/dist-packages/sklearn/utils/validation.py:760: DataConversionWarning: A column-vector y was passed when a 1d array was expected. Please change the shape of y to (n_samples, ), for example using ravel().\n",
            "  y = column_or_1d(y, warn=True)\n",
            "/usr/local/lib/python3.6/dist-packages/sklearn/utils/validation.py:760: DataConversionWarning: A column-vector y was passed when a 1d array was expected. Please change the shape of y to (n_samples, ), for example using ravel().\n",
            "  y = column_or_1d(y, warn=True)\n",
            "/usr/local/lib/python3.6/dist-packages/sklearn/utils/validation.py:760: DataConversionWarning: A column-vector y was passed when a 1d array was expected. Please change the shape of y to (n_samples, ), for example using ravel().\n",
            "  y = column_or_1d(y, warn=True)\n",
            "/usr/local/lib/python3.6/dist-packages/sklearn/utils/validation.py:760: DataConversionWarning: A column-vector y was passed when a 1d array was expected. Please change the shape of y to (n_samples, ), for example using ravel().\n",
            "  y = column_or_1d(y, warn=True)\n",
            "/usr/local/lib/python3.6/dist-packages/sklearn/utils/validation.py:760: DataConversionWarning: A column-vector y was passed when a 1d array was expected. Please change the shape of y to (n_samples, ), for example using ravel().\n",
            "  y = column_or_1d(y, warn=True)\n"
          ],
          "name": "stderr"
        },
        {
          "output_type": "execute_result",
          "data": {
            "text/plain": [
              "-2.010203509686858"
            ]
          },
          "metadata": {
            "tags": []
          },
          "execution_count": 39
        }
      ]
    },
    {
      "cell_type": "code",
      "metadata": {
        "id": "X2_-s8IH98fa"
      },
      "source": [
        "a = data['Cc'].tail(25)\r\n",
        "b = np.array([1.00895766, 1.82389042, 1.57875141, 1.14317491, 1.49452863,\r\n",
        "       1.68006409, 1.21782752, 1.01701149, 1.70881927, 1.64461724,\r\n",
        "       1.31504796, 1.27801849, 1.23290444, 1.30732554, 1.57127924,\r\n",
        "       0.94377819, 1.46444108, 1.52429967, 1.24753227, 1.4274116 ,\r\n",
        "       1.48692389, 1.66588535, 1.72339571, 1.2252997 , 1.28542438])"
      ],
      "execution_count": 40,
      "outputs": []
    },
    {
      "cell_type": "code",
      "metadata": {
        "colab": {
          "base_uri": "https://localhost:8080/",
          "height": 296
        },
        "id": "5gxpSiHN-7H1",
        "outputId": "5377e94d-b2a0-43c1-c2be-6a8314fae232"
      },
      "source": [
        "plt.scatter(a,b,color='purple',marker='+')\r\n",
        "plt.xlabel('Actual Cc')\r\n",
        "plt.ylabel('Predicted Cc')"
      ],
      "execution_count": 41,
      "outputs": [
        {
          "output_type": "execute_result",
          "data": {
            "text/plain": [
              "Text(0, 0.5, 'Predicted Cc')"
            ]
          },
          "metadata": {
            "tags": []
          },
          "execution_count": 41
        },
        {
          "output_type": "display_data",
          "data": {
            "image/png": "[encoded data removed]",
            "text/plain": [
              "<Figure size 432x288 with 1 Axes>"
            ]
          },
          "metadata": {
            "tags": [],
            "needs_background": "light"
          }
        }
      ]
    },
    {
      "cell_type": "code",
      "metadata": {
        "id": "NW3Gh-se_BO9"
      },
      "source": [
        "c = data['Cu'].tail(25)\r\n",
        "d = np.array([2.00416167, 2.77294141, 3.3491031 , 4.53053006, 2.68588717,\r\n",
        "       3.44870994, 3.3838403 , 5.67870493, 1.65970393, 5.82395275,\r\n",
        "       4.80363755, 4.34193559, 4.44459924, 5.43807766, 5.34340724,\r\n",
        "       1.73951936, 6.03543279, 3.31897067, 5.18880361, 4.00592921,\r\n",
        "       4.08339685, 5.24873682, 4.94258636, 2.23923397, 5.09413318])"
      ],
      "execution_count": 42,
      "outputs": []
    },
    {
      "cell_type": "code",
      "metadata": {
        "colab": {
          "base_uri": "https://localhost:8080/",
          "height": 296
        },
        "id": "6npoSHX1_QB9",
        "outputId": "4b9d7dc6-8e76-4452-993e-ae60c504196a"
      },
      "source": [
        "plt.scatter(c,d,color='grey',marker='D')\r\n",
        "plt.xlabel('Actual Cu')\r\n",
        "plt.ylabel('Predicted Cu')"
      ],
      "execution_count": 43,
      "outputs": [
        {
          "output_type": "execute_result",
          "data": {
            "text/plain": [
              "Text(0, 0.5, 'Predicted Cu')"
            ]
          },
          "metadata": {
            "tags": []
          },
          "execution_count": 43
        },
        {
          "output_type": "display_data",
          "data": {
            "image/png": "[encoded data removed]",
            "text/plain": [
              "<Figure size 432x288 with 1 Axes>"
            ]
          },
          "metadata": {
            "tags": [],
            "needs_background": "light"
          }
        }
      ]
    },
    {
      "cell_type": "markdown",
      "metadata": {
        "id": "1FnsSxe-_sD7"
      },
      "source": [
        "**Present the parametric study graph**"
      ]
    },
    {
      "cell_type": "code",
      "metadata": {
        "colab": {
          "base_uri": "https://localhost:8080/",
          "height": 281
        },
        "id": "sM1XKacY_wUP",
        "outputId": "bb249928-e50b-4a3a-ba4c-c860ceed6513"
      },
      "source": [
        "z = data['Cc']\r\n",
        "plt.plot(z,color='indigo')\r\n",
        "plt.title('Cc')\r\n",
        "plt.grid()"
      ],
      "execution_count": 44,
      "outputs": [
        {
          "output_type": "display_data",
          "data": {
            "image/png": "[encoded data removed]",
            "text/plain": [
              "<Figure size 432x288 with 1 Axes>"
            ]
          },
          "metadata": {
            "tags": [],
            "needs_background": "light"
          }
        }
      ]
    },
    {
      "cell_type": "code",
      "metadata": {
        "colab": {
          "base_uri": "https://localhost:8080/",
          "height": 281
        },
        "id": "MIstXbPvJMjZ",
        "outputId": "38484c9e-8a96-4a35-c451-f4483751b9eb"
      },
      "source": [
        "p = data['Cu']\r\n",
        "plt.plot(p,color='red')\r\n",
        "plt.title('Cu')\r\n",
        "plt.grid()"
      ],
      "execution_count": 45,
      "outputs": [
        {
          "output_type": "display_data",
          "data": {
            "image/png": "[encoded data removed]",
            "text/plain": [
              "<Figure size 432x288 with 1 Axes>"
            ]
          },
          "metadata": {
            "tags": [],
            "needs_background": "light"
          }
        }
      ]
    },
    {
      "cell_type": "markdown",
      "metadata": {
        "id": "Nd-4-K30JZ8J"
      },
      "source": [
        "**Conduct sensitivity analysis to determine the influence of each parameter on the predicted parameters.**"
      ]
    },
    {
      "cell_type": "code",
      "metadata": {
        "colab": {
          "base_uri": "https://localhost:8080/"
        },
        "id": "QK6E4VDXJbec",
        "outputId": "8fcd77f9-f6a7-4dd3-bca0-9a254f91a3f2"
      },
      "source": [
        "from sklearn.datasets import make_regression\r\n",
        "from xgboost import XGBRegressor\r\n",
        "\r\n",
        "M, n = make_regression(n_samples=500, n_features=5, n_informative=2, noise=0.3)\r\n",
        "M = pd.DataFrame(M, columns=['HC (%)','NQF (%)','C (%)','Ac','Φ'])\r\n",
        "\r\n",
        "model = XGBRegressor()\r\n",
        "model.fit(M, n)"
      ],
      "execution_count": 46,
      "outputs": [
        {
          "output_type": "stream",
          "text": [
            "[12:43:35] WARNING: /workspace/src/objective/regression_obj.cu:152: reg:linear is now deprecated in favor of reg:squarederror.\n"
          ],
          "name": "stdout"
        },
        {
          "output_type": "execute_result",
          "data": {
            "text/plain": [
              "XGBRegressor(base_score=0.5, booster='gbtree', colsample_bylevel=1,\n",
              "             colsample_bynode=1, colsample_bytree=1, gamma=0,\n",
              "             importance_type='gain', learning_rate=0.1, max_delta_step=0,\n",
              "             max_depth=3, min_child_weight=1, missing=None, n_estimators=100,\n",
              "             n_jobs=1, nthread=None, objective='reg:linear', random_state=0,\n",
              "             reg_alpha=0, reg_lambda=1, scale_pos_weight=1, seed=None,\n",
              "             silent=None, subsample=1, verbosity=1)"
            ]
          },
          "metadata": {
            "tags": []
          },
          "execution_count": 46
        }
      ]
    },
    {
      "cell_type": "code",
      "metadata": {
        "colab": {
          "base_uri": "https://localhost:8080/",
          "height": 297
        },
        "id": "pQGu200sJfGo",
        "outputId": "72d6d00d-9ec0-4c2e-fc9e-89d52c06f8d8"
      },
      "source": [
        "class Simulate:\r\n",
        "    def __init__(self, obs, var):\r\n",
        "        self.obs = obs\r\n",
        "        self.var = var\r\n",
        "\r\n",
        "    def simulate_increase(self, model, percentage):\r\n",
        "        baseline = model.predict(self.obs)\r\n",
        "        plus = {}\r\n",
        "        for ivar in self.var:\r\n",
        "            M_plus = self.obs.copy()\r\n",
        "            M_plus[ivar] = M_plus[ivar] + M_plus[ivar] * (percentage / 100)\r\n",
        "            plus[ivar] = model.predict(M_plus)\r\n",
        "        b = pd.DataFrame(\r\n",
        "            plus, index=['simulated'\r\n",
        "                         ]).T.reset_index().rename(columns={'index': 'test'})\r\n",
        "        b['baseline'] = baseline[0]\r\n",
        "        return b\r\n",
        "\r\n",
        "    @staticmethod\r\n",
        "    def plot_simulation(d, **kwargs):\r\n",
        "        fig, ax = plt.subplots()\r\n",
        "        sns.barplot(x='test', y='simulated', data=d, palette='deep', ax=ax)\r\n",
        "        ax.axhline(d['baseline'].values[0], color='grey', linestyle='--', linewidth=2)\r\n",
        "        ax.plot([0, 0], [-100, -100], color='grey', linestyle='--', linewidth=2, label='baseline')\r\n",
        "\r\n",
        "        maxi = int(d['simulated'].max() + d['simulated'].max() * 0.1)\r\n",
        "        mini = int(d['simulated'].min() - d['simulated'].min() * 0.1)\r\n",
        "        ax.set_ylim([mini, maxi])\r\n",
        "\r\n",
        "        ax.set_xlabel('Simulated variables')\r\n",
        "        ax.set_ylabel('Target value')\r\n",
        "        ax.set_title(kwargs.get('title'))\r\n",
        "        ax.legend()\r\n",
        "\r\n",
        "        ax.grid(axis='y', linewidth=.3)\r\n",
        "        sns.despine(offset=10, trim=True)\r\n",
        "        plt.tight_layout()\r\n",
        "        plt.show()\r\n",
        "\r\n",
        "\r\n",
        "VAR_OPTIMIZE = ['HC (%)','NQF (%)','C (%)','Ac','Φ']\r\n",
        "PERC = 5\r\n",
        "ROW = M.iloc[[29]]\r\n",
        "\r\n",
        "S = Simulate(obs=ROW, var=VAR_OPTIMIZE)\r\n",
        "d = S.simulate_increase(model=model, percentage=PERC)\r\n",
        "S.plot_simulation(d, title=f'Impact of a {PERC}% increase of {VAR_OPTIMIZE} in target value')"
      ],
      "execution_count": 47,
      "outputs": [
        {
          "output_type": "display_data",
          "data": {
            "image/png": "[encoded data removed]",
            "text/plain": [
              "<Figure size 432x288 with 1 Axes>"
            ]
          },
          "metadata": {
            "tags": [],
            "needs_background": "light"
          }
        }
      ]
    },
    {
      "cell_type": "code",
      "metadata": {
        "id": "ioclLHSGFTyq"
      },
      "source": [
        ""
      ],
      "execution_count": 47,
      "outputs": []
    },
    {
      "cell_type": "code",
      "metadata": {
        "colab": {
          "base_uri": "https://localhost:8080/",
          "height": 296
        },
        "id": "-awsiJorKA59",
        "outputId": "7808da4c-7fee-4db0-bfe6-78b1da6bcaff"
      },
      "source": [
        "print(__doc__)\r\n",
        "\r\n",
        "import numpy as np\r\n",
        "import matplotlib.pyplot as plt\r\n",
        "from sklearn import svm\r\n",
        "from sklearn.datasets import make_blobs\r\n",
        "\r\n",
        "\r\n",
        "# we create 40 separable points\r\n",
        "X, y = make_blobs(n_samples=40, centers=2, random_state=6)\r\n",
        "\r\n",
        "# fit the model, don't regularize for illustration purposes\r\n",
        "clf = svm.SVC(kernel='linear', C=1000)\r\n",
        "clf.fit(X, y)\r\n",
        "\r\n",
        "plt.scatter(X[:, 0], X[:, 1], c=y, s=30, cmap=plt.cm.Paired)\r\n",
        "\r\n",
        "# plot the decision function\r\n",
        "ax = plt.gca()\r\n",
        "xlim = ax.get_xlim()\r\n",
        "ylim = ax.get_ylim()\r\n",
        "\r\n",
        "# create grid to evaluate model\r\n",
        "xx = np.linspace(xlim[0], xlim[1], 30)\r\n",
        "yy = np.linspace(ylim[0], ylim[1], 30)\r\n",
        "YY, XX = np.meshgrid(yy, xx)\r\n",
        "xy = np.vstack([XX.ravel(), YY.ravel()]).T\r\n",
        "Z = clf.decision_function(xy).reshape(XX.shape)\r\n",
        "\r\n",
        "# plot decision boundary and margins\r\n",
        "ax.contour(XX, YY, Z, colors='k', levels=[-1, 0, 1], alpha=0.5,\r\n",
        "           linestyles=['--', '-', '--'])\r\n",
        "# plot support vectors\r\n",
        "ax.scatter(clf.support_vectors_[:, 0], clf.support_vectors_[:, 1], s=100,\r\n",
        "           linewidth=1, facecolors='none', edgecolors='k')\r\n",
        "plt.xlabel('Actual Cu')\r\n",
        "plt.ylabel('Predicted Cu')\r\n",
        "plt.grid()\r\n",
        "ax.set_facecolor('#EAEAF2')\r\n",
        "\r\n",
        "plt.show()"
      ],
      "execution_count": 48,
      "outputs": [
        {
          "output_type": "stream",
          "text": [
            "Automatically created module for IPython interactive environment\n"
          ],
          "name": "stdout"
        },
        {
          "output_type": "display_data",
          "data": {
            "image/png": "[encoded data removed]",
            "text/plain": [
              "<Figure size 432x288 with 1 Axes>"
            ]
          },
          "metadata": {
            "tags": [],
            "needs_background": "light"
          }
        }
      ]
    }
  ]
}