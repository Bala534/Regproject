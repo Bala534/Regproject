{
  "nbformat": 4,
  "nbformat_minor": 0,
  "metadata": {
    "colab": {
      "name": "Cc and Cu(SVM)",
      "provenance": [],
      "collapsed_sections": [],
      "authorship_tag": "ABX9TyNQ+TD3ENIAbrwmPh/dvWhQ",
      "include_colab_link": true
    },
    "kernelspec": {
      "name": "python3",
      "display_name": "Python 3"
    }
  },
  "cells": [
    {
      "cell_type": "markdown",
      "metadata": {
        "id": "view-in-github",
        "colab_type": "text"
      },
      "source": [
        "<a href=\"https://colab.research.google.com/github/Bala534/Regproject/blob/main/Cc_and_Cu(SVM).ipynb\" target=\"_parent\"><img src=\"https://colab.research.google.com/assets/colab-badge.svg\" alt=\"Open In Colab\"/></a>"
      ]
    },
    {
      "cell_type": "code",
      "metadata": {
        "id": "dlKeInoi28i6"
      },
      "source": [
        "import numpy as np\r\n",
        "import pandas as pd\r\n",
        "import matplotlib.pyplot as plt\r\n",
        "%matplotlib inline\r\n",
        "import seaborn as sns"
      ],
      "execution_count": 9,
      "outputs": []
    },
    {
      "cell_type": "code",
      "metadata": {
        "id": "2Uk_SQ6W4Dim"
      },
      "source": [
        "from pandas import ExcelWriter\r\n",
        "from pandas import ExcelFile"
      ],
      "execution_count": 10,
      "outputs": []
    },
    {
      "cell_type": "code",
      "metadata": {
        "colab": {
          "base_uri": "https://localhost:8080/",
          "height": 195
        },
        "id": "83Owt6W44Nc7",
        "outputId": "ba6be4cc-6f96-407b-f801-93bfb0c0a0b7"
      },
      "source": [
        "data = pd.read_excel('Cu and Cu Table of Data.xlsx')\r\n",
        "data.head()"
      ],
      "execution_count": 11,
      "outputs": [
        {
          "output_type": "execute_result",
          "data": {
            "text/html": [
              "<div>\n",
              "<style scoped>\n",
              "    .dataframe tbody tr th:only-of-type {\n",
              "        vertical-align: middle;\n",
              "    }\n",
              "\n",
              "    .dataframe tbody tr th {\n",
              "        vertical-align: top;\n",
              "    }\n",
              "\n",
              "    .dataframe thead th {\n",
              "        text-align: right;\n",
              "    }\n",
              "</style>\n",
              "<table border=\"1\" class=\"dataframe\">\n",
              "  <thead>\n",
              "    <tr style=\"text-align: right;\">\n",
              "      <th></th>\n",
              "      <th>S NO</th>\n",
              "      <th>HC (%)</th>\n",
              "      <th>NQF (%)</th>\n",
              "      <th>C (%)</th>\n",
              "      <th>Unnamed: 4</th>\n",
              "      <th>Unnamed: 5</th>\n",
              "      <th>Unnamed: 6</th>\n",
              "      <th>Unnamed: 7</th>\n",
              "    </tr>\n",
              "  </thead>\n",
              "  <tbody>\n",
              "    <tr>\n",
              "      <th>0</th>\n",
              "      <td>1</td>\n",
              "      <td>0.0</td>\n",
              "      <td>0.00</td>\n",
              "      <td>23.02</td>\n",
              "      <td>2.00</td>\n",
              "      <td>15.00</td>\n",
              "      <td>0.84</td>\n",
              "      <td>2.05</td>\n",
              "    </tr>\n",
              "    <tr>\n",
              "      <th>1</th>\n",
              "      <td>2</td>\n",
              "      <td>0.1</td>\n",
              "      <td>0.01</td>\n",
              "      <td>23.02</td>\n",
              "      <td>1.98</td>\n",
              "      <td>15.01</td>\n",
              "      <td>0.85</td>\n",
              "      <td>2.05</td>\n",
              "    </tr>\n",
              "    <tr>\n",
              "      <th>2</th>\n",
              "      <td>3</td>\n",
              "      <td>0.2</td>\n",
              "      <td>0.02</td>\n",
              "      <td>23.03</td>\n",
              "      <td>1.96</td>\n",
              "      <td>15.04</td>\n",
              "      <td>0.86</td>\n",
              "      <td>2.06</td>\n",
              "    </tr>\n",
              "    <tr>\n",
              "      <th>3</th>\n",
              "      <td>4</td>\n",
              "      <td>0.3</td>\n",
              "      <td>0.03</td>\n",
              "      <td>23.03</td>\n",
              "      <td>1.96</td>\n",
              "      <td>15.09</td>\n",
              "      <td>0.87</td>\n",
              "      <td>2.06</td>\n",
              "    </tr>\n",
              "    <tr>\n",
              "      <th>4</th>\n",
              "      <td>5</td>\n",
              "      <td>0.4</td>\n",
              "      <td>0.04</td>\n",
              "      <td>23.04</td>\n",
              "      <td>1.93</td>\n",
              "      <td>15.14</td>\n",
              "      <td>0.88</td>\n",
              "      <td>2.06</td>\n",
              "    </tr>\n",
              "  </tbody>\n",
              "</table>\n",
              "</div>"
            ],
            "text/plain": [
              "   S NO  HC (%)  NQF (%)  C (%)  Unnamed: 4  Unnamed: 5  Unnamed: 6  Unnamed: 7\n",
              "0     1     0.0     0.00  23.02        2.00       15.00        0.84        2.05\n",
              "1     2     0.1     0.01  23.02        1.98       15.01        0.85        2.05\n",
              "2     3     0.2     0.02  23.03        1.96       15.04        0.86        2.06\n",
              "3     4     0.3     0.03  23.03        1.96       15.09        0.87        2.06\n",
              "4     5     0.4     0.04  23.04        1.93       15.14        0.88        2.06"
            ]
          },
          "metadata": {
            "tags": []
          },
          "execution_count": 11
        }
      ]
    },
    {
      "cell_type": "code",
      "metadata": {
        "id": "7N4OhYMH4Vyl"
      },
      "source": [
        "del data['S NO']"
      ],
      "execution_count": 12,
      "outputs": []
    },
    {
      "cell_type": "code",
      "metadata": {
        "colab": {
          "base_uri": "https://localhost:8080/"
        },
        "id": "-nlR5I1W4Ybw",
        "outputId": "50498a24-95b3-44db-ce22-693e63fa9421"
      },
      "source": [
        "data.shape"
      ],
      "execution_count": 13,
      "outputs": [
        {
          "output_type": "execute_result",
          "data": {
            "text/plain": [
              "(121, 7)"
            ]
          },
          "metadata": {
            "tags": []
          },
          "execution_count": 13
        }
      ]
    },
    {
      "cell_type": "code",
      "metadata": {
        "colab": {
          "base_uri": "https://localhost:8080/"
        },
        "id": "_UxhF1os4Zou",
        "outputId": "526f0656-4f5d-4f2d-99f7-660ab1c390cf"
      },
      "source": [
        "data.isna().any()"
      ],
      "execution_count": 14,
      "outputs": [
        {
          "output_type": "execute_result",
          "data": {
            "text/plain": [
              "HC (%)        False\n",
              "NQF (%)       False\n",
              "C (%)         False\n",
              "Unnamed: 4    False\n",
              "Unnamed: 5    False\n",
              "Unnamed: 6    False\n",
              "Unnamed: 7    False\n",
              "dtype: bool"
            ]
          },
          "metadata": {
            "tags": []
          },
          "execution_count": 14
        }
      ]
    },
    {
      "cell_type": "code",
      "metadata": {
        "colab": {
          "base_uri": "https://localhost:8080/"
        },
        "id": "xIBe_n9J4beZ",
        "outputId": "de317f22-9c17-4bcb-9079-4c008f230976"
      },
      "source": [
        "data.isna().sum().sum()"
      ],
      "execution_count": 15,
      "outputs": [
        {
          "output_type": "execute_result",
          "data": {
            "text/plain": [
              "0"
            ]
          },
          "metadata": {
            "tags": []
          },
          "execution_count": 15
        }
      ]
    },
    {
      "cell_type": "code",
      "metadata": {
        "id": "kWXtEhdE5zNj"
      },
      "source": [
        "data.rename(columns = {'Unnamed: 4':'Ac','Unnamed: 5':'Φ','Unnamed: 6':'Cc','Unnamed: 7':'Cu'}, inplace = True) # Changing the column names"
      ],
      "execution_count": 17,
      "outputs": []
    },
    {
      "cell_type": "markdown",
      "metadata": {
        "id": "m7N_LSY_5dXG"
      },
      "source": [
        "**Conduct Pearson’s regression to determine the agreement between all parameters with the outputs (Cu and Cc) and present basic linear fittings.**"
      ]
    },
    {
      "cell_type": "code",
      "metadata": {
        "id": "qIfw_4le5grj"
      },
      "source": [
        "x = data['Cc'] # taking the Cc column\r\n",
        "y = data['Cu'] # taking the Cu column"
      ],
      "execution_count": 18,
      "outputs": []
    },
    {
      "cell_type": "code",
      "metadata": {
        "id": "-k_edq-I558i"
      },
      "source": [
        "from scipy.stats import pearsonr "
      ],
      "execution_count": 19,
      "outputs": []
    },
    {
      "cell_type": "code",
      "metadata": {
        "colab": {
          "base_uri": "https://localhost:8080/"
        },
        "id": "BTFKVEaV58mk",
        "outputId": "396791f0-738a-4fc4-9a41-28bdeeb4a194"
      },
      "source": [
        "r, _  = pearsonr(x,y) # calculating the pearson's correlation coefficient for two variables\r\n",
        "r "
      ],
      "execution_count": 20,
      "outputs": [
        {
          "output_type": "execute_result",
          "data": {
            "text/plain": [
              "0.9657678969639488"
            ]
          },
          "metadata": {
            "tags": []
          },
          "execution_count": 20
        }
      ]
    },
    {
      "cell_type": "code",
      "metadata": {
        "colab": {
          "base_uri": "https://localhost:8080/"
        },
        "id": "rfRwfjyv5_C2",
        "outputId": "0381e6e9-8f44-4443-b4c1-d267967b5190"
      },
      "source": [
        "np.corrcoef(x, y)"
      ],
      "execution_count": 21,
      "outputs": [
        {
          "output_type": "execute_result",
          "data": {
            "text/plain": [
              "array([[1.       , 0.9657679],\n",
              "       [0.9657679, 1.       ]])"
            ]
          },
          "metadata": {
            "tags": []
          },
          "execution_count": 21
        }
      ]
    },
    {
      "cell_type": "code",
      "metadata": {
        "colab": {
          "base_uri": "https://localhost:8080/"
        },
        "id": "ONlqxBhO6Cct",
        "outputId": "34dc430e-6048-4ba1-a88e-2f183fb59900"
      },
      "source": [
        "corMat = data.corr()\r\n",
        "print(corMat)"
      ],
      "execution_count": 22,
      "outputs": [
        {
          "output_type": "stream",
          "text": [
            "           HC (%)   NQF (%)     C (%)        Ac         Φ        Cc        Cu\n",
            "HC (%)   1.000000  1.000000  0.996439 -0.993883  0.992387  0.994610  0.982764\n",
            "NQF (%)  1.000000  1.000000  0.996439 -0.993883  0.992387  0.994610  0.982764\n",
            "C (%)    0.996439  0.996439  1.000000 -0.997008  0.993742  0.984554  0.983685\n",
            "Ac      -0.993883 -0.993883 -0.997008  1.000000 -0.991463 -0.983404 -0.981070\n",
            "Φ        0.992387  0.992387  0.993742 -0.991463  1.000000  0.980971  0.972374\n",
            "Cc       0.994610  0.994610  0.984554 -0.983404  0.980971  1.000000  0.965768\n",
            "Cu       0.982764  0.982764  0.983685 -0.981070  0.972374  0.965768  1.000000\n"
          ],
          "name": "stdout"
        }
      ]
    },
    {
      "cell_type": "code",
      "metadata": {
        "colab": {
          "base_uri": "https://localhost:8080/",
          "height": 269
        },
        "id": "nf-Gy8Kl6GgZ",
        "outputId": "626cee42-c3fb-4827-a6ed-b76d32e4e14f"
      },
      "source": [
        "sns.heatmap(corMat, annot=True)\r\n",
        "plt.show()"
      ],
      "execution_count": 23,
      "outputs": [
        {
          "output_type": "display_data",
          "data": {
            "image/png": "[encoded data removed]",
            "text/plain": [
              "<Figure size 432x288 with 2 Axes>"
            ]
          },
          "metadata": {
            "tags": [],
            "needs_background": "light"
          }
        }
      ]
    },
    {
      "cell_type": "markdown",
      "metadata": {
        "id": "pdi04eHy6Q0r"
      },
      "source": [
        "From the above we can say that there is a positive correlation between Cc and Cu.\r\n",
        "\r\n",
        "which clearly says x and y both are strongly correlated with each other."
      ]
    },
    {
      "cell_type": "markdown",
      "metadata": {
        "id": "iXR2CzGu6ZY1"
      },
      "source": [
        "**Present frequency histograms of the variables.**"
      ]
    },
    {
      "cell_type": "code",
      "metadata": {
        "colab": {
          "base_uri": "https://localhost:8080/",
          "height": 299
        },
        "id": "GdgjVWQq6c3m",
        "outputId": "9745c863-d522-42bb-ba0a-1fb19253a5d3"
      },
      "source": [
        "sns.histplot(data=data, x=\"Cc\",kde=True) # histogram for the Cc variable"
      ],
      "execution_count": 24,
      "outputs": [
        {
          "output_type": "execute_result",
          "data": {
            "text/plain": [
              "<matplotlib.axes._subplots.AxesSubplot at 0x7f8f00aab710>"
            ]
          },
          "metadata": {
            "tags": []
          },
          "execution_count": 24
        },
        {
          "output_type": "display_data",
          "data": {
            "image/png": "[encoded data removed]",
            "text/plain": [
              "<Figure size 432x288 with 1 Axes>"
            ]
          },
          "metadata": {
            "tags": [],
            "needs_background": "light"
          }
        }
      ]
    },
    {
      "cell_type": "code",
      "metadata": {
        "colab": {
          "base_uri": "https://localhost:8080/",
          "height": 296
        },
        "id": "sjYj0dER6mfE",
        "outputId": "ad0bbdb1-d096-4b5b-ee1c-543160bb553d"
      },
      "source": [
        "sns.histplot(data=data, x=\"Cu\",color='grey',kde=True) # histogram for the Cu variable"
      ],
      "execution_count": 25,
      "outputs": [
        {
          "output_type": "execute_result",
          "data": {
            "text/plain": [
              "<matplotlib.axes._subplots.AxesSubplot at 0x7f8f034adda0>"
            ]
          },
          "metadata": {
            "tags": []
          },
          "execution_count": 25
        },
        {
          "output_type": "display_data",
          "data": {
            "image/png": "[encoded data removed]",
            "text/plain": [
              "<Figure size 432x288 with 1 Axes>"
            ]
          },
          "metadata": {
            "tags": [],
            "needs_background": "light"
          }
        }
      ]
    },
    {
      "cell_type": "markdown",
      "metadata": {
        "id": "YVE08lB-6tVu"
      },
      "source": [
        "**Train, Validate and Test. Present the architecture of the program.**"
      ]
    },
    {
      "cell_type": "code",
      "metadata": {
        "id": "o3TdEx9o6vXY"
      },
      "source": [
        "from sklearn.linear_model import LinearRegression\r\n",
        "from sklearn.metrics import r2_score,mean_absolute_error,mean_squared_error\r\n",
        "from sklearn.preprocessing import PolynomialFeatures\r\n",
        "from sklearn.model_selection import train_test_split\r\n",
        "from sklearn.svm import SVR"
      ],
      "execution_count": 34,
      "outputs": []
    },
    {
      "cell_type": "code",
      "metadata": {
        "id": "Gv0QiJ6A66Yw"
      },
      "source": [
        "features = data[['HC (%)','NQF (%)','C (%)','Ac','Φ']].values\r\n",
        "labels = data[['Cc']].values"
      ],
      "execution_count": 35,
      "outputs": []
    },
    {
      "cell_type": "code",
      "metadata": {
        "id": "F-4q0vWe7QM2"
      },
      "source": [
        "x_train,x_test,y_train,y_test = train_test_split(features,labels,test_size=0.2)"
      ],
      "execution_count": 36,
      "outputs": []
    },
    {
      "cell_type": "code",
      "metadata": {
        "colab": {
          "base_uri": "https://localhost:8080/"
        },
        "id": "bXaCzAeB7Siy",
        "outputId": "6594f2a0-a982-4c3c-e3f3-bcb3800d6604"
      },
      "source": [
        "model =SVR(kernel='linear')  \r\n",
        "model.fit(x_train, y_train)"
      ],
      "execution_count": 38,
      "outputs": [
        {
          "output_type": "stream",
          "text": [
            "/usr/local/lib/python3.6/dist-packages/sklearn/utils/validation.py:760: DataConversionWarning: A column-vector y was passed when a 1d array was expected. Please change the shape of y to (n_samples, ), for example using ravel().\n",
            "  y = column_or_1d(y, warn=True)\n"
          ],
          "name": "stderr"
        },
        {
          "output_type": "execute_result",
          "data": {
            "text/plain": [
              "SVR(C=1.0, cache_size=200, coef0=0.0, degree=3, epsilon=0.1, gamma='scale',\n",
              "    kernel='linear', max_iter=-1, shrinking=True, tol=0.001, verbose=False)"
            ]
          },
          "metadata": {
            "tags": []
          },
          "execution_count": 38
        }
      ]
    },
    {
      "cell_type": "code",
      "metadata": {
        "colab": {
          "base_uri": "https://localhost:8080/"
        },
        "id": "3ZsjAerg7bQk",
        "outputId": "5f5bee72-3ab0-4b2e-f29c-1508a8a3eb0c"
      },
      "source": [
        "y_pred1 = model.predict(x_test)\r\n",
        "y_pred1"
      ],
      "execution_count": 39,
      "outputs": [
        {
          "output_type": "execute_result",
          "data": {
            "text/plain": [
              "array([1.00895766, 1.82389042, 1.57875141, 1.14317491, 1.49452863,\n",
              "       1.68006409, 1.21782752, 1.01701149, 1.70881927, 1.64461724,\n",
              "       1.31504796, 1.27801849, 1.23290444, 1.30732554, 1.57127924,\n",
              "       0.94377819, 1.46444108, 1.52429967, 1.24753227, 1.4274116 ,\n",
              "       1.48692389, 1.66588535, 1.72339571, 1.2252997 , 1.28542438])"
            ]
          },
          "metadata": {
            "tags": []
          },
          "execution_count": 39
        }
      ]
    },
    {
      "cell_type": "code",
      "metadata": {
        "colab": {
          "base_uri": "https://localhost:8080/"
        },
        "id": "EQI8Ipg-8EgI",
        "outputId": "03c71a68-4c0e-47e3-d573-2aa9b0cc9510"
      },
      "source": [
        "mean_absolute_error(y_test,y_pred1)"
      ],
      "execution_count": 40,
      "outputs": [
        {
          "output_type": "execute_result",
          "data": {
            "text/plain": [
              "0.034682960358232554"
            ]
          },
          "metadata": {
            "tags": []
          },
          "execution_count": 40
        }
      ]
    },
    {
      "cell_type": "code",
      "metadata": {
        "colab": {
          "base_uri": "https://localhost:8080/"
        },
        "id": "CGefAZjY8PXI",
        "outputId": "4741a03b-dcc2-4060-e72a-7cdcca48e13c"
      },
      "source": [
        "mean_squared_error(y_test,y_pred1)"
      ],
      "execution_count": 41,
      "outputs": [
        {
          "output_type": "execute_result",
          "data": {
            "text/plain": [
              "0.0018993085134429103"
            ]
          },
          "metadata": {
            "tags": []
          },
          "execution_count": 41
        }
      ]
    },
    {
      "cell_type": "code",
      "metadata": {
        "colab": {
          "base_uri": "https://localhost:8080/"
        },
        "id": "pTM7aGCV8SDx",
        "outputId": "a2630f14-ad7e-405b-b02b-7dd73bfafcfe"
      },
      "source": [
        "from math import sqrt\r\n",
        "rmse1 = sqrt(mean_squared_error(y_test,y_pred1)) # calculating the root mean squared error for actual and predicted values\r\n",
        "rmse1"
      ],
      "execution_count": 42,
      "outputs": [
        {
          "output_type": "execute_result",
          "data": {
            "text/plain": [
              "0.04358105681879353"
            ]
          },
          "metadata": {
            "tags": []
          },
          "execution_count": 42
        }
      ]
    },
    {
      "cell_type": "code",
      "metadata": {
        "colab": {
          "base_uri": "https://localhost:8080/"
        },
        "id": "ePUw9pW98Vfj",
        "outputId": "bcf3be05-7839-43d4-d08c-ffcb91134686"
      },
      "source": [
        "r2_score(y_test,y_pred1)"
      ],
      "execution_count": 43,
      "outputs": [
        {
          "output_type": "execute_result",
          "data": {
            "text/plain": [
              "0.9707178116877107"
            ]
          },
          "metadata": {
            "tags": []
          },
          "execution_count": 43
        }
      ]
    },
    {
      "cell_type": "code",
      "metadata": {
        "id": "wFcSDzo98X3S"
      },
      "source": [
        "x11 = np.array(['MAE','MSE','RMSE','R2_error'])\r\n",
        "y11 = np.array([0.0346,0.0018,0.0435,0.9707])"
      ],
      "execution_count": 44,
      "outputs": []
    },
    {
      "cell_type": "code",
      "metadata": {
        "colab": {
          "base_uri": "https://localhost:8080/",
          "height": 297
        },
        "id": "qvLg8VRX8k3_",
        "outputId": "90db3f2b-7c79-4980-e710-4313264b9bb5"
      },
      "source": [
        "plt.bar(x11,y11,color='y')\r\n",
        "plt.xlabel('Performance measure')\r\n",
        "plt.ylabel('value')"
      ],
      "execution_count": 45,
      "outputs": [
        {
          "output_type": "execute_result",
          "data": {
            "text/plain": [
              "Text(0, 0.5, 'value')"
            ]
          },
          "metadata": {
            "tags": []
          },
          "execution_count": 45
        },
        {
          "output_type": "display_data",
          "data": {
            "image/png": "[encoded data removed]",
            "text/plain": [
              "<Figure size 432x288 with 1 Axes>"
            ]
          },
          "metadata": {
            "tags": [],
            "needs_background": "light"
          }
        }
      ]
    },
    {
      "cell_type": "code",
      "metadata": {
        "id": "j7Z3PrKq8pWw"
      },
      "source": [
        "features1 = data[['HC (%)','NQF (%)','C (%)','Ac','Φ']].values\r\n",
        "labels1 = data[['Cu']].values"
      ],
      "execution_count": 46,
      "outputs": []
    },
    {
      "cell_type": "code",
      "metadata": {
        "id": "cRN_D7O88x02"
      },
      "source": [
        "x_train,x_test,y_train,y_test = train_test_split(features1,labels1,test_size=0.2)"
      ],
      "execution_count": 47,
      "outputs": []
    },
    {
      "cell_type": "code",
      "metadata": {
        "colab": {
          "base_uri": "https://localhost:8080/"
        },
        "id": "zjevW4Uk805Q",
        "outputId": "a00f61fa-7120-4585-fb52-163f9e9e9b34"
      },
      "source": [
        "model1 =SVR(kernel='linear')  \r\n",
        "model1.fit(x_train, y_train)"
      ],
      "execution_count": 48,
      "outputs": [
        {
          "output_type": "stream",
          "text": [
            "/usr/local/lib/python3.6/dist-packages/sklearn/utils/validation.py:760: DataConversionWarning: A column-vector y was passed when a 1d array was expected. Please change the shape of y to (n_samples, ), for example using ravel().\n",
            "  y = column_or_1d(y, warn=True)\n"
          ],
          "name": "stderr"
        },
        {
          "output_type": "execute_result",
          "data": {
            "text/plain": [
              "SVR(C=1.0, cache_size=200, coef0=0.0, degree=3, epsilon=0.1, gamma='scale',\n",
              "    kernel='linear', max_iter=-1, shrinking=True, tol=0.001, verbose=False)"
            ]
          },
          "metadata": {
            "tags": []
          },
          "execution_count": 48
        }
      ]
    },
    {
      "cell_type": "code",
      "metadata": {
        "colab": {
          "base_uri": "https://localhost:8080/"
        },
        "id": "Oq4pe1xE87ht",
        "outputId": "9bd251ec-4796-4918-a0f7-2f708f117e6d"
      },
      "source": [
        "y_pred2 = model1.predict(x_test)\r\n",
        "y_pred2"
      ],
      "execution_count": 50,
      "outputs": [
        {
          "output_type": "execute_result",
          "data": {
            "text/plain": [
              "array([2.00416167, 2.77294141, 3.3491031 , 4.53053006, 2.68588717,\n",
              "       3.44870994, 3.3838403 , 5.67870493, 1.65970393, 5.82395275,\n",
              "       4.80363755, 4.34193559, 4.44459924, 5.43807766, 5.34340724,\n",
              "       1.73951936, 6.03543279, 3.31897067, 5.18880361, 4.00592921,\n",
              "       4.08339685, 5.24873682, 4.94258636, 2.23923397, 5.09413318])"
            ]
          },
          "metadata": {
            "tags": []
          },
          "execution_count": 50
        }
      ]
    },
    {
      "cell_type": "code",
      "metadata": {
        "colab": {
          "base_uri": "https://localhost:8080/"
        },
        "id": "SlPzI6fH9Ajv",
        "outputId": "464ecd96-8b7e-4afa-beea-b40334b765a8"
      },
      "source": [
        "mean_absolute_error(y_test,y_pred2)"
      ],
      "execution_count": 51,
      "outputs": [
        {
          "output_type": "execute_result",
          "data": {
            "text/plain": [
              "0.15082569068814503"
            ]
          },
          "metadata": {
            "tags": []
          },
          "execution_count": 51
        }
      ]
    },
    {
      "cell_type": "code",
      "metadata": {
        "colab": {
          "base_uri": "https://localhost:8080/"
        },
        "id": "WTFhkqnP9Hax",
        "outputId": "0cc1670f-385a-486b-ddc0-6952a39d2422"
      },
      "source": [
        "mean_squared_error(y_test,y_pred2)"
      ],
      "execution_count": 52,
      "outputs": [
        {
          "output_type": "execute_result",
          "data": {
            "text/plain": [
              "0.046887312023559294"
            ]
          },
          "metadata": {
            "tags": []
          },
          "execution_count": 52
        }
      ]
    },
    {
      "cell_type": "code",
      "metadata": {
        "colab": {
          "base_uri": "https://localhost:8080/"
        },
        "id": "PtwX06lk9J6B",
        "outputId": "2a4f1fe9-000e-4929-9c22-71bc09b0f1eb"
      },
      "source": [
        "from math import sqrt\r\n",
        "rmse2 = sqrt(mean_squared_error(y_test,y_pred2)) # calculating the root mean squared error for actual and predicted values\r\n",
        "rmse2"
      ],
      "execution_count": 53,
      "outputs": [
        {
          "output_type": "execute_result",
          "data": {
            "text/plain": [
              "0.21653478247976535"
            ]
          },
          "metadata": {
            "tags": []
          },
          "execution_count": 53
        }
      ]
    },
    {
      "cell_type": "code",
      "metadata": {
        "colab": {
          "base_uri": "https://localhost:8080/"
        },
        "id": "aBE0dIDF9PL8",
        "outputId": "c10a2c51-4ade-46ef-951e-727feaf6efa4"
      },
      "source": [
        "r2_score(y_test,y_pred2)"
      ],
      "execution_count": 54,
      "outputs": [
        {
          "output_type": "execute_result",
          "data": {
            "text/plain": [
              "0.9710539671268553"
            ]
          },
          "metadata": {
            "tags": []
          },
          "execution_count": 54
        }
      ]
    },
    {
      "cell_type": "code",
      "metadata": {
        "id": "QL5IGplN9S3E"
      },
      "source": [
        "x22 = np.array(['MAE','MSE','RMSE','R2_error'])\r\n",
        "y22 = np.array([0.1508,0.0468,0.2165,0.9710])"
      ],
      "execution_count": 55,
      "outputs": []
    },
    {
      "cell_type": "code",
      "metadata": {
        "colab": {
          "base_uri": "https://localhost:8080/",
          "height": 297
        },
        "id": "1J83Mt0B9hmY",
        "outputId": "d654adbe-79a1-4a25-9ce8-7e227ae84053"
      },
      "source": [
        "plt.bar(x22,y22,color='black')\r\n",
        "plt.xlabel('Performance measure')\r\n",
        "plt.ylabel('value')"
      ],
      "execution_count": 56,
      "outputs": [
        {
          "output_type": "execute_result",
          "data": {
            "text/plain": [
              "Text(0, 0.5, 'value')"
            ]
          },
          "metadata": {
            "tags": []
          },
          "execution_count": 56
        },
        {
          "output_type": "display_data",
          "data": {
            "image/png": "[encoded data removed]",
            "text/plain": [
              "<Figure size 432x288 with 1 Axes>"
            ]
          },
          "metadata": {
            "tags": [],
            "needs_background": "light"
          }
        }
      ]
    },
    {
      "cell_type": "code",
      "metadata": {
        "id": "MLCjcOhI9moD"
      },
      "source": [
        "from sklearn.model_selection import cross_validate,KFold,cross_val_score"
      ],
      "execution_count": 57,
      "outputs": []
    },
    {
      "cell_type": "code",
      "metadata": {
        "colab": {
          "base_uri": "https://localhost:8080/"
        },
        "id": "ZQGytfxK93sM",
        "outputId": "d159b0c1-3f04-4d72-8355-eba866724c28"
      },
      "source": [
        "cross_val_score(SVR(),features,labels).mean()"
      ],
      "execution_count": 58,
      "outputs": [
        {
          "output_type": "stream",
          "text": [
            "/usr/local/lib/python3.6/dist-packages/sklearn/utils/validation.py:760: DataConversionWarning: A column-vector y was passed when a 1d array was expected. Please change the shape of y to (n_samples, ), for example using ravel().\n",
            "  y = column_or_1d(y, warn=True)\n",
            "/usr/local/lib/python3.6/dist-packages/sklearn/utils/validation.py:760: DataConversionWarning: A column-vector y was passed when a 1d array was expected. Please change the shape of y to (n_samples, ), for example using ravel().\n",
            "  y = column_or_1d(y, warn=True)\n",
            "/usr/local/lib/python3.6/dist-packages/sklearn/utils/validation.py:760: DataConversionWarning: A column-vector y was passed when a 1d array was expected. Please change the shape of y to (n_samples, ), for example using ravel().\n",
            "  y = column_or_1d(y, warn=True)\n",
            "/usr/local/lib/python3.6/dist-packages/sklearn/utils/validation.py:760: DataConversionWarning: A column-vector y was passed when a 1d array was expected. Please change the shape of y to (n_samples, ), for example using ravel().\n",
            "  y = column_or_1d(y, warn=True)\n",
            "/usr/local/lib/python3.6/dist-packages/sklearn/utils/validation.py:760: DataConversionWarning: A column-vector y was passed when a 1d array was expected. Please change the shape of y to (n_samples, ), for example using ravel().\n",
            "  y = column_or_1d(y, warn=True)\n"
          ],
          "name": "stderr"
        },
        {
          "output_type": "execute_result",
          "data": {
            "text/plain": [
              "-2.010203509686858"
            ]
          },
          "metadata": {
            "tags": []
          },
          "execution_count": 58
        }
      ]
    },
    {
      "cell_type": "code",
      "metadata": {
        "id": "X2_-s8IH98fa"
      },
      "source": [
        "a = data['Cc'].tail(25)\r\n",
        "b = np.array([1.00895766, 1.82389042, 1.57875141, 1.14317491, 1.49452863,\r\n",
        "       1.68006409, 1.21782752, 1.01701149, 1.70881927, 1.64461724,\r\n",
        "       1.31504796, 1.27801849, 1.23290444, 1.30732554, 1.57127924,\r\n",
        "       0.94377819, 1.46444108, 1.52429967, 1.24753227, 1.4274116 ,\r\n",
        "       1.48692389, 1.66588535, 1.72339571, 1.2252997 , 1.28542438])"
      ],
      "execution_count": 59,
      "outputs": []
    },
    {
      "cell_type": "code",
      "metadata": {
        "colab": {
          "base_uri": "https://localhost:8080/",
          "height": 296
        },
        "id": "5gxpSiHN-7H1",
        "outputId": "5a285355-1e32-4346-c983-054030db87d1"
      },
      "source": [
        "plt.scatter(a,b,color='purple',marker='+')\r\n",
        "plt.xlabel('Actual Cc')\r\n",
        "plt.ylabel('Predicted Cc')"
      ],
      "execution_count": 60,
      "outputs": [
        {
          "output_type": "execute_result",
          "data": {
            "text/plain": [
              "Text(0, 0.5, 'Predicted Cc')"
            ]
          },
          "metadata": {
            "tags": []
          },
          "execution_count": 60
        },
        {
          "output_type": "display_data",
          "data": {
            "image/png": "[encoded data removed]",
            "text/plain": [
              "<Figure size 432x288 with 1 Axes>"
            ]
          },
          "metadata": {
            "tags": [],
            "needs_background": "light"
          }
        }
      ]
    },
    {
      "cell_type": "code",
      "metadata": {
        "id": "NW3Gh-se_BO9"
      },
      "source": [
        "c = data['Cu'].tail(25)\r\n",
        "d = np.array([2.00416167, 2.77294141, 3.3491031 , 4.53053006, 2.68588717,\r\n",
        "       3.44870994, 3.3838403 , 5.67870493, 1.65970393, 5.82395275,\r\n",
        "       4.80363755, 4.34193559, 4.44459924, 5.43807766, 5.34340724,\r\n",
        "       1.73951936, 6.03543279, 3.31897067, 5.18880361, 4.00592921,\r\n",
        "       4.08339685, 5.24873682, 4.94258636, 2.23923397, 5.09413318])"
      ],
      "execution_count": 61,
      "outputs": []
    },
    {
      "cell_type": "code",
      "metadata": {
        "colab": {
          "base_uri": "https://localhost:8080/",
          "height": 296
        },
        "id": "6npoSHX1_QB9",
        "outputId": "184b9a60-8a72-4981-964d-87b2f7a60ee4"
      },
      "source": [
        "plt.scatter(c,d,color='grey',marker='D')\r\n",
        "plt.xlabel('Actual Cu')\r\n",
        "plt.ylabel('Predicted Cu')"
      ],
      "execution_count": 62,
      "outputs": [
        {
          "output_type": "execute_result",
          "data": {
            "text/plain": [
              "Text(0, 0.5, 'Predicted Cu')"
            ]
          },
          "metadata": {
            "tags": []
          },
          "execution_count": 62
        },
        {
          "output_type": "display_data",
          "data": {
            "image/png": "[encoded data removed]",
            "text/plain": [
              "<Figure size 432x288 with 1 Axes>"
            ]
          },
          "metadata": {
            "tags": [],
            "needs_background": "light"
          }
        }
      ]
    },
    {
      "cell_type": "markdown",
      "metadata": {
        "id": "1FnsSxe-_sD7"
      },
      "source": [
        "**Present the parametric study graph**"
      ]
    },
    {
      "cell_type": "code",
      "metadata": {
        "colab": {
          "base_uri": "https://localhost:8080/",
          "height": 281
        },
        "id": "sM1XKacY_wUP",
        "outputId": "751d6234-3903-4387-9e44-1a6ff6a4e94e"
      },
      "source": [
        "z = data['Cc']\r\n",
        "plt.plot(z,color='y')\r\n",
        "plt.title('Cc')\r\n",
        "plt.grid()"
      ],
      "execution_count": 63,
      "outputs": [
        {
          "output_type": "display_data",
          "data": {
            "image/png": "[encoded data removed]",
            "text/plain": [
              "<Figure size 432x288 with 1 Axes>"
            ]
          },
          "metadata": {
            "tags": [],
            "needs_background": "light"
          }
        }
      ]
    },
    {
      "cell_type": "code",
      "metadata": {
        "colab": {
          "base_uri": "https://localhost:8080/",
          "height": 281
        },
        "id": "MIstXbPvJMjZ",
        "outputId": "8f0007eb-af24-439c-e58e-e26c69bc3857"
      },
      "source": [
        "p = data['Cu']\r\n",
        "plt.plot(p,color='grey')\r\n",
        "plt.title('Cu')\r\n",
        "plt.grid()"
      ],
      "execution_count": 64,
      "outputs": [
        {
          "output_type": "display_data",
          "data": {
            "image/png": "[encoded data removed]",
            "text/plain": [
              "<Figure size 432x288 with 1 Axes>"
            ]
          },
          "metadata": {
            "tags": [],
            "needs_background": "light"
          }
        }
      ]
    },
    {
      "cell_type": "markdown",
      "metadata": {
        "id": "Nd-4-K30JZ8J"
      },
      "source": [
        "**Conduct sensitivity analysis to determine the influence of each parameter on the predicted parameters.**"
      ]
    },
    {
      "cell_type": "code",
      "metadata": {
        "colab": {
          "base_uri": "https://localhost:8080/"
        },
        "id": "QK6E4VDXJbec",
        "outputId": "8f4d5d2a-2c8e-48e4-c671-c9fc7f527f4c"
      },
      "source": [
        "from sklearn.datasets import make_regression\r\n",
        "from xgboost import XGBRegressor\r\n",
        "\r\n",
        "M, n = make_regression(n_samples=500, n_features=5, n_informative=2, noise=0.3)\r\n",
        "M = pd.DataFrame(M, columns=['HC (%)','NQF (%)','C (%)','Ac','Φ'])\r\n",
        "\r\n",
        "model = XGBRegressor()\r\n",
        "model.fit(M, n)"
      ],
      "execution_count": 65,
      "outputs": [
        {
          "output_type": "stream",
          "text": [
            "[15:49:12] WARNING: /workspace/src/objective/regression_obj.cu:152: reg:linear is now deprecated in favor of reg:squarederror.\n"
          ],
          "name": "stdout"
        },
        {
          "output_type": "execute_result",
          "data": {
            "text/plain": [
              "XGBRegressor(base_score=0.5, booster='gbtree', colsample_bylevel=1,\n",
              "             colsample_bynode=1, colsample_bytree=1, gamma=0,\n",
              "             importance_type='gain', learning_rate=0.1, max_delta_step=0,\n",
              "             max_depth=3, min_child_weight=1, missing=None, n_estimators=100,\n",
              "             n_jobs=1, nthread=None, objective='reg:linear', random_state=0,\n",
              "             reg_alpha=0, reg_lambda=1, scale_pos_weight=1, seed=None,\n",
              "             silent=None, subsample=1, verbosity=1)"
            ]
          },
          "metadata": {
            "tags": []
          },
          "execution_count": 65
        }
      ]
    },
    {
      "cell_type": "code",
      "metadata": {
        "colab": {
          "base_uri": "https://localhost:8080/",
          "height": 297
        },
        "id": "pQGu200sJfGo",
        "outputId": "78d402a1-7a62-4538-88d7-d8ab9107ae07"
      },
      "source": [
        "class Simulate:\r\n",
        "    def __init__(self, obs, var):\r\n",
        "        self.obs = obs\r\n",
        "        self.var = var\r\n",
        "\r\n",
        "    def simulate_increase(self, model, percentage):\r\n",
        "        baseline = model.predict(self.obs)\r\n",
        "        plus = {}\r\n",
        "        for ivar in self.var:\r\n",
        "            M_plus = self.obs.copy()\r\n",
        "            M_plus[ivar] = M_plus[ivar] + M_plus[ivar] * (percentage / 100)\r\n",
        "            plus[ivar] = model.predict(M_plus)\r\n",
        "        b = pd.DataFrame(\r\n",
        "            plus, index=['simulated'\r\n",
        "                         ]).T.reset_index().rename(columns={'index': 'test'})\r\n",
        "        b['baseline'] = baseline[0]\r\n",
        "        return b\r\n",
        "\r\n",
        "    @staticmethod\r\n",
        "    def plot_simulation(d, **kwargs):\r\n",
        "        fig, ax = plt.subplots()\r\n",
        "        sns.barplot(x='test', y='simulated', data=d, palette='deep', ax=ax)\r\n",
        "        ax.axhline(d['baseline'].values[0], color='grey', linestyle='--', linewidth=2)\r\n",
        "        ax.plot([0, 0], [-100, -100], color='grey', linestyle='--', linewidth=2, label='baseline')\r\n",
        "\r\n",
        "        maxi = int(d['simulated'].max() + d['simulated'].max() * 0.1)\r\n",
        "        mini = int(d['simulated'].min() - d['simulated'].min() * 0.1)\r\n",
        "        ax.set_ylim([mini, maxi])\r\n",
        "\r\n",
        "        ax.set_xlabel('Simulated variables')\r\n",
        "        ax.set_ylabel('Target value')\r\n",
        "        ax.set_title(kwargs.get('title'))\r\n",
        "        ax.legend()\r\n",
        "\r\n",
        "        ax.grid(axis='y', linewidth=.3)\r\n",
        "        sns.despine(offset=10, trim=True)\r\n",
        "        plt.tight_layout()\r\n",
        "        plt.show()\r\n",
        "\r\n",
        "\r\n",
        "VAR_OPTIMIZE = ['HC (%)','NQF (%)','C (%)','Ac','Φ']\r\n",
        "PERC = 5\r\n",
        "ROW = M.iloc[[29]]\r\n",
        "\r\n",
        "S = Simulate(obs=ROW, var=VAR_OPTIMIZE)\r\n",
        "d = S.simulate_increase(model=model, percentage=PERC)\r\n",
        "S.plot_simulation(d, title=f'Impact of a {PERC}% increase of {VAR_OPTIMIZE} in target value')"
      ],
      "execution_count": 66,
      "outputs": [
        {
          "output_type": "display_data",
          "data": {
            "image/png": "[encoded data removed]",
            "text/plain": [
              "<Figure size 432x288 with 1 Axes>"
            ]
          },
          "metadata": {
            "tags": [],
            "needs_background": "light"
          }
        }
      ]
    }
  ]
}