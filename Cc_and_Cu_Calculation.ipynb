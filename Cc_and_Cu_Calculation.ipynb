{
  "nbformat": 4,
  "nbformat_minor": 0,
  "metadata": {
    "colab": {
      "name": "Cc and Cu Calculation",
      "provenance": [],
      "authorship_tag": "ABX9TyMon1Jx73OREqExs+JX1LG0",
      "include_colab_link": true
    },
    "kernelspec": {
      "name": "python3",
      "display_name": "Python 3"
    }
  },
  "cells": [
    {
      "cell_type": "markdown",
      "metadata": {
        "id": "view-in-github",
        "colab_type": "text"
      },
      "source": [
        "<a href=\"https://colab.research.google.com/github/Bala534/Regproject/blob/main/Cc_and_Cu_Calculation.ipynb\" target=\"_parent\"><img src=\"https://colab.research.google.com/assets/colab-badge.svg\" alt=\"Open In Colab\"/></a>"
      ]
    },
    {
      "cell_type": "code",
      "metadata": {
        "id": "gxYwVQS4Dkrh"
      },
      "source": [
        "import numpy as np\r\n",
        "import pandas as pd\r\n",
        "import matplotlib.pyplot as plt\r\n",
        "from sklearn.model_selection import train_test_split\r\n",
        "\r\n",
        "from pandas import ExcelWriter\r\n",
        "from pandas import ExcelFile"
      ],
      "execution_count": 305,
      "outputs": []
    },
    {
      "cell_type": "code",
      "metadata": {
        "id": "olkdSjuYDoXe",
        "colab": {
          "base_uri": "https://localhost:8080/",
          "height": 195
        },
        "outputId": "6cd1a607-98af-43a3-ee2f-02620b1eaef4"
      },
      "source": [
        "df = pd.read_excel('Cu and Cu Table of Data.xlsx')\r\n",
        "df.head()"
      ],
      "execution_count": 306,
      "outputs": [
        {
          "output_type": "execute_result",
          "data": {
            "text/html": [
              "<div>\n",
              "<style scoped>\n",
              "    .dataframe tbody tr th:only-of-type {\n",
              "        vertical-align: middle;\n",
              "    }\n",
              "\n",
              "    .dataframe tbody tr th {\n",
              "        vertical-align: top;\n",
              "    }\n",
              "\n",
              "    .dataframe thead th {\n",
              "        text-align: right;\n",
              "    }\n",
              "</style>\n",
              "<table border=\"1\" class=\"dataframe\">\n",
              "  <thead>\n",
              "    <tr style=\"text-align: right;\">\n",
              "      <th></th>\n",
              "      <th>S NO</th>\n",
              "      <th>HC (%)</th>\n",
              "      <th>NQF (%)</th>\n",
              "      <th>C (%)</th>\n",
              "      <th>Unnamed: 4</th>\n",
              "      <th>Unnamed: 5</th>\n",
              "      <th>Unnamed: 6</th>\n",
              "      <th>Unnamed: 7</th>\n",
              "    </tr>\n",
              "  </thead>\n",
              "  <tbody>\n",
              "    <tr>\n",
              "      <th>0</th>\n",
              "      <td>1</td>\n",
              "      <td>0.0</td>\n",
              "      <td>0.00</td>\n",
              "      <td>23.02</td>\n",
              "      <td>2.00</td>\n",
              "      <td>15.00</td>\n",
              "      <td>0.84</td>\n",
              "      <td>2.05</td>\n",
              "    </tr>\n",
              "    <tr>\n",
              "      <th>1</th>\n",
              "      <td>2</td>\n",
              "      <td>0.1</td>\n",
              "      <td>0.01</td>\n",
              "      <td>23.02</td>\n",
              "      <td>1.98</td>\n",
              "      <td>15.01</td>\n",
              "      <td>0.85</td>\n",
              "      <td>2.05</td>\n",
              "    </tr>\n",
              "    <tr>\n",
              "      <th>2</th>\n",
              "      <td>3</td>\n",
              "      <td>0.2</td>\n",
              "      <td>0.02</td>\n",
              "      <td>23.03</td>\n",
              "      <td>1.96</td>\n",
              "      <td>15.04</td>\n",
              "      <td>0.86</td>\n",
              "      <td>2.06</td>\n",
              "    </tr>\n",
              "    <tr>\n",
              "      <th>3</th>\n",
              "      <td>4</td>\n",
              "      <td>0.3</td>\n",
              "      <td>0.03</td>\n",
              "      <td>23.03</td>\n",
              "      <td>1.96</td>\n",
              "      <td>15.09</td>\n",
              "      <td>0.87</td>\n",
              "      <td>2.06</td>\n",
              "    </tr>\n",
              "    <tr>\n",
              "      <th>4</th>\n",
              "      <td>5</td>\n",
              "      <td>0.4</td>\n",
              "      <td>0.04</td>\n",
              "      <td>23.04</td>\n",
              "      <td>1.93</td>\n",
              "      <td>15.14</td>\n",
              "      <td>0.88</td>\n",
              "      <td>2.06</td>\n",
              "    </tr>\n",
              "  </tbody>\n",
              "</table>\n",
              "</div>"
            ],
            "text/plain": [
              "   S NO  HC (%)  NQF (%)  C (%)  Unnamed: 4  Unnamed: 5  Unnamed: 6  Unnamed: 7\n",
              "0     1     0.0     0.00  23.02        2.00       15.00        0.84        2.05\n",
              "1     2     0.1     0.01  23.02        1.98       15.01        0.85        2.05\n",
              "2     3     0.2     0.02  23.03        1.96       15.04        0.86        2.06\n",
              "3     4     0.3     0.03  23.03        1.96       15.09        0.87        2.06\n",
              "4     5     0.4     0.04  23.04        1.93       15.14        0.88        2.06"
            ]
          },
          "metadata": {
            "tags": []
          },
          "execution_count": 306
        }
      ]
    },
    {
      "cell_type": "code",
      "metadata": {
        "colab": {
          "base_uri": "https://localhost:8080/"
        },
        "id": "MlPOhw3pD48U",
        "outputId": "adadde97-d308-4871-d494-6660fd3bc486"
      },
      "source": [
        "df.shape"
      ],
      "execution_count": 307,
      "outputs": [
        {
          "output_type": "execute_result",
          "data": {
            "text/plain": [
              "(121, 8)"
            ]
          },
          "metadata": {
            "tags": []
          },
          "execution_count": 307
        }
      ]
    },
    {
      "cell_type": "code",
      "metadata": {
        "colab": {
          "base_uri": "https://localhost:8080/"
        },
        "id": "9Pz7QcsuD8ON",
        "outputId": "0da9fe6a-541f-4593-b23a-b1d0675fee8c"
      },
      "source": [
        "df.isna().sum()"
      ],
      "execution_count": 308,
      "outputs": [
        {
          "output_type": "execute_result",
          "data": {
            "text/plain": [
              "S NO          0\n",
              "HC (%)        0\n",
              "NQF (%)       0\n",
              "C (%)         0\n",
              "Unnamed: 4    0\n",
              "Unnamed: 5    0\n",
              "Unnamed: 6    0\n",
              "Unnamed: 7    0\n",
              "dtype: int64"
            ]
          },
          "metadata": {
            "tags": []
          },
          "execution_count": 308
        }
      ]
    },
    {
      "cell_type": "code",
      "metadata": {
        "id": "xVro3B6MD-kO"
      },
      "source": [
        "df.rename(columns = {'Unnamed: 4':'Ac','Unnamed: 5':'Φ','Unnamed: 6':'Cc','Unnamed: 7':'Cu'}, inplace = True)"
      ],
      "execution_count": 309,
      "outputs": []
    },
    {
      "cell_type": "code",
      "metadata": {
        "colab": {
          "base_uri": "https://localhost:8080/",
          "height": 195
        },
        "id": "jb_jOhoEEG80",
        "outputId": "953fa87b-bbf9-4b7d-f46e-3f03a3240199"
      },
      "source": [
        "df.head()"
      ],
      "execution_count": 310,
      "outputs": [
        {
          "output_type": "execute_result",
          "data": {
            "text/html": [
              "<div>\n",
              "<style scoped>\n",
              "    .dataframe tbody tr th:only-of-type {\n",
              "        vertical-align: middle;\n",
              "    }\n",
              "\n",
              "    .dataframe tbody tr th {\n",
              "        vertical-align: top;\n",
              "    }\n",
              "\n",
              "    .dataframe thead th {\n",
              "        text-align: right;\n",
              "    }\n",
              "</style>\n",
              "<table border=\"1\" class=\"dataframe\">\n",
              "  <thead>\n",
              "    <tr style=\"text-align: right;\">\n",
              "      <th></th>\n",
              "      <th>S NO</th>\n",
              "      <th>HC (%)</th>\n",
              "      <th>NQF (%)</th>\n",
              "      <th>C (%)</th>\n",
              "      <th>Ac</th>\n",
              "      <th>Φ</th>\n",
              "      <th>Cc</th>\n",
              "      <th>Cu</th>\n",
              "    </tr>\n",
              "  </thead>\n",
              "  <tbody>\n",
              "    <tr>\n",
              "      <th>0</th>\n",
              "      <td>1</td>\n",
              "      <td>0.0</td>\n",
              "      <td>0.00</td>\n",
              "      <td>23.02</td>\n",
              "      <td>2.00</td>\n",
              "      <td>15.00</td>\n",
              "      <td>0.84</td>\n",
              "      <td>2.05</td>\n",
              "    </tr>\n",
              "    <tr>\n",
              "      <th>1</th>\n",
              "      <td>2</td>\n",
              "      <td>0.1</td>\n",
              "      <td>0.01</td>\n",
              "      <td>23.02</td>\n",
              "      <td>1.98</td>\n",
              "      <td>15.01</td>\n",
              "      <td>0.85</td>\n",
              "      <td>2.05</td>\n",
              "    </tr>\n",
              "    <tr>\n",
              "      <th>2</th>\n",
              "      <td>3</td>\n",
              "      <td>0.2</td>\n",
              "      <td>0.02</td>\n",
              "      <td>23.03</td>\n",
              "      <td>1.96</td>\n",
              "      <td>15.04</td>\n",
              "      <td>0.86</td>\n",
              "      <td>2.06</td>\n",
              "    </tr>\n",
              "    <tr>\n",
              "      <th>3</th>\n",
              "      <td>4</td>\n",
              "      <td>0.3</td>\n",
              "      <td>0.03</td>\n",
              "      <td>23.03</td>\n",
              "      <td>1.96</td>\n",
              "      <td>15.09</td>\n",
              "      <td>0.87</td>\n",
              "      <td>2.06</td>\n",
              "    </tr>\n",
              "    <tr>\n",
              "      <th>4</th>\n",
              "      <td>5</td>\n",
              "      <td>0.4</td>\n",
              "      <td>0.04</td>\n",
              "      <td>23.04</td>\n",
              "      <td>1.93</td>\n",
              "      <td>15.14</td>\n",
              "      <td>0.88</td>\n",
              "      <td>2.06</td>\n",
              "    </tr>\n",
              "  </tbody>\n",
              "</table>\n",
              "</div>"
            ],
            "text/plain": [
              "   S NO  HC (%)  NQF (%)  C (%)    Ac      Φ    Cc    Cu\n",
              "0     1     0.0     0.00  23.02  2.00  15.00  0.84  2.05\n",
              "1     2     0.1     0.01  23.02  1.98  15.01  0.85  2.05\n",
              "2     3     0.2     0.02  23.03  1.96  15.04  0.86  2.06\n",
              "3     4     0.3     0.03  23.03  1.96  15.09  0.87  2.06\n",
              "4     5     0.4     0.04  23.04  1.93  15.14  0.88  2.06"
            ]
          },
          "metadata": {
            "tags": []
          },
          "execution_count": 310
        }
      ]
    },
    {
      "cell_type": "code",
      "metadata": {
        "id": "fiF-gyzAEIdV"
      },
      "source": [
        "features = df[['HC (%)','NQF (%)','C (%)','Ac','Φ']].values\r\n",
        "labels = df[['Cc','Cu']].values"
      ],
      "execution_count": 311,
      "outputs": []
    },
    {
      "cell_type": "code",
      "metadata": {
        "id": "ZgQUnCjHGPnw"
      },
      "source": [
        "x_train,x_test,y_train,y_test = train_test_split(features,labels,test_size=0.2,random_state=2)"
      ],
      "execution_count": 312,
      "outputs": []
    },
    {
      "cell_type": "code",
      "metadata": {
        "colab": {
          "base_uri": "https://localhost:8080/"
        },
        "id": "Jqa0r6_AFZ2B",
        "outputId": "04870e20-9314-4593-e9ef-3bdf271e98d4"
      },
      "source": [
        "from sklearn.linear_model import LinearRegression\r\n",
        "from sklearn.metrics import r2_score,mean_absolute_error,mean_squared_error\r\n",
        "from sklearn.preprocessing import PolynomialFeatures  \r\n",
        "poly_regs= PolynomialFeatures(degree= 2)  \r\n",
        "z = poly_regs.fit_transform(x_train)  \r\n",
        "model =LinearRegression()  \r\n",
        "model.fit(z, y_train)"
      ],
      "execution_count": 313,
      "outputs": [
        {
          "output_type": "execute_result",
          "data": {
            "text/plain": [
              "LinearRegression(copy_X=True, fit_intercept=True, n_jobs=None, normalize=False)"
            ]
          },
          "metadata": {
            "tags": []
          },
          "execution_count": 313
        }
      ]
    },
    {
      "cell_type": "code",
      "metadata": {
        "id": "AsgnNBlWI5NZ"
      },
      "source": [
        ""
      ],
      "execution_count": 313,
      "outputs": []
    },
    {
      "cell_type": "code",
      "metadata": {
        "id": "Slj4rZrLGwyA"
      },
      "source": [
        "m = poly_regs.fit_transform(x_test)"
      ],
      "execution_count": 314,
      "outputs": []
    },
    {
      "cell_type": "code",
      "metadata": {
        "id": "wvcxadJsGGAs"
      },
      "source": [
        "y_pred = model.predict(m)"
      ],
      "execution_count": 315,
      "outputs": []
    },
    {
      "cell_type": "code",
      "metadata": {
        "colab": {
          "base_uri": "https://localhost:8080/"
        },
        "id": "lhaZE22bG5Ii",
        "outputId": "c0baebf2-97dd-4a83-d861-ad1aa5bb05eb"
      },
      "source": [
        "y_pred"
      ],
      "execution_count": 316,
      "outputs": [
        {
          "output_type": "execute_result",
          "data": {
            "text/plain": [
              "array([[1.46310782, 4.23693455],\n",
              "       [1.296568  , 2.805577  ],\n",
              "       [1.1601359 , 2.28983488],\n",
              "       [1.51231768, 4.70232697],\n",
              "       [1.41072623, 3.69534371],\n",
              "       [0.88114477, 1.95575245],\n",
              "       [1.11328574, 2.16052441],\n",
              "       [1.4298827 , 3.87777294],\n",
              "       [0.79885162, 2.4815546 ],\n",
              "       [0.99293146, 2.21889494],\n",
              "       [1.35401516, 3.21282716],\n",
              "       [1.12437925, 2.17330334],\n",
              "       [1.16948304, 2.37898234],\n",
              "       [0.87567247, 1.96682554],\n",
              "       [1.78196497, 5.43941473],\n",
              "       [1.7904945 , 5.47133305],\n",
              "       [1.65329519, 4.95065524],\n",
              "       [1.84255335, 5.6341126 ],\n",
              "       [0.99087767, 2.23895486],\n",
              "       [1.49052233, 4.5020167 ],\n",
              "       [1.33586935, 3.07624166],\n",
              "       [0.89459447, 2.06193953],\n",
              "       [1.26352358, 2.42017048],\n",
              "       [1.329082  , 3.00225888],\n",
              "       [1.24169708, 2.44595913]])"
            ]
          },
          "metadata": {
            "tags": []
          },
          "execution_count": 316
        }
      ]
    },
    {
      "cell_type": "code",
      "metadata": {
        "colab": {
          "base_uri": "https://localhost:8080/"
        },
        "id": "KMO5sSkvHOCv",
        "outputId": "e2d7f675-a08d-4e67-e200-4e9c4336836e"
      },
      "source": [
        "mean_absolute_error(y_test,y_pred)"
      ],
      "execution_count": 317,
      "outputs": [
        {
          "output_type": "execute_result",
          "data": {
            "text/plain": [
              "0.03843532827199089"
            ]
          },
          "metadata": {
            "tags": []
          },
          "execution_count": 317
        }
      ]
    },
    {
      "cell_type": "code",
      "metadata": {
        "colab": {
          "base_uri": "https://localhost:8080/"
        },
        "id": "SX8oXoWAHV63",
        "outputId": "4f24436b-a7e1-420b-aa99-0d9bab479726"
      },
      "source": [
        "mean_squared_error(y_test,y_pred)"
      ],
      "execution_count": 318,
      "outputs": [
        {
          "output_type": "execute_result",
          "data": {
            "text/plain": [
              "0.006242877563215767"
            ]
          },
          "metadata": {
            "tags": []
          },
          "execution_count": 318
        }
      ]
    },
    {
      "cell_type": "code",
      "metadata": {
        "colab": {
          "base_uri": "https://localhost:8080/"
        },
        "id": "pOA80rt7QGyL",
        "outputId": "a013bd75-c71f-4b60-bdf0-b018284f541e"
      },
      "source": [
        "r2_score(y_test,y_pred)"
      ],
      "execution_count": 319,
      "outputs": [
        {
          "output_type": "execute_result",
          "data": {
            "text/plain": [
              "0.9951130046928746"
            ]
          },
          "metadata": {
            "tags": []
          },
          "execution_count": 319
        }
      ]
    },
    {
      "cell_type": "code",
      "metadata": {
        "id": "kb1Bu0TBHcpp"
      },
      "source": [
        ""
      ],
      "execution_count": 319,
      "outputs": []
    },
    {
      "cell_type": "code",
      "metadata": {
        "id": "0StmX1sYIUH_"
      },
      "source": [
        "#Predicting the unknown value(not in the data)"
      ],
      "execution_count": 320,
      "outputs": []
    },
    {
      "cell_type": "code",
      "metadata": {
        "id": "g270xhvmHjvM"
      },
      "source": [
        "unknown = np.array([12.7,2.4,25.07,0.78,23.58]).reshape(1,-1)"
      ],
      "execution_count": 321,
      "outputs": []
    },
    {
      "cell_type": "code",
      "metadata": {
        "id": "snTP9Xs6H1T2"
      },
      "source": [
        "n = poly_regs.fit_transform(unknown)"
      ],
      "execution_count": 322,
      "outputs": []
    },
    {
      "cell_type": "code",
      "metadata": {
        "colab": {
          "base_uri": "https://localhost:8080/"
        },
        "id": "WZWDFlZSH7pA",
        "outputId": "7be09f07-0565-4b6c-ba90-b1e4c03ff628"
      },
      "source": [
        "value = model.predict(n)\r\n",
        "value"
      ],
      "execution_count": 323,
      "outputs": [
        {
          "output_type": "execute_result",
          "data": {
            "text/plain": [
              "array([[ 16.76176097, -51.64561216]])"
            ]
          },
          "metadata": {
            "tags": []
          },
          "execution_count": 323
        }
      ]
    }
  ]
}