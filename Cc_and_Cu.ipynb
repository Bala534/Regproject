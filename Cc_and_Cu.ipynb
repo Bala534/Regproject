{
  "nbformat": 4,
  "nbformat_minor": 0,
  "metadata": {
    "colab": {
      "name": "Cc and Cu",
      "provenance": [],
      "authorship_tag": "ABX9TyPniUeFwLeaZ0ATHpzgig9k",
      "include_colab_link": true
    },
    "kernelspec": {
      "name": "python3",
      "display_name": "Python 3"
    }
  },
  "cells": [
    {
      "cell_type": "markdown",
      "metadata": {
        "id": "view-in-github",
        "colab_type": "text"
      },
      "source": [
        "<a href=\"https://colab.research.google.com/github/Bala534/Regproject/blob/main/Cc_and_Cu.ipynb\" target=\"_parent\"><img src=\"https://colab.research.google.com/assets/colab-badge.svg\" alt=\"Open In Colab\"/></a>"
      ]
    },
    {
      "cell_type": "code",
      "metadata": {
        "id": "lU6FzVNR3Gyl"
      },
      "source": [
        "# importing the required libraries\r\n",
        "import numpy as np\r\n",
        "import pandas as pd\r\n",
        "from matplotlib import pyplot as plt\r\n",
        "%matplotlib inline\r\n",
        "import seaborn as sns"
      ],
      "execution_count": 152,
      "outputs": []
    },
    {
      "cell_type": "code",
      "metadata": {
        "id": "sS4X-2cR39o6"
      },
      "source": [
        "from pandas import ExcelWriter\r\n",
        "from pandas import ExcelFile"
      ],
      "execution_count": 153,
      "outputs": []
    },
    {
      "cell_type": "code",
      "metadata": {
        "colab": {
          "base_uri": "https://localhost:8080/",
          "height": 195
        },
        "id": "BGL8oO1Q4Ugv",
        "outputId": "20c01d45-7c3f-4b78-8a77-d89d2b64ab94"
      },
      "source": [
        "data = pd.read_excel('Cu and Cu Table of Data.xlsx')\r\n",
        "data.head()"
      ],
      "execution_count": 154,
      "outputs": [
        {
          "output_type": "execute_result",
          "data": {
            "text/html": [
              "<div>\n",
              "<style scoped>\n",
              "    .dataframe tbody tr th:only-of-type {\n",
              "        vertical-align: middle;\n",
              "    }\n",
              "\n",
              "    .dataframe tbody tr th {\n",
              "        vertical-align: top;\n",
              "    }\n",
              "\n",
              "    .dataframe thead th {\n",
              "        text-align: right;\n",
              "    }\n",
              "</style>\n",
              "<table border=\"1\" class=\"dataframe\">\n",
              "  <thead>\n",
              "    <tr style=\"text-align: right;\">\n",
              "      <th></th>\n",
              "      <th>S NO</th>\n",
              "      <th>HC (%)</th>\n",
              "      <th>NQF (%)</th>\n",
              "      <th>C (%)</th>\n",
              "      <th>Unnamed: 4</th>\n",
              "      <th>Unnamed: 5</th>\n",
              "      <th>Unnamed: 6</th>\n",
              "      <th>Unnamed: 7</th>\n",
              "    </tr>\n",
              "  </thead>\n",
              "  <tbody>\n",
              "    <tr>\n",
              "      <th>0</th>\n",
              "      <td>1</td>\n",
              "      <td>0.0</td>\n",
              "      <td>0.00</td>\n",
              "      <td>23.02</td>\n",
              "      <td>2.00</td>\n",
              "      <td>15.00</td>\n",
              "      <td>0.84</td>\n",
              "      <td>2.05</td>\n",
              "    </tr>\n",
              "    <tr>\n",
              "      <th>1</th>\n",
              "      <td>2</td>\n",
              "      <td>0.1</td>\n",
              "      <td>0.01</td>\n",
              "      <td>23.02</td>\n",
              "      <td>1.98</td>\n",
              "      <td>15.01</td>\n",
              "      <td>0.85</td>\n",
              "      <td>2.05</td>\n",
              "    </tr>\n",
              "    <tr>\n",
              "      <th>2</th>\n",
              "      <td>3</td>\n",
              "      <td>0.2</td>\n",
              "      <td>0.02</td>\n",
              "      <td>23.03</td>\n",
              "      <td>1.96</td>\n",
              "      <td>15.04</td>\n",
              "      <td>0.86</td>\n",
              "      <td>2.06</td>\n",
              "    </tr>\n",
              "    <tr>\n",
              "      <th>3</th>\n",
              "      <td>4</td>\n",
              "      <td>0.3</td>\n",
              "      <td>0.03</td>\n",
              "      <td>23.03</td>\n",
              "      <td>1.96</td>\n",
              "      <td>15.09</td>\n",
              "      <td>0.87</td>\n",
              "      <td>2.06</td>\n",
              "    </tr>\n",
              "    <tr>\n",
              "      <th>4</th>\n",
              "      <td>5</td>\n",
              "      <td>0.4</td>\n",
              "      <td>0.04</td>\n",
              "      <td>23.04</td>\n",
              "      <td>1.93</td>\n",
              "      <td>15.14</td>\n",
              "      <td>0.88</td>\n",
              "      <td>2.06</td>\n",
              "    </tr>\n",
              "  </tbody>\n",
              "</table>\n",
              "</div>"
            ],
            "text/plain": [
              "   S NO  HC (%)  NQF (%)  C (%)  Unnamed: 4  Unnamed: 5  Unnamed: 6  Unnamed: 7\n",
              "0     1     0.0     0.00  23.02        2.00       15.00        0.84        2.05\n",
              "1     2     0.1     0.01  23.02        1.98       15.01        0.85        2.05\n",
              "2     3     0.2     0.02  23.03        1.96       15.04        0.86        2.06\n",
              "3     4     0.3     0.03  23.03        1.96       15.09        0.87        2.06\n",
              "4     5     0.4     0.04  23.04        1.93       15.14        0.88        2.06"
            ]
          },
          "metadata": {
            "tags": []
          },
          "execution_count": 154
        }
      ]
    },
    {
      "cell_type": "code",
      "metadata": {
        "id": "j8uCtkFy4Zq3"
      },
      "source": [
        "data.rename(columns = {'Unnamed: 4':'Ac','Unnamed: 5':'Φ','Unnamed: 6':'Cc','Unnamed: 7':'Cu'}, inplace = True) # Changing the column names"
      ],
      "execution_count": 155,
      "outputs": []
    },
    {
      "cell_type": "code",
      "metadata": {
        "colab": {
          "base_uri": "https://localhost:8080/",
          "height": 195
        },
        "id": "EZAcgVCx4hY0",
        "outputId": "903a93f9-540b-4bb8-f263-0e1204a0991e"
      },
      "source": [
        "data.head()"
      ],
      "execution_count": 156,
      "outputs": [
        {
          "output_type": "execute_result",
          "data": {
            "text/html": [
              "<div>\n",
              "<style scoped>\n",
              "    .dataframe tbody tr th:only-of-type {\n",
              "        vertical-align: middle;\n",
              "    }\n",
              "\n",
              "    .dataframe tbody tr th {\n",
              "        vertical-align: top;\n",
              "    }\n",
              "\n",
              "    .dataframe thead th {\n",
              "        text-align: right;\n",
              "    }\n",
              "</style>\n",
              "<table border=\"1\" class=\"dataframe\">\n",
              "  <thead>\n",
              "    <tr style=\"text-align: right;\">\n",
              "      <th></th>\n",
              "      <th>S NO</th>\n",
              "      <th>HC (%)</th>\n",
              "      <th>NQF (%)</th>\n",
              "      <th>C (%)</th>\n",
              "      <th>Ac</th>\n",
              "      <th>Φ</th>\n",
              "      <th>Cc</th>\n",
              "      <th>Cu</th>\n",
              "    </tr>\n",
              "  </thead>\n",
              "  <tbody>\n",
              "    <tr>\n",
              "      <th>0</th>\n",
              "      <td>1</td>\n",
              "      <td>0.0</td>\n",
              "      <td>0.00</td>\n",
              "      <td>23.02</td>\n",
              "      <td>2.00</td>\n",
              "      <td>15.00</td>\n",
              "      <td>0.84</td>\n",
              "      <td>2.05</td>\n",
              "    </tr>\n",
              "    <tr>\n",
              "      <th>1</th>\n",
              "      <td>2</td>\n",
              "      <td>0.1</td>\n",
              "      <td>0.01</td>\n",
              "      <td>23.02</td>\n",
              "      <td>1.98</td>\n",
              "      <td>15.01</td>\n",
              "      <td>0.85</td>\n",
              "      <td>2.05</td>\n",
              "    </tr>\n",
              "    <tr>\n",
              "      <th>2</th>\n",
              "      <td>3</td>\n",
              "      <td>0.2</td>\n",
              "      <td>0.02</td>\n",
              "      <td>23.03</td>\n",
              "      <td>1.96</td>\n",
              "      <td>15.04</td>\n",
              "      <td>0.86</td>\n",
              "      <td>2.06</td>\n",
              "    </tr>\n",
              "    <tr>\n",
              "      <th>3</th>\n",
              "      <td>4</td>\n",
              "      <td>0.3</td>\n",
              "      <td>0.03</td>\n",
              "      <td>23.03</td>\n",
              "      <td>1.96</td>\n",
              "      <td>15.09</td>\n",
              "      <td>0.87</td>\n",
              "      <td>2.06</td>\n",
              "    </tr>\n",
              "    <tr>\n",
              "      <th>4</th>\n",
              "      <td>5</td>\n",
              "      <td>0.4</td>\n",
              "      <td>0.04</td>\n",
              "      <td>23.04</td>\n",
              "      <td>1.93</td>\n",
              "      <td>15.14</td>\n",
              "      <td>0.88</td>\n",
              "      <td>2.06</td>\n",
              "    </tr>\n",
              "  </tbody>\n",
              "</table>\n",
              "</div>"
            ],
            "text/plain": [
              "   S NO  HC (%)  NQF (%)  C (%)    Ac      Φ    Cc    Cu\n",
              "0     1     0.0     0.00  23.02  2.00  15.00  0.84  2.05\n",
              "1     2     0.1     0.01  23.02  1.98  15.01  0.85  2.05\n",
              "2     3     0.2     0.02  23.03  1.96  15.04  0.86  2.06\n",
              "3     4     0.3     0.03  23.03  1.96  15.09  0.87  2.06\n",
              "4     5     0.4     0.04  23.04  1.93  15.14  0.88  2.06"
            ]
          },
          "metadata": {
            "tags": []
          },
          "execution_count": 156
        }
      ]
    },
    {
      "cell_type": "code",
      "metadata": {
        "colab": {
          "base_uri": "https://localhost:8080/"
        },
        "id": "1A08rE5N4jrN",
        "outputId": "4c8780bf-67b5-449f-8c13-3fbd737af172"
      },
      "source": [
        "data.shape # no of rows and columns"
      ],
      "execution_count": 157,
      "outputs": [
        {
          "output_type": "execute_result",
          "data": {
            "text/plain": [
              "(121, 8)"
            ]
          },
          "metadata": {
            "tags": []
          },
          "execution_count": 157
        }
      ]
    },
    {
      "cell_type": "code",
      "metadata": {
        "colab": {
          "base_uri": "https://localhost:8080/"
        },
        "id": "4yQV7u4c4wHE",
        "outputId": "f730a49c-8ae0-49d6-adf3-32918e2d687a"
      },
      "source": [
        "data.isna().any()"
      ],
      "execution_count": 158,
      "outputs": [
        {
          "output_type": "execute_result",
          "data": {
            "text/plain": [
              "S NO       False\n",
              "HC (%)     False\n",
              "NQF (%)    False\n",
              "C (%)      False\n",
              "Ac         False\n",
              "Φ          False\n",
              "Cc         False\n",
              "Cu         False\n",
              "dtype: bool"
            ]
          },
          "metadata": {
            "tags": []
          },
          "execution_count": 158
        }
      ]
    },
    {
      "cell_type": "code",
      "metadata": {
        "colab": {
          "base_uri": "https://localhost:8080/"
        },
        "id": "540FJ7os4ygH",
        "outputId": "056888e7-253c-45ca-ef45-4577384b42c3"
      },
      "source": [
        "data.isna().sum().sum()"
      ],
      "execution_count": 159,
      "outputs": [
        {
          "output_type": "execute_result",
          "data": {
            "text/plain": [
              "0"
            ]
          },
          "metadata": {
            "tags": []
          },
          "execution_count": 159
        }
      ]
    },
    {
      "cell_type": "code",
      "metadata": {
        "id": "PdDCtFRqBtjF"
      },
      "source": [
        "del data['S NO']"
      ],
      "execution_count": 160,
      "outputs": []
    },
    {
      "cell_type": "code",
      "metadata": {
        "id": "3RRkCAZpHVEL"
      },
      "source": [
        ""
      ],
      "execution_count": 160,
      "outputs": []
    },
    {
      "cell_type": "markdown",
      "metadata": {
        "id": "EClwvK_I-5NP"
      },
      "source": [
        "1. Conduct Pearson’s regression to determine the agreement between all parameters with the outputs (Cu and Cc) and present basic linear fittings. "
      ]
    },
    {
      "cell_type": "code",
      "metadata": {
        "id": "7lweJBcb42IT"
      },
      "source": [
        "x = data['Cc'] # taking the Cc column\r\n",
        "y = data['Cu'] # taking the Cu column"
      ],
      "execution_count": 161,
      "outputs": []
    },
    {
      "cell_type": "code",
      "metadata": {
        "id": "R6jNmU3e_S0C"
      },
      "source": [
        "from scipy.stats import pearsonr "
      ],
      "execution_count": 162,
      "outputs": []
    },
    {
      "cell_type": "code",
      "metadata": {
        "colab": {
          "base_uri": "https://localhost:8080/"
        },
        "id": "taS0g8Sx_XXn",
        "outputId": "cfe33604-c2a9-4c2f-96f1-af2013a0daa2"
      },
      "source": [
        "r, _  = pearsonr(x,y) # calculating the pearson's correlation coefficient for two variables\r\n",
        "r "
      ],
      "execution_count": 163,
      "outputs": [
        {
          "output_type": "execute_result",
          "data": {
            "text/plain": [
              "0.9657678969639488"
            ]
          },
          "metadata": {
            "tags": []
          },
          "execution_count": 163
        }
      ]
    },
    {
      "cell_type": "code",
      "metadata": {
        "colab": {
          "base_uri": "https://localhost:8080/"
        },
        "id": "x_ZsfetHDcpN",
        "outputId": "f522bb0b-d1e9-4b5e-9675-a1bd3b9cb545"
      },
      "source": [
        "np.corrcoef(x, y) # another method for calculating the pearson's correlation coefficient for two variables"
      ],
      "execution_count": 164,
      "outputs": [
        {
          "output_type": "execute_result",
          "data": {
            "text/plain": [
              "array([[1.       , 0.9657679],\n",
              "       [0.9657679, 1.       ]])"
            ]
          },
          "metadata": {
            "tags": []
          },
          "execution_count": 164
        }
      ]
    },
    {
      "cell_type": "code",
      "metadata": {
        "colab": {
          "base_uri": "https://localhost:8080/"
        },
        "id": "0unXPRwTD2Cb",
        "outputId": "4d7f2f5b-6ecd-4c27-c3db-75535ca5ce9e"
      },
      "source": [
        "corMat = data.corr()\r\n",
        "print(corMat)"
      ],
      "execution_count": 165,
      "outputs": [
        {
          "output_type": "stream",
          "text": [
            "           HC (%)   NQF (%)     C (%)        Ac         Φ        Cc        Cu\n",
            "HC (%)   1.000000  1.000000  0.996439 -0.993883  0.992387  0.994610  0.982764\n",
            "NQF (%)  1.000000  1.000000  0.996439 -0.993883  0.992387  0.994610  0.982764\n",
            "C (%)    0.996439  0.996439  1.000000 -0.997008  0.993742  0.984554  0.983685\n",
            "Ac      -0.993883 -0.993883 -0.997008  1.000000 -0.991463 -0.983404 -0.981070\n",
            "Φ        0.992387  0.992387  0.993742 -0.991463  1.000000  0.980971  0.972374\n",
            "Cc       0.994610  0.994610  0.984554 -0.983404  0.980971  1.000000  0.965768\n",
            "Cu       0.982764  0.982764  0.983685 -0.981070  0.972374  0.965768  1.000000\n"
          ],
          "name": "stdout"
        }
      ]
    },
    {
      "cell_type": "code",
      "metadata": {
        "colab": {
          "base_uri": "https://localhost:8080/",
          "height": 269
        },
        "id": "Iiwl3d9vGGOD",
        "outputId": "52307ee3-4ef3-45c2-f32d-b480f3925c5b"
      },
      "source": [
        "sns.heatmap(corMat, annot=True)\r\n",
        "plt.show()"
      ],
      "execution_count": 166,
      "outputs": [
        {
          "output_type": "display_data",
          "data": {
            "image/png": "[encoded data removed]",
            "text/plain": [
              "<Figure size 432x288 with 2 Axes>"
            ]
          },
          "metadata": {
            "tags": [],
            "needs_background": "light"
          }
        }
      ]
    },
    {
      "cell_type": "markdown",
      "metadata": {
        "id": "V-QpsXe5Ac0x"
      },
      "source": [
        "*From the above we can say that there is a positive correlation between Cc and Cu.*\r\n",
        "\r\n",
        "*which clearly says x and y both are strongly correlated with each other.*"
      ]
    },
    {
      "cell_type": "code",
      "metadata": {
        "colab": {
          "base_uri": "https://localhost:8080/",
          "height": 298
        },
        "id": "VY1ZvZUs_60E",
        "outputId": "3f4355b7-f8b1-4872-9731-ef4d370546b6"
      },
      "source": [
        "plt.scatter(x,y,color='red')\r\n",
        "plt.xlabel('Cc')\r\n",
        "plt.ylabel('Cu') "
      ],
      "execution_count": 167,
      "outputs": [
        {
          "output_type": "execute_result",
          "data": {
            "text/plain": [
              "Text(0, 0.5, 'Cu')"
            ]
          },
          "metadata": {
            "tags": []
          },
          "execution_count": 167
        },
        {
          "output_type": "display_data",
          "data": {
            "image/png": "[encoded data removed]",
            "text/plain": [
              "<Figure size 432x288 with 1 Axes>"
            ]
          },
          "metadata": {
            "tags": [],
            "needs_background": "light"
          }
        }
      ]
    },
    {
      "cell_type": "code",
      "metadata": {
        "colab": {
          "base_uri": "https://localhost:8080/",
          "height": 298
        },
        "id": "yeLSdvnYAIia",
        "outputId": "df4dbaab-f53c-4a5b-b843-48d2d852aa6f"
      },
      "source": [
        "plt.plot(x,y,color='g')\r\n",
        "plt.xlabel('Cc')\r\n",
        "plt.ylabel('Cu')"
      ],
      "execution_count": 168,
      "outputs": [
        {
          "output_type": "execute_result",
          "data": {
            "text/plain": [
              "Text(0, 0.5, 'Cu')"
            ]
          },
          "metadata": {
            "tags": []
          },
          "execution_count": 168
        },
        {
          "output_type": "display_data",
          "data": {
            "image/png": "[encoded data removed]",
            "text/plain": [
              "<Figure size 432x288 with 1 Axes>"
            ]
          },
          "metadata": {
            "tags": [],
            "needs_background": "light"
          }
        }
      ]
    },
    {
      "cell_type": "code",
      "metadata": {
        "id": "2Tf7bfn-GUJE"
      },
      "source": [
        ""
      ],
      "execution_count": 168,
      "outputs": []
    },
    {
      "cell_type": "markdown",
      "metadata": {
        "id": "tEjl8KzJHmSn"
      },
      "source": [
        "2. Present frequency histograms of the variables.\r\n"
      ]
    },
    {
      "cell_type": "code",
      "metadata": {
        "colab": {
          "base_uri": "https://localhost:8080/",
          "height": 299
        },
        "id": "sKUA4KVWJdDC",
        "outputId": "f6ac74fb-c3e9-4e1d-ee70-f4af65d7688c"
      },
      "source": [
        "sns.histplot(data=data, x=\"Cc\",kde=True) # histogram for the Cc variable"
      ],
      "execution_count": 169,
      "outputs": [
        {
          "output_type": "execute_result",
          "data": {
            "text/plain": [
              "<matplotlib.axes._subplots.AxesSubplot at 0x7feb975c9a90>"
            ]
          },
          "metadata": {
            "tags": []
          },
          "execution_count": 169
        },
        {
          "output_type": "display_data",
          "data": {
            "image/png": "[encoded data removed]",
            "text/plain": [
              "<Figure size 432x288 with 1 Axes>"
            ]
          },
          "metadata": {
            "tags": [],
            "needs_background": "light"
          }
        }
      ]
    },
    {
      "cell_type": "code",
      "metadata": {
        "colab": {
          "base_uri": "https://localhost:8080/",
          "height": 298
        },
        "id": "WL4Da2CcLBHe",
        "outputId": "5c98f92e-e8d0-4c3e-df4b-bc76eea58f0a"
      },
      "source": [
        "sns.histplot(data=data, y=\"Cu\",color='grey',kde=True) # histogram for the Cu variable"
      ],
      "execution_count": 170,
      "outputs": [
        {
          "output_type": "execute_result",
          "data": {
            "text/plain": [
              "<matplotlib.axes._subplots.AxesSubplot at 0x7feb97548748>"
            ]
          },
          "metadata": {
            "tags": []
          },
          "execution_count": 170
        },
        {
          "output_type": "display_data",
          "data": {
            "image/png": "[encoded data removed]",
            "text/plain": [
              "<Figure size 432x288 with 1 Axes>"
            ]
          },
          "metadata": {
            "tags": [],
            "needs_background": "light"
          }
        }
      ]
    },
    {
      "cell_type": "code",
      "metadata": {
        "id": "KDeDxtRXMpFf"
      },
      "source": [
        ""
      ],
      "execution_count": 170,
      "outputs": []
    },
    {
      "cell_type": "markdown",
      "metadata": {
        "id": "HeZuNzPjNOie"
      },
      "source": [
        "3. Train, Validate and Test. Present the architecture of the program."
      ]
    },
    {
      "cell_type": "code",
      "metadata": {
        "id": "yq_HYeeUNe3p"
      },
      "source": [
        "from sklearn.linear_model import LinearRegression\r\n",
        "from sklearn.metrics import r2_score,mean_absolute_error,mean_squared_error\r\n",
        "from sklearn.preprocessing import PolynomialFeatures\r\n",
        "from sklearn.model_selection import train_test_split  "
      ],
      "execution_count": 171,
      "outputs": []
    },
    {
      "cell_type": "code",
      "metadata": {
        "id": "jPTcBlfoN-WF"
      },
      "source": [
        "# taking the independent variables and dependent variables\r\n",
        "features = data[['HC (%)','NQF (%)','C (%)','Ac','Φ']].values\r\n",
        "labels = data[['Cc','Cu']].values"
      ],
      "execution_count": 172,
      "outputs": []
    },
    {
      "cell_type": "code",
      "metadata": {
        "id": "dUKDJVWzOG_Y"
      },
      "source": [
        "# Now divide the data into train and test. Here we are keeping 20% as our test set\r\n",
        "x_train,x_test,y_train,y_test = train_test_split(features,labels,test_size=0.2,random_state=2)"
      ],
      "execution_count": 173,
      "outputs": []
    },
    {
      "cell_type": "code",
      "metadata": {
        "colab": {
          "base_uri": "https://localhost:8080/"
        },
        "id": "u34D3YQlONRA",
        "outputId": "1fd6b318-c1eb-430f-fbd6-7566158e7c81"
      },
      "source": [
        "poly_regs= PolynomialFeatures(degree= 2)  \r\n",
        "z = poly_regs.fit_transform(x_train)  \r\n",
        "model =LinearRegression()  \r\n",
        "model.fit(z, y_train)"
      ],
      "execution_count": 174,
      "outputs": [
        {
          "output_type": "execute_result",
          "data": {
            "text/plain": [
              "LinearRegression(copy_X=True, fit_intercept=True, n_jobs=None, normalize=False)"
            ]
          },
          "metadata": {
            "tags": []
          },
          "execution_count": 174
        }
      ]
    },
    {
      "cell_type": "code",
      "metadata": {
        "id": "Dalu9FqHORfy"
      },
      "source": [
        "# Predicting for the test data\r\n",
        "m = poly_regs.fit_transform(x_test)"
      ],
      "execution_count": 175,
      "outputs": []
    },
    {
      "cell_type": "code",
      "metadata": {
        "colab": {
          "base_uri": "https://localhost:8080/"
        },
        "id": "CRl3RmvKOYyD",
        "outputId": "9aa45cbf-accb-488d-8f41-aca27c01a5f7"
      },
      "source": [
        "y_pred = model.predict(m)\r\n",
        "y_pred"
      ],
      "execution_count": 176,
      "outputs": [
        {
          "output_type": "execute_result",
          "data": {
            "text/plain": [
              "array([[1.46310782, 4.23693455],\n",
              "       [1.296568  , 2.805577  ],\n",
              "       [1.1601359 , 2.28983488],\n",
              "       [1.51231768, 4.70232697],\n",
              "       [1.41072623, 3.69534371],\n",
              "       [0.88114477, 1.95575245],\n",
              "       [1.11328574, 2.16052441],\n",
              "       [1.4298827 , 3.87777294],\n",
              "       [0.79885162, 2.4815546 ],\n",
              "       [0.99293146, 2.21889494],\n",
              "       [1.35401516, 3.21282716],\n",
              "       [1.12437925, 2.17330334],\n",
              "       [1.16948304, 2.37898234],\n",
              "       [0.87567247, 1.96682554],\n",
              "       [1.78196497, 5.43941473],\n",
              "       [1.7904945 , 5.47133305],\n",
              "       [1.65329519, 4.95065524],\n",
              "       [1.84255335, 5.6341126 ],\n",
              "       [0.99087767, 2.23895486],\n",
              "       [1.49052233, 4.5020167 ],\n",
              "       [1.33586935, 3.07624166],\n",
              "       [0.89459447, 2.06193953],\n",
              "       [1.26352358, 2.42017048],\n",
              "       [1.329082  , 3.00225888],\n",
              "       [1.24169708, 2.44595913]])"
            ]
          },
          "metadata": {
            "tags": []
          },
          "execution_count": 176
        }
      ]
    },
    {
      "cell_type": "code",
      "metadata": {
        "id": "fSfO3afwOfPe"
      },
      "source": [
        "# performing the cross validation using KFold\r\n",
        "from sklearn.model_selection import cross_validate,KFold,cross_val_score "
      ],
      "execution_count": 177,
      "outputs": []
    },
    {
      "cell_type": "code",
      "metadata": {
        "colab": {
          "base_uri": "https://localhost:8080/"
        },
        "id": "hYyColQ4PV37",
        "outputId": "ebcd602b-ea5e-4e0a-8338-9827868916d3"
      },
      "source": [
        "cross_val_score(LinearRegression(),features,labels).mean()"
      ],
      "execution_count": 178,
      "outputs": [
        {
          "output_type": "stream",
          "text": [
            "/usr/local/lib/python3.6/dist-packages/sklearn/base.py:434: FutureWarning: The default value of multioutput (not exposed in score method) will change from 'variance_weighted' to 'uniform_average' in 0.23 to keep consistent with 'metrics.r2_score'. To specify the default value manually and avoid the warning, please either call 'metrics.r2_score' directly or make a custom scorer with 'metrics.make_scorer' (the built-in scorer 'r2' uses multioutput='uniform_average').\n",
            "  \"multioutput='uniform_average').\", FutureWarning)\n",
            "/usr/local/lib/python3.6/dist-packages/sklearn/base.py:434: FutureWarning: The default value of multioutput (not exposed in score method) will change from 'variance_weighted' to 'uniform_average' in 0.23 to keep consistent with 'metrics.r2_score'. To specify the default value manually and avoid the warning, please either call 'metrics.r2_score' directly or make a custom scorer with 'metrics.make_scorer' (the built-in scorer 'r2' uses multioutput='uniform_average').\n",
            "  \"multioutput='uniform_average').\", FutureWarning)\n",
            "/usr/local/lib/python3.6/dist-packages/sklearn/base.py:434: FutureWarning: The default value of multioutput (not exposed in score method) will change from 'variance_weighted' to 'uniform_average' in 0.23 to keep consistent with 'metrics.r2_score'. To specify the default value manually and avoid the warning, please either call 'metrics.r2_score' directly or make a custom scorer with 'metrics.make_scorer' (the built-in scorer 'r2' uses multioutput='uniform_average').\n",
            "  \"multioutput='uniform_average').\", FutureWarning)\n",
            "/usr/local/lib/python3.6/dist-packages/sklearn/base.py:434: FutureWarning: The default value of multioutput (not exposed in score method) will change from 'variance_weighted' to 'uniform_average' in 0.23 to keep consistent with 'metrics.r2_score'. To specify the default value manually and avoid the warning, please either call 'metrics.r2_score' directly or make a custom scorer with 'metrics.make_scorer' (the built-in scorer 'r2' uses multioutput='uniform_average').\n",
            "  \"multioutput='uniform_average').\", FutureWarning)\n",
            "/usr/local/lib/python3.6/dist-packages/sklearn/base.py:434: FutureWarning: The default value of multioutput (not exposed in score method) will change from 'variance_weighted' to 'uniform_average' in 0.23 to keep consistent with 'metrics.r2_score'. To specify the default value manually and avoid the warning, please either call 'metrics.r2_score' directly or make a custom scorer with 'metrics.make_scorer' (the built-in scorer 'r2' uses multioutput='uniform_average').\n",
            "  \"multioutput='uniform_average').\", FutureWarning)\n"
          ],
          "name": "stderr"
        },
        {
          "output_type": "execute_result",
          "data": {
            "text/plain": [
              "-43.21816662688811"
            ]
          },
          "metadata": {
            "tags": []
          },
          "execution_count": 178
        }
      ]
    },
    {
      "cell_type": "code",
      "metadata": {
        "id": "Po2uhQ8FQdoW"
      },
      "source": [
        ""
      ],
      "execution_count": 178,
      "outputs": []
    },
    {
      "cell_type": "markdown",
      "metadata": {
        "id": "ewIInKd7Q4ap"
      },
      "source": [
        "4. Conduct performance evaluation in comparison between measured and predicted values using MLR, R^2, RMSE, MAE, MSE, and any other evaluation parameter."
      ]
    },
    {
      "cell_type": "code",
      "metadata": {
        "colab": {
          "base_uri": "https://localhost:8080/"
        },
        "id": "Lvois5E0RO19",
        "outputId": "da377ebb-6b39-45cc-ae51-2aa4225828d0"
      },
      "source": [
        "mean_absolute_error(y_test,y_pred) # calculating the mean absolute error for actual and predicted values"
      ],
      "execution_count": 179,
      "outputs": [
        {
          "output_type": "execute_result",
          "data": {
            "text/plain": [
              "0.03843532827199089"
            ]
          },
          "metadata": {
            "tags": []
          },
          "execution_count": 179
        }
      ]
    },
    {
      "cell_type": "code",
      "metadata": {
        "colab": {
          "base_uri": "https://localhost:8080/"
        },
        "id": "EVb3J1QOSBYT",
        "outputId": "36639029-9711-4fbc-d332-daf10fb59071"
      },
      "source": [
        "mean_squared_error(y_test,y_pred) # calculating the mean squared error for actual and predicted values"
      ],
      "execution_count": 180,
      "outputs": [
        {
          "output_type": "execute_result",
          "data": {
            "text/plain": [
              "0.006242877563215767"
            ]
          },
          "metadata": {
            "tags": []
          },
          "execution_count": 180
        }
      ]
    },
    {
      "cell_type": "code",
      "metadata": {
        "colab": {
          "base_uri": "https://localhost:8080/"
        },
        "id": "mVzzAJm9SEdJ",
        "outputId": "188d5bc1-612b-40ba-995f-6319f5d57f16"
      },
      "source": [
        "r2_score(y_test,y_pred) # calculating the r2 error for actual and predicted values"
      ],
      "execution_count": 181,
      "outputs": [
        {
          "output_type": "execute_result",
          "data": {
            "text/plain": [
              "0.9951130046928746"
            ]
          },
          "metadata": {
            "tags": []
          },
          "execution_count": 181
        }
      ]
    },
    {
      "cell_type": "code",
      "metadata": {
        "colab": {
          "base_uri": "https://localhost:8080/"
        },
        "id": "X04mxcK0SHpv",
        "outputId": "cf31e4cf-5818-48ca-9d59-682ef430d0ed"
      },
      "source": [
        "from math import sqrt\r\n",
        "rmse = sqrt(r2_score(y_test,y_pred)) # calculating the root mean squared error for actual and predicted values\r\n",
        "rmse"
      ],
      "execution_count": 182,
      "outputs": [
        {
          "output_type": "execute_result",
          "data": {
            "text/plain": [
              "0.9975535096890165"
            ]
          },
          "metadata": {
            "tags": []
          },
          "execution_count": 182
        }
      ]
    },
    {
      "cell_type": "code",
      "metadata": {
        "id": "DMsEA155SUzL"
      },
      "source": [
        ""
      ],
      "execution_count": 182,
      "outputs": []
    },
    {
      "cell_type": "markdown",
      "metadata": {
        "id": "Y2ajlWDAS-fC"
      },
      "source": [
        "5. Present the parametric study graph."
      ]
    },
    {
      "cell_type": "code",
      "metadata": {
        "colab": {
          "base_uri": "https://localhost:8080/",
          "height": 298
        },
        "id": "JHLem50XTBfm",
        "outputId": "2d200cb8-3070-475e-f943-052156b82b84"
      },
      "source": [
        "plt.scatter(y_test,y_pred)\r\n",
        "plt.plot(y_test,y_pred)"
      ],
      "execution_count": 183,
      "outputs": [
        {
          "output_type": "execute_result",
          "data": {
            "text/plain": [
              "[<matplotlib.lines.Line2D at 0x7feb974c17f0>,\n",
              " <matplotlib.lines.Line2D at 0x7feb974794e0>]"
            ]
          },
          "metadata": {
            "tags": []
          },
          "execution_count": 183
        },
        {
          "output_type": "display_data",
          "data": {
            "image/png": "[encoded data removed]",
            "text/plain": [
              "<Figure size 432x288 with 1 Axes>"
            ]
          },
          "metadata": {
            "tags": [],
            "needs_background": "light"
          }
        }
      ]
    },
    {
      "cell_type": "code",
      "metadata": {
        "colab": {
          "base_uri": "https://localhost:8080/",
          "height": 265
        },
        "id": "mATqUFXdUQfN",
        "outputId": "2d9073fb-3b7d-4a0b-99c1-9fe7ac54a29b"
      },
      "source": [
        "plt.scatter(y_test, y_pred, c=y_pred, cmap='viridis');"
      ],
      "execution_count": 184,
      "outputs": [
        {
          "output_type": "display_data",
          "data": {
            "image/png": "[encoded data removed]",
            "text/plain": [
              "<Figure size 432x288 with 1 Axes>"
            ]
          },
          "metadata": {
            "tags": [],
            "needs_background": "light"
          }
        }
      ]
    },
    {
      "cell_type": "code",
      "metadata": {
        "id": "UyzNS-FqVI0x"
      },
      "source": [
        ""
      ],
      "execution_count": 184,
      "outputs": []
    },
    {
      "cell_type": "markdown",
      "metadata": {
        "id": "ofpDfCZRWXgq"
      },
      "source": [
        "6. Conduct sensitivity analysis to determine the influence of each parameter on the predicted parameters."
      ]
    },
    {
      "cell_type": "code",
      "metadata": {
        "colab": {
          "base_uri": "https://localhost:8080/"
        },
        "id": "shdv9YqIWgu3",
        "outputId": "1924e55c-6f2a-48ad-a2fc-94762c9f640d"
      },
      "source": [
        "from sklearn.datasets import make_regression\r\n",
        "from xgboost import XGBRegressor\r\n",
        "\r\n",
        "M, n = make_regression(n_samples=500, n_features=5, n_informative=2, noise=0.3)\r\n",
        "M = pd.DataFrame(M, columns=['HC (%)','NQF (%)','C (%)','Ac','Φ'])\r\n",
        "\r\n",
        "model = XGBRegressor()\r\n",
        "model.fit(M, n)"
      ],
      "execution_count": 185,
      "outputs": [
        {
          "output_type": "stream",
          "text": [
            "[08:29:40] WARNING: /workspace/src/objective/regression_obj.cu:152: reg:linear is now deprecated in favor of reg:squarederror.\n"
          ],
          "name": "stdout"
        },
        {
          "output_type": "execute_result",
          "data": {
            "text/plain": [
              "XGBRegressor(base_score=0.5, booster='gbtree', colsample_bylevel=1,\n",
              "             colsample_bynode=1, colsample_bytree=1, gamma=0,\n",
              "             importance_type='gain', learning_rate=0.1, max_delta_step=0,\n",
              "             max_depth=3, min_child_weight=1, missing=None, n_estimators=100,\n",
              "             n_jobs=1, nthread=None, objective='reg:linear', random_state=0,\n",
              "             reg_alpha=0, reg_lambda=1, scale_pos_weight=1, seed=None,\n",
              "             silent=None, subsample=1, verbosity=1)"
            ]
          },
          "metadata": {
            "tags": []
          },
          "execution_count": 185
        }
      ]
    },
    {
      "cell_type": "code",
      "metadata": {
        "colab": {
          "base_uri": "https://localhost:8080/",
          "height": 297
        },
        "id": "CSGQkbIxZo3p",
        "outputId": "ad8c8f2c-b0bf-41f6-f9c2-1f82b90a6bec"
      },
      "source": [
        "class Simulate:\r\n",
        "    def __init__(self, obs, var):\r\n",
        "        self.obs = obs\r\n",
        "        self.var = var\r\n",
        "\r\n",
        "    def simulate_increase(self, model, percentage):\r\n",
        "        baseline = model.predict(self.obs)\r\n",
        "        plus = {}\r\n",
        "        for ivar in self.var:\r\n",
        "            M_plus = self.obs.copy()\r\n",
        "            M_plus[ivar] = M_plus[ivar] + M_plus[ivar] * (percentage / 100)\r\n",
        "            plus[ivar] = model.predict(M_plus)\r\n",
        "        b = pd.DataFrame(\r\n",
        "            plus, index=['simulated'\r\n",
        "                         ]).T.reset_index().rename(columns={'index': 'test'})\r\n",
        "        b['baseline'] = baseline[0]\r\n",
        "        return b\r\n",
        "\r\n",
        "    @staticmethod\r\n",
        "    def plot_simulation(d, **kwargs):\r\n",
        "        fig, ax = plt.subplots()\r\n",
        "        sns.barplot(x='test', y='simulated', data=d, palette='deep', ax=ax)\r\n",
        "        ax.axhline(d['baseline'].values[0], color='grey', linestyle='--', linewidth=2)\r\n",
        "        ax.plot([0, 0], [-100, -100], color='grey', linestyle='--', linewidth=2, label='baseline')\r\n",
        "\r\n",
        "        maxi = int(d['simulated'].max() + d['simulated'].max() * 0.1)\r\n",
        "        mini = int(d['simulated'].min() - d['simulated'].min() * 0.1)\r\n",
        "        ax.set_ylim([mini, maxi])\r\n",
        "\r\n",
        "        ax.set_xlabel('Simulated variables')\r\n",
        "        ax.set_ylabel('Target value')\r\n",
        "        ax.set_title(kwargs.get('title'))\r\n",
        "        ax.legend()\r\n",
        "\r\n",
        "        ax.grid(axis='y', linewidth=.3)\r\n",
        "        sns.despine(offset=10, trim=True)\r\n",
        "        plt.tight_layout()\r\n",
        "        plt.show()\r\n",
        "\r\n",
        "\r\n",
        "VAR_OPTIMIZE = ['HC (%)','NQF (%)','C (%)','Ac','Φ']\r\n",
        "PERC = 5\r\n",
        "ROW = M.iloc[[29]]\r\n",
        "\r\n",
        "S = Simulate(obs=ROW, var=VAR_OPTIMIZE)\r\n",
        "d = S.simulate_increase(model=model, percentage=PERC)\r\n",
        "S.plot_simulation(d, title=f'Impact of a {PERC}% increase of {VAR_OPTIMIZE} in target value')"
      ],
      "execution_count": 186,
      "outputs": [
        {
          "output_type": "display_data",
          "data": {
            "image/png": "[encoded data removed]",
            "text/plain": [
              "<Figure size 432x288 with 1 Axes>"
            ]
          },
          "metadata": {
            "tags": [],
            "needs_background": "light"
          }
        }
      ]
    }
  ]
}