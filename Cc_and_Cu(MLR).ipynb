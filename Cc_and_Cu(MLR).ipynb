{
  "nbformat": 4,
  "nbformat_minor": 0,
  "metadata": {
    "colab": {
      "name": "Cc and Cu(MLR)",
      "provenance": [],
      "authorship_tag": "ABX9TyPoSbV7+9I3RKTAjyaZeI9d",
      "include_colab_link": true
    },
    "kernelspec": {
      "name": "python3",
      "display_name": "Python 3"
    }
  },
  "cells": [
    {
      "cell_type": "markdown",
      "metadata": {
        "id": "view-in-github",
        "colab_type": "text"
      },
      "source": [
        "<a href=\"https://colab.research.google.com/github/Bala534/Regproject/blob/main/Cc_and_Cu(MLR).ipynb\" target=\"_parent\"><img src=\"https://colab.research.google.com/assets/colab-badge.svg\" alt=\"Open In Colab\"/></a>"
      ]
    },
    {
      "cell_type": "code",
      "metadata": {
        "id": "lU6FzVNR3Gyl"
      },
      "source": [
        "# importing the required libraries\r\n",
        "import numpy as np\r\n",
        "import pandas as pd\r\n",
        "from matplotlib import pyplot as plt\r\n",
        "%matplotlib inline\r\n",
        "import seaborn as sns"
      ],
      "execution_count": 1,
      "outputs": []
    },
    {
      "cell_type": "code",
      "metadata": {
        "id": "sS4X-2cR39o6"
      },
      "source": [
        "from pandas import ExcelWriter\r\n",
        "from pandas import ExcelFile"
      ],
      "execution_count": 2,
      "outputs": []
    },
    {
      "cell_type": "code",
      "metadata": {
        "colab": {
          "base_uri": "https://localhost:8080/",
          "height": 195
        },
        "id": "BGL8oO1Q4Ugv",
        "outputId": "188e0fac-450e-4940-f169-80f08fc9ed16"
      },
      "source": [
        "data = pd.read_excel('Cu and Cu Table of Data.xlsx')\r\n",
        "data.head()"
      ],
      "execution_count": 3,
      "outputs": [
        {
          "output_type": "execute_result",
          "data": {
            "text/html": [
              "<div>\n",
              "<style scoped>\n",
              "    .dataframe tbody tr th:only-of-type {\n",
              "        vertical-align: middle;\n",
              "    }\n",
              "\n",
              "    .dataframe tbody tr th {\n",
              "        vertical-align: top;\n",
              "    }\n",
              "\n",
              "    .dataframe thead th {\n",
              "        text-align: right;\n",
              "    }\n",
              "</style>\n",
              "<table border=\"1\" class=\"dataframe\">\n",
              "  <thead>\n",
              "    <tr style=\"text-align: right;\">\n",
              "      <th></th>\n",
              "      <th>S NO</th>\n",
              "      <th>HC (%)</th>\n",
              "      <th>NQF (%)</th>\n",
              "      <th>C (%)</th>\n",
              "      <th>Unnamed: 4</th>\n",
              "      <th>Unnamed: 5</th>\n",
              "      <th>Unnamed: 6</th>\n",
              "      <th>Unnamed: 7</th>\n",
              "    </tr>\n",
              "  </thead>\n",
              "  <tbody>\n",
              "    <tr>\n",
              "      <th>0</th>\n",
              "      <td>1</td>\n",
              "      <td>0.0</td>\n",
              "      <td>0.00</td>\n",
              "      <td>23.02</td>\n",
              "      <td>2.00</td>\n",
              "      <td>15.00</td>\n",
              "      <td>0.84</td>\n",
              "      <td>2.05</td>\n",
              "    </tr>\n",
              "    <tr>\n",
              "      <th>1</th>\n",
              "      <td>2</td>\n",
              "      <td>0.1</td>\n",
              "      <td>0.01</td>\n",
              "      <td>23.02</td>\n",
              "      <td>1.98</td>\n",
              "      <td>15.01</td>\n",
              "      <td>0.85</td>\n",
              "      <td>2.05</td>\n",
              "    </tr>\n",
              "    <tr>\n",
              "      <th>2</th>\n",
              "      <td>3</td>\n",
              "      <td>0.2</td>\n",
              "      <td>0.02</td>\n",
              "      <td>23.03</td>\n",
              "      <td>1.96</td>\n",
              "      <td>15.04</td>\n",
              "      <td>0.86</td>\n",
              "      <td>2.06</td>\n",
              "    </tr>\n",
              "    <tr>\n",
              "      <th>3</th>\n",
              "      <td>4</td>\n",
              "      <td>0.3</td>\n",
              "      <td>0.03</td>\n",
              "      <td>23.03</td>\n",
              "      <td>1.96</td>\n",
              "      <td>15.09</td>\n",
              "      <td>0.87</td>\n",
              "      <td>2.06</td>\n",
              "    </tr>\n",
              "    <tr>\n",
              "      <th>4</th>\n",
              "      <td>5</td>\n",
              "      <td>0.4</td>\n",
              "      <td>0.04</td>\n",
              "      <td>23.04</td>\n",
              "      <td>1.93</td>\n",
              "      <td>15.14</td>\n",
              "      <td>0.88</td>\n",
              "      <td>2.06</td>\n",
              "    </tr>\n",
              "  </tbody>\n",
              "</table>\n",
              "</div>"
            ],
            "text/plain": [
              "   S NO  HC (%)  NQF (%)  C (%)  Unnamed: 4  Unnamed: 5  Unnamed: 6  Unnamed: 7\n",
              "0     1     0.0     0.00  23.02        2.00       15.00        0.84        2.05\n",
              "1     2     0.1     0.01  23.02        1.98       15.01        0.85        2.05\n",
              "2     3     0.2     0.02  23.03        1.96       15.04        0.86        2.06\n",
              "3     4     0.3     0.03  23.03        1.96       15.09        0.87        2.06\n",
              "4     5     0.4     0.04  23.04        1.93       15.14        0.88        2.06"
            ]
          },
          "metadata": {
            "tags": []
          },
          "execution_count": 3
        }
      ]
    },
    {
      "cell_type": "code",
      "metadata": {
        "id": "j8uCtkFy4Zq3"
      },
      "source": [
        "data.rename(columns = {'Unnamed: 4':'Ac','Unnamed: 5':'Φ','Unnamed: 6':'Cc','Unnamed: 7':'Cu'}, inplace = True) # Changing the column names"
      ],
      "execution_count": 4,
      "outputs": []
    },
    {
      "cell_type": "code",
      "metadata": {
        "colab": {
          "base_uri": "https://localhost:8080/",
          "height": 195
        },
        "id": "EZAcgVCx4hY0",
        "outputId": "773595b2-0967-46e6-d956-f36f7cf4c1d4"
      },
      "source": [
        "data.head()"
      ],
      "execution_count": 5,
      "outputs": [
        {
          "output_type": "execute_result",
          "data": {
            "text/html": [
              "<div>\n",
              "<style scoped>\n",
              "    .dataframe tbody tr th:only-of-type {\n",
              "        vertical-align: middle;\n",
              "    }\n",
              "\n",
              "    .dataframe tbody tr th {\n",
              "        vertical-align: top;\n",
              "    }\n",
              "\n",
              "    .dataframe thead th {\n",
              "        text-align: right;\n",
              "    }\n",
              "</style>\n",
              "<table border=\"1\" class=\"dataframe\">\n",
              "  <thead>\n",
              "    <tr style=\"text-align: right;\">\n",
              "      <th></th>\n",
              "      <th>S NO</th>\n",
              "      <th>HC (%)</th>\n",
              "      <th>NQF (%)</th>\n",
              "      <th>C (%)</th>\n",
              "      <th>Ac</th>\n",
              "      <th>Φ</th>\n",
              "      <th>Cc</th>\n",
              "      <th>Cu</th>\n",
              "    </tr>\n",
              "  </thead>\n",
              "  <tbody>\n",
              "    <tr>\n",
              "      <th>0</th>\n",
              "      <td>1</td>\n",
              "      <td>0.0</td>\n",
              "      <td>0.00</td>\n",
              "      <td>23.02</td>\n",
              "      <td>2.00</td>\n",
              "      <td>15.00</td>\n",
              "      <td>0.84</td>\n",
              "      <td>2.05</td>\n",
              "    </tr>\n",
              "    <tr>\n",
              "      <th>1</th>\n",
              "      <td>2</td>\n",
              "      <td>0.1</td>\n",
              "      <td>0.01</td>\n",
              "      <td>23.02</td>\n",
              "      <td>1.98</td>\n",
              "      <td>15.01</td>\n",
              "      <td>0.85</td>\n",
              "      <td>2.05</td>\n",
              "    </tr>\n",
              "    <tr>\n",
              "      <th>2</th>\n",
              "      <td>3</td>\n",
              "      <td>0.2</td>\n",
              "      <td>0.02</td>\n",
              "      <td>23.03</td>\n",
              "      <td>1.96</td>\n",
              "      <td>15.04</td>\n",
              "      <td>0.86</td>\n",
              "      <td>2.06</td>\n",
              "    </tr>\n",
              "    <tr>\n",
              "      <th>3</th>\n",
              "      <td>4</td>\n",
              "      <td>0.3</td>\n",
              "      <td>0.03</td>\n",
              "      <td>23.03</td>\n",
              "      <td>1.96</td>\n",
              "      <td>15.09</td>\n",
              "      <td>0.87</td>\n",
              "      <td>2.06</td>\n",
              "    </tr>\n",
              "    <tr>\n",
              "      <th>4</th>\n",
              "      <td>5</td>\n",
              "      <td>0.4</td>\n",
              "      <td>0.04</td>\n",
              "      <td>23.04</td>\n",
              "      <td>1.93</td>\n",
              "      <td>15.14</td>\n",
              "      <td>0.88</td>\n",
              "      <td>2.06</td>\n",
              "    </tr>\n",
              "  </tbody>\n",
              "</table>\n",
              "</div>"
            ],
            "text/plain": [
              "   S NO  HC (%)  NQF (%)  C (%)    Ac      Φ    Cc    Cu\n",
              "0     1     0.0     0.00  23.02  2.00  15.00  0.84  2.05\n",
              "1     2     0.1     0.01  23.02  1.98  15.01  0.85  2.05\n",
              "2     3     0.2     0.02  23.03  1.96  15.04  0.86  2.06\n",
              "3     4     0.3     0.03  23.03  1.96  15.09  0.87  2.06\n",
              "4     5     0.4     0.04  23.04  1.93  15.14  0.88  2.06"
            ]
          },
          "metadata": {
            "tags": []
          },
          "execution_count": 5
        }
      ]
    },
    {
      "cell_type": "code",
      "metadata": {
        "colab": {
          "base_uri": "https://localhost:8080/"
        },
        "id": "1A08rE5N4jrN",
        "outputId": "af406b40-39c8-4a92-ee1d-454a0fe978f9"
      },
      "source": [
        "data.shape # no of rows and columns"
      ],
      "execution_count": 6,
      "outputs": [
        {
          "output_type": "execute_result",
          "data": {
            "text/plain": [
              "(121, 8)"
            ]
          },
          "metadata": {
            "tags": []
          },
          "execution_count": 6
        }
      ]
    },
    {
      "cell_type": "code",
      "metadata": {
        "colab": {
          "base_uri": "https://localhost:8080/"
        },
        "id": "4yQV7u4c4wHE",
        "outputId": "74bac2cf-2efa-456a-f54f-e75c74368630"
      },
      "source": [
        "data.isna().any()"
      ],
      "execution_count": 7,
      "outputs": [
        {
          "output_type": "execute_result",
          "data": {
            "text/plain": [
              "S NO       False\n",
              "HC (%)     False\n",
              "NQF (%)    False\n",
              "C (%)      False\n",
              "Ac         False\n",
              "Φ          False\n",
              "Cc         False\n",
              "Cu         False\n",
              "dtype: bool"
            ]
          },
          "metadata": {
            "tags": []
          },
          "execution_count": 7
        }
      ]
    },
    {
      "cell_type": "code",
      "metadata": {
        "colab": {
          "base_uri": "https://localhost:8080/"
        },
        "id": "540FJ7os4ygH",
        "outputId": "97448716-0b74-4c96-fde6-476356db4ab8"
      },
      "source": [
        "data.isna().sum().sum()"
      ],
      "execution_count": 8,
      "outputs": [
        {
          "output_type": "execute_result",
          "data": {
            "text/plain": [
              "0"
            ]
          },
          "metadata": {
            "tags": []
          },
          "execution_count": 8
        }
      ]
    },
    {
      "cell_type": "code",
      "metadata": {
        "id": "PdDCtFRqBtjF"
      },
      "source": [
        "del data['S NO']"
      ],
      "execution_count": 9,
      "outputs": []
    },
    {
      "cell_type": "markdown",
      "metadata": {
        "id": "EClwvK_I-5NP"
      },
      "source": [
        "Conduct Pearson’s regression to determine the agreement between all parameters with the outputs (Cu and Cc) and present basic linear fittings. "
      ]
    },
    {
      "cell_type": "code",
      "metadata": {
        "id": "7lweJBcb42IT"
      },
      "source": [
        "x = data['Cc'] # taking the Cc column\r\n",
        "y = data['Cu'] # taking the Cu column"
      ],
      "execution_count": 10,
      "outputs": []
    },
    {
      "cell_type": "code",
      "metadata": {
        "id": "R6jNmU3e_S0C"
      },
      "source": [
        "from scipy.stats import pearsonr "
      ],
      "execution_count": 11,
      "outputs": []
    },
    {
      "cell_type": "code",
      "metadata": {
        "colab": {
          "base_uri": "https://localhost:8080/"
        },
        "id": "taS0g8Sx_XXn",
        "outputId": "8da473b2-5f76-4786-d37e-3536bb674c64"
      },
      "source": [
        "r, _  = pearsonr(x,y) # calculating the pearson's correlation coefficient for two variables\r\n",
        "r "
      ],
      "execution_count": 12,
      "outputs": [
        {
          "output_type": "execute_result",
          "data": {
            "text/plain": [
              "0.9657678969639489"
            ]
          },
          "metadata": {
            "tags": []
          },
          "execution_count": 12
        }
      ]
    },
    {
      "cell_type": "code",
      "metadata": {
        "colab": {
          "base_uri": "https://localhost:8080/"
        },
        "id": "x_ZsfetHDcpN",
        "outputId": "ca3c8e31-b8a9-41da-b74f-5fa146b664f8"
      },
      "source": [
        "np.corrcoef(x, y) # another method for calculating the pearson's correlation coefficient for two variables"
      ],
      "execution_count": 13,
      "outputs": [
        {
          "output_type": "execute_result",
          "data": {
            "text/plain": [
              "array([[1.       , 0.9657679],\n",
              "       [0.9657679, 1.       ]])"
            ]
          },
          "metadata": {
            "tags": []
          },
          "execution_count": 13
        }
      ]
    },
    {
      "cell_type": "code",
      "metadata": {
        "colab": {
          "base_uri": "https://localhost:8080/"
        },
        "id": "0unXPRwTD2Cb",
        "outputId": "9610d3ee-d5dc-489d-8a82-8b3dd8d8874d"
      },
      "source": [
        "corMat = data.corr()\r\n",
        "print(corMat)"
      ],
      "execution_count": 14,
      "outputs": [
        {
          "output_type": "stream",
          "text": [
            "           HC (%)   NQF (%)     C (%)        Ac         Φ        Cc        Cu\n",
            "HC (%)   1.000000  1.000000  0.996439 -0.993883  0.992387  0.994610  0.982764\n",
            "NQF (%)  1.000000  1.000000  0.996439 -0.993883  0.992387  0.994610  0.982764\n",
            "C (%)    0.996439  0.996439  1.000000 -0.997008  0.993742  0.984554  0.983685\n",
            "Ac      -0.993883 -0.993883 -0.997008  1.000000 -0.991463 -0.983404 -0.981070\n",
            "Φ        0.992387  0.992387  0.993742 -0.991463  1.000000  0.980971  0.972374\n",
            "Cc       0.994610  0.994610  0.984554 -0.983404  0.980971  1.000000  0.965768\n",
            "Cu       0.982764  0.982764  0.983685 -0.981070  0.972374  0.965768  1.000000\n"
          ],
          "name": "stdout"
        }
      ]
    },
    {
      "cell_type": "code",
      "metadata": {
        "colab": {
          "base_uri": "https://localhost:8080/",
          "height": 269
        },
        "id": "Iiwl3d9vGGOD",
        "outputId": "f909ba70-2b1c-4f9f-9eee-db348891533f"
      },
      "source": [
        "sns.heatmap(corMat, annot=True)\r\n",
        "plt.show()"
      ],
      "execution_count": 15,
      "outputs": [
        {
          "output_type": "display_data",
          "data": {
            "image/png": "[encoded data removed]",
            "text/plain": [
              "<Figure size 432x288 with 2 Axes>"
            ]
          },
          "metadata": {
            "tags": [],
            "needs_background": "light"
          }
        }
      ]
    },
    {
      "cell_type": "markdown",
      "metadata": {
        "id": "V-QpsXe5Ac0x"
      },
      "source": [
        "*From the above we can say that there is a positive correlation between Cc and Cu.*\r\n",
        "\r\n",
        "*which clearly says x and y both are strongly correlated with each other.*"
      ]
    },
    {
      "cell_type": "code",
      "metadata": {
        "colab": {
          "base_uri": "https://localhost:8080/",
          "height": 298
        },
        "id": "VY1ZvZUs_60E",
        "outputId": "a17301b9-8681-403e-bd80-68c2325462ee"
      },
      "source": [
        "plt.scatter(x,y,color='red')\r\n",
        "plt.xlabel('Cc')\r\n",
        "plt.ylabel('Cu') "
      ],
      "execution_count": 16,
      "outputs": [
        {
          "output_type": "execute_result",
          "data": {
            "text/plain": [
              "Text(0, 0.5, 'Cu')"
            ]
          },
          "metadata": {
            "tags": []
          },
          "execution_count": 16
        },
        {
          "output_type": "display_data",
          "data": {
            "image/png": "[encoded data removed]",
            "text/plain": [
              "<Figure size 432x288 with 1 Axes>"
            ]
          },
          "metadata": {
            "tags": [],
            "needs_background": "light"
          }
        }
      ]
    },
    {
      "cell_type": "code",
      "metadata": {
        "colab": {
          "base_uri": "https://localhost:8080/",
          "height": 298
        },
        "id": "yeLSdvnYAIia",
        "outputId": "da275a17-4bee-4ec8-b48a-bb0b44fabe66"
      },
      "source": [
        "plt.plot(x,y,color='g')\r\n",
        "plt.xlabel('Cc')\r\n",
        "plt.ylabel('Cu')"
      ],
      "execution_count": 17,
      "outputs": [
        {
          "output_type": "execute_result",
          "data": {
            "text/plain": [
              "Text(0, 0.5, 'Cu')"
            ]
          },
          "metadata": {
            "tags": []
          },
          "execution_count": 17
        },
        {
          "output_type": "display_data",
          "data": {
            "image/png": "[encoded data removed]",
            "text/plain": [
              "<Figure size 432x288 with 1 Axes>"
            ]
          },
          "metadata": {
            "tags": [],
            "needs_background": "light"
          }
        }
      ]
    },
    {
      "cell_type": "markdown",
      "metadata": {
        "id": "tEjl8KzJHmSn"
      },
      "source": [
        "Present frequency histograms of the variables.\r\n",
        "\r\n"
      ]
    },
    {
      "cell_type": "code",
      "metadata": {
        "colab": {
          "base_uri": "https://localhost:8080/",
          "height": 299
        },
        "id": "sKUA4KVWJdDC",
        "outputId": "2752127a-1bcb-4490-a766-8772762f967c"
      },
      "source": [
        "sns.histplot(data=data, x=\"Cc\",kde=True) # histogram for the Cc variable"
      ],
      "execution_count": 18,
      "outputs": [
        {
          "output_type": "execute_result",
          "data": {
            "text/plain": [
              "<matplotlib.axes._subplots.AxesSubplot at 0x7f751a8a4710>"
            ]
          },
          "metadata": {
            "tags": []
          },
          "execution_count": 18
        },
        {
          "output_type": "display_data",
          "data": {
            "image/png": "[encoded data removed]",
            "text/plain": [
              "<Figure size 432x288 with 1 Axes>"
            ]
          },
          "metadata": {
            "tags": [],
            "needs_background": "light"
          }
        }
      ]
    },
    {
      "cell_type": "code",
      "metadata": {
        "colab": {
          "base_uri": "https://localhost:8080/",
          "height": 296
        },
        "id": "WL4Da2CcLBHe",
        "outputId": "d9b1ef60-0324-409a-f72e-1a23fd3fe057"
      },
      "source": [
        "sns.histplot(data=data, x=\"Cu\",color='grey',kde=True) # histogram for the Cu variable"
      ],
      "execution_count": 19,
      "outputs": [
        {
          "output_type": "execute_result",
          "data": {
            "text/plain": [
              "<matplotlib.axes._subplots.AxesSubplot at 0x7f751addfeb8>"
            ]
          },
          "metadata": {
            "tags": []
          },
          "execution_count": 19
        },
        {
          "output_type": "display_data",
          "data": {
            "image/png": "[encoded data removed]",
            "text/plain": [
              "<Figure size 432x288 with 1 Axes>"
            ]
          },
          "metadata": {
            "tags": [],
            "needs_background": "light"
          }
        }
      ]
    },
    {
      "cell_type": "markdown",
      "metadata": {
        "id": "HeZuNzPjNOie"
      },
      "source": [
        "Train, Validate and Test. Present the architecture of the program."
      ]
    },
    {
      "cell_type": "code",
      "metadata": {
        "id": "yq_HYeeUNe3p"
      },
      "source": [
        "from sklearn.linear_model import LinearRegression\r\n",
        "from sklearn.metrics import r2_score,mean_absolute_error,mean_squared_error\r\n",
        "from sklearn.preprocessing import PolynomialFeatures\r\n",
        "from sklearn.model_selection import train_test_split  "
      ],
      "execution_count": 20,
      "outputs": []
    },
    {
      "cell_type": "code",
      "metadata": {
        "id": "jPTcBlfoN-WF"
      },
      "source": [
        "# taking the independent variables and dependent variables\r\n",
        "features = data[['HC (%)','NQF (%)','C (%)','Ac','Φ']].values\r\n",
        "labels = data[['Cc','Cu']].values"
      ],
      "execution_count": 21,
      "outputs": []
    },
    {
      "cell_type": "code",
      "metadata": {
        "id": "dUKDJVWzOG_Y"
      },
      "source": [
        "# Now divide the data into train and test. Here we are keeping 20% as our test set\r\n",
        "x_train,x_test,y_train,y_test = train_test_split(features,labels,test_size=0.2)"
      ],
      "execution_count": 22,
      "outputs": []
    },
    {
      "cell_type": "code",
      "metadata": {
        "colab": {
          "base_uri": "https://localhost:8080/"
        },
        "id": "u34D3YQlONRA",
        "outputId": "a598284d-c511-48d0-f9c1-f80d1eb6d9b4"
      },
      "source": [
        "poly_regs= PolynomialFeatures(degree= 2)  \r\n",
        "z = poly_regs.fit_transform(x_train)  \r\n",
        "model =LinearRegression()  \r\n",
        "model.fit(z, y_train)"
      ],
      "execution_count": 23,
      "outputs": [
        {
          "output_type": "execute_result",
          "data": {
            "text/plain": [
              "LinearRegression(copy_X=True, fit_intercept=True, n_jobs=None, normalize=False)"
            ]
          },
          "metadata": {
            "tags": []
          },
          "execution_count": 23
        }
      ]
    },
    {
      "cell_type": "code",
      "metadata": {
        "id": "Dalu9FqHORfy"
      },
      "source": [
        "# Predicting for the test data\r\n",
        "m = poly_regs.fit_transform(x_test)"
      ],
      "execution_count": 24,
      "outputs": []
    },
    {
      "cell_type": "code",
      "metadata": {
        "colab": {
          "base_uri": "https://localhost:8080/"
        },
        "id": "CRl3RmvKOYyD",
        "outputId": "86b129f2-a8fc-40c6-f09f-f44997680fe5"
      },
      "source": [
        "y_pred = model.predict(m)\r\n",
        "y_pred"
      ],
      "execution_count": 25,
      "outputs": [
        {
          "output_type": "execute_result",
          "data": {
            "text/plain": [
              "array([[1.3427653 , 3.12395849],\n",
              "       [1.18632484, 2.38886983],\n",
              "       [0.92087742, 1.96662228],\n",
              "       [1.4301465 , 3.86267749],\n",
              "       [1.6909358 , 5.09565793],\n",
              "       [1.54564534, 5.04128378],\n",
              "       [1.90937782, 5.82411036],\n",
              "       [1.651558  , 4.95545668],\n",
              "       [1.39539937, 3.48951898],\n",
              "       [0.87894332, 1.9656581 ],\n",
              "       [1.01389218, 2.10963516],\n",
              "       [1.4623484 , 4.2416898 ],\n",
              "       [1.26863107, 2.55385169],\n",
              "       [0.97228564, 2.23092761],\n",
              "       [1.49835894, 4.57075495],\n",
              "       [1.87397773, 5.74887073],\n",
              "       [1.58273106, 4.62907541],\n",
              "       [1.41939226, 3.74069027],\n",
              "       [0.99133131, 2.21797103],\n",
              "       [1.74803653, 5.3538705 ],\n",
              "       [1.20349138, 2.45809584],\n",
              "       [0.9036353 , 2.12909063],\n",
              "       [0.84821765, 2.020103  ],\n",
              "       [0.90909495, 2.06064012],\n",
              "       [0.99997696, 2.189825  ]])"
            ]
          },
          "metadata": {
            "tags": []
          },
          "execution_count": 25
        }
      ]
    },
    {
      "cell_type": "code",
      "metadata": {
        "id": "fSfO3afwOfPe"
      },
      "source": [
        "# performing the cross validation using KFold\r\n",
        "from sklearn.model_selection import cross_validate,KFold,cross_val_score "
      ],
      "execution_count": 26,
      "outputs": []
    },
    {
      "cell_type": "code",
      "metadata": {
        "colab": {
          "base_uri": "https://localhost:8080/"
        },
        "id": "hYyColQ4PV37",
        "outputId": "a43fbac8-5877-48c9-fa83-03be5708b276"
      },
      "source": [
        "cross_val_score(LinearRegression(),features,labels).mean()"
      ],
      "execution_count": 27,
      "outputs": [
        {
          "output_type": "stream",
          "text": [
            "/usr/local/lib/python3.6/dist-packages/sklearn/base.py:434: FutureWarning: The default value of multioutput (not exposed in score method) will change from 'variance_weighted' to 'uniform_average' in 0.23 to keep consistent with 'metrics.r2_score'. To specify the default value manually and avoid the warning, please either call 'metrics.r2_score' directly or make a custom scorer with 'metrics.make_scorer' (the built-in scorer 'r2' uses multioutput='uniform_average').\n",
            "  \"multioutput='uniform_average').\", FutureWarning)\n",
            "/usr/local/lib/python3.6/dist-packages/sklearn/base.py:434: FutureWarning: The default value of multioutput (not exposed in score method) will change from 'variance_weighted' to 'uniform_average' in 0.23 to keep consistent with 'metrics.r2_score'. To specify the default value manually and avoid the warning, please either call 'metrics.r2_score' directly or make a custom scorer with 'metrics.make_scorer' (the built-in scorer 'r2' uses multioutput='uniform_average').\n",
            "  \"multioutput='uniform_average').\", FutureWarning)\n",
            "/usr/local/lib/python3.6/dist-packages/sklearn/base.py:434: FutureWarning: The default value of multioutput (not exposed in score method) will change from 'variance_weighted' to 'uniform_average' in 0.23 to keep consistent with 'metrics.r2_score'. To specify the default value manually and avoid the warning, please either call 'metrics.r2_score' directly or make a custom scorer with 'metrics.make_scorer' (the built-in scorer 'r2' uses multioutput='uniform_average').\n",
            "  \"multioutput='uniform_average').\", FutureWarning)\n",
            "/usr/local/lib/python3.6/dist-packages/sklearn/base.py:434: FutureWarning: The default value of multioutput (not exposed in score method) will change from 'variance_weighted' to 'uniform_average' in 0.23 to keep consistent with 'metrics.r2_score'. To specify the default value manually and avoid the warning, please either call 'metrics.r2_score' directly or make a custom scorer with 'metrics.make_scorer' (the built-in scorer 'r2' uses multioutput='uniform_average').\n",
            "  \"multioutput='uniform_average').\", FutureWarning)\n",
            "/usr/local/lib/python3.6/dist-packages/sklearn/base.py:434: FutureWarning: The default value of multioutput (not exposed in score method) will change from 'variance_weighted' to 'uniform_average' in 0.23 to keep consistent with 'metrics.r2_score'. To specify the default value manually and avoid the warning, please either call 'metrics.r2_score' directly or make a custom scorer with 'metrics.make_scorer' (the built-in scorer 'r2' uses multioutput='uniform_average').\n",
            "  \"multioutput='uniform_average').\", FutureWarning)\n"
          ],
          "name": "stderr"
        },
        {
          "output_type": "execute_result",
          "data": {
            "text/plain": [
              "-43.21816662688811"
            ]
          },
          "metadata": {
            "tags": []
          },
          "execution_count": 27
        }
      ]
    },
    {
      "cell_type": "markdown",
      "metadata": {
        "id": "ewIInKd7Q4ap"
      },
      "source": [
        "Conduct performance evaluation in comparison between measured and predicted values using MLR, R^2, RMSE, MAE, MSE, and any other evaluation parameter."
      ]
    },
    {
      "cell_type": "code",
      "metadata": {
        "colab": {
          "base_uri": "https://localhost:8080/"
        },
        "id": "Lvois5E0RO19",
        "outputId": "93c79fee-6740-45df-b3bd-442dd016e067"
      },
      "source": [
        "mean_absolute_error(y_test,y_pred) # calculating the mean absolute error for actual and predicted values"
      ],
      "execution_count": 28,
      "outputs": [
        {
          "output_type": "execute_result",
          "data": {
            "text/plain": [
              "0.040485160186424035"
            ]
          },
          "metadata": {
            "tags": []
          },
          "execution_count": 28
        }
      ]
    },
    {
      "cell_type": "code",
      "metadata": {
        "colab": {
          "base_uri": "https://localhost:8080/"
        },
        "id": "EVb3J1QOSBYT",
        "outputId": "899559e8-a66e-4c8b-a850-5cf5e0bf5ecc"
      },
      "source": [
        "mean_squared_error(y_test,y_pred) # calculating the mean squared error for actual and predicted values"
      ],
      "execution_count": 29,
      "outputs": [
        {
          "output_type": "execute_result",
          "data": {
            "text/plain": [
              "0.005106815200759843"
            ]
          },
          "metadata": {
            "tags": []
          },
          "execution_count": 29
        }
      ]
    },
    {
      "cell_type": "code",
      "metadata": {
        "colab": {
          "base_uri": "https://localhost:8080/"
        },
        "id": "mVzzAJm9SEdJ",
        "outputId": "09aa2f22-5c50-4697-a6ee-fbb33475d09e"
      },
      "source": [
        "r2_score(y_test,y_pred) # calculating the r2 error for actual and predicted values"
      ],
      "execution_count": 30,
      "outputs": [
        {
          "output_type": "execute_result",
          "data": {
            "text/plain": [
              "0.996734682278998"
            ]
          },
          "metadata": {
            "tags": []
          },
          "execution_count": 30
        }
      ]
    },
    {
      "cell_type": "code",
      "metadata": {
        "colab": {
          "base_uri": "https://localhost:8080/"
        },
        "id": "X04mxcK0SHpv",
        "outputId": "b246c0ea-df3d-4101-f272-56e5e4e1d4a3"
      },
      "source": [
        "from math import sqrt\r\n",
        "rmse = sqrt(r2_score(y_test,y_pred)) # calculating the root mean squared error for actual and predicted values\r\n",
        "rmse"
      ],
      "execution_count": 31,
      "outputs": [
        {
          "output_type": "execute_result",
          "data": {
            "text/plain": [
              "0.9983660061715833"
            ]
          },
          "metadata": {
            "tags": []
          },
          "execution_count": 31
        }
      ]
    },
    {
      "cell_type": "markdown",
      "metadata": {
        "id": "Y2ajlWDAS-fC"
      },
      "source": [
        "Present the parametric study graph."
      ]
    },
    {
      "cell_type": "code",
      "metadata": {
        "colab": {
          "base_uri": "https://localhost:8080/",
          "height": 300
        },
        "id": "JHLem50XTBfm",
        "outputId": "95c94eb0-2580-4ece-edf8-3e674ff43d77"
      },
      "source": [
        "plt.scatter(y_test,y_pred)\r\n",
        "plt.plot(y_test,y_pred)"
      ],
      "execution_count": 32,
      "outputs": [
        {
          "output_type": "execute_result",
          "data": {
            "text/plain": [
              "[<matplotlib.lines.Line2D at 0x7f751721ec88>,\n",
              " <matplotlib.lines.Line2D at 0x7f75171f07f0>]"
            ]
          },
          "metadata": {
            "tags": []
          },
          "execution_count": 32
        },
        {
          "output_type": "display_data",
          "data": {
            "image/png": "[encoded data removed]",
            "text/plain": [
              "<Figure size 432x288 with 1 Axes>"
            ]
          },
          "metadata": {
            "tags": [],
            "needs_background": "light"
          }
        }
      ]
    },
    {
      "cell_type": "code",
      "metadata": {
        "colab": {
          "base_uri": "https://localhost:8080/",
          "height": 266
        },
        "id": "mATqUFXdUQfN",
        "outputId": "e488a289-7a5d-4b1b-cbfa-b768f00026b9"
      },
      "source": [
        "plt.scatter(y_test, y_pred, c=y_pred, cmap='viridis');"
      ],
      "execution_count": 33,
      "outputs": [
        {
          "output_type": "display_data",
          "data": {
            "image/png": "[encoded data removed]",
            "text/plain": [
              "<Figure size 432x288 with 1 Axes>"
            ]
          },
          "metadata": {
            "tags": [],
            "needs_background": "light"
          }
        }
      ]
    },
    {
      "cell_type": "markdown",
      "metadata": {
        "id": "ofpDfCZRWXgq"
      },
      "source": [
        "Conduct sensitivity analysis to determine the influence of each parameter on the predicted parameters."
      ]
    },
    {
      "cell_type": "code",
      "metadata": {
        "colab": {
          "base_uri": "https://localhost:8080/"
        },
        "id": "shdv9YqIWgu3",
        "outputId": "1c0d1242-d04e-4d6b-e7ef-97dd07de50df"
      },
      "source": [
        "from sklearn.datasets import make_regression\r\n",
        "from xgboost import XGBRegressor\r\n",
        "\r\n",
        "M, n = make_regression(n_samples=500, n_features=5, n_informative=2, noise=0.3)\r\n",
        "M = pd.DataFrame(M, columns=['HC (%)','NQF (%)','C (%)','Ac','Φ'])\r\n",
        "\r\n",
        "model = XGBRegressor()\r\n",
        "model.fit(M, n)"
      ],
      "execution_count": 34,
      "outputs": [
        {
          "output_type": "stream",
          "text": [
            "[12:56:05] WARNING: /workspace/src/objective/regression_obj.cu:152: reg:linear is now deprecated in favor of reg:squarederror.\n"
          ],
          "name": "stdout"
        },
        {
          "output_type": "execute_result",
          "data": {
            "text/plain": [
              "XGBRegressor(base_score=0.5, booster='gbtree', colsample_bylevel=1,\n",
              "             colsample_bynode=1, colsample_bytree=1, gamma=0,\n",
              "             importance_type='gain', learning_rate=0.1, max_delta_step=0,\n",
              "             max_depth=3, min_child_weight=1, missing=None, n_estimators=100,\n",
              "             n_jobs=1, nthread=None, objective='reg:linear', random_state=0,\n",
              "             reg_alpha=0, reg_lambda=1, scale_pos_weight=1, seed=None,\n",
              "             silent=None, subsample=1, verbosity=1)"
            ]
          },
          "metadata": {
            "tags": []
          },
          "execution_count": 34
        }
      ]
    },
    {
      "cell_type": "code",
      "metadata": {
        "colab": {
          "base_uri": "https://localhost:8080/",
          "height": 297
        },
        "id": "CSGQkbIxZo3p",
        "outputId": "54d9da30-0641-4071-bce3-23d6bbe4f62c"
      },
      "source": [
        "class Simulate:\r\n",
        "    def __init__(self, obs, var):\r\n",
        "        self.obs = obs\r\n",
        "        self.var = var\r\n",
        "\r\n",
        "    def simulate_increase(self, model, percentage):\r\n",
        "        baseline = model.predict(self.obs)\r\n",
        "        plus = {}\r\n",
        "        for ivar in self.var:\r\n",
        "            M_plus = self.obs.copy()\r\n",
        "            M_plus[ivar] = M_plus[ivar] + M_plus[ivar] * (percentage / 100)\r\n",
        "            plus[ivar] = model.predict(M_plus)\r\n",
        "        b = pd.DataFrame(\r\n",
        "            plus, index=['simulated'\r\n",
        "                         ]).T.reset_index().rename(columns={'index': 'test'})\r\n",
        "        b['baseline'] = baseline[0]\r\n",
        "        return b\r\n",
        "\r\n",
        "    @staticmethod\r\n",
        "    def plot_simulation(d, **kwargs):\r\n",
        "        fig, ax = plt.subplots()\r\n",
        "        sns.barplot(x='test', y='simulated', data=d, palette='deep', ax=ax)\r\n",
        "        ax.axhline(d['baseline'].values[0], color='grey', linestyle='--', linewidth=2)\r\n",
        "        ax.plot([0, 0], [-100, -100], color='grey', linestyle='--', linewidth=2, label='baseline')\r\n",
        "\r\n",
        "        maxi = int(d['simulated'].max() + d['simulated'].max() * 0.1)\r\n",
        "        mini = int(d['simulated'].min() - d['simulated'].min() * 0.1)\r\n",
        "        ax.set_ylim([mini, maxi])\r\n",
        "\r\n",
        "        ax.set_xlabel('Simulated variables')\r\n",
        "        ax.set_ylabel('Target value')\r\n",
        "        ax.set_title(kwargs.get('title'))\r\n",
        "        ax.legend()\r\n",
        "\r\n",
        "        ax.grid(axis='y', linewidth=.3)\r\n",
        "        sns.despine(offset=10, trim=True)\r\n",
        "        plt.tight_layout()\r\n",
        "        plt.show()\r\n",
        "\r\n",
        "\r\n",
        "VAR_OPTIMIZE = ['HC (%)','NQF (%)','C (%)','Ac','Φ']\r\n",
        "PERC = 5\r\n",
        "ROW = M.iloc[[29]]\r\n",
        "\r\n",
        "S = Simulate(obs=ROW, var=VAR_OPTIMIZE)\r\n",
        "d = S.simulate_increase(model=model, percentage=PERC)\r\n",
        "S.plot_simulation(d, title=f'Impact of a {PERC}% increase of {VAR_OPTIMIZE} in target value')"
      ],
      "execution_count": 35,
      "outputs": [
        {
          "output_type": "display_data",
          "data": {
            "image/png": "[encoded data removed]",
            "text/plain": [
              "<Figure size 432x288 with 1 Axes>"
            ]
          },
          "metadata": {
            "tags": [],
            "needs_background": "light"
          }
        }
      ]
    },
    {
      "cell_type": "code",
      "metadata": {
        "id": "6N4sguBT50Ey"
      },
      "source": [
        ""
      ],
      "execution_count": 35,
      "outputs": []
    },
    {
      "cell_type": "code",
      "metadata": {
        "id": "BlxJmbyn50ME"
      },
      "source": [
        "x = data['Cc'].tail(25)\r\n",
        "y = np.array([1.29149419, 1.01566394, 1.32896709, 1.1578421 , 1.41585831,\r\n",
        "       1.41241184, 0.91023   , 1.49030602, 1.63368735, 1.45592231,\r\n",
        "       1.85366474, 1.59783352, 1.22373724, 1.00195243, 1.522767  ,\r\n",
        "       1.20215062, 1.53980988, 1.46482312, 1.09592096, 1.26164665,\r\n",
        "       1.60396471, 1.8370517 , 1.75772945, 1.23066601, 1.28703643])"
      ],
      "execution_count": 36,
      "outputs": []
    },
    {
      "cell_type": "code",
      "metadata": {
        "colab": {
          "base_uri": "https://localhost:8080/",
          "height": 296
        },
        "id": "IpxagiLG6msv",
        "outputId": "e8337b3f-d2c9-4d73-87f6-99adf2155147"
      },
      "source": [
        "plt.scatter(x,y,color='purple',marker='+')\r\n",
        "plt.xlabel('Actual Cc')\r\n",
        "plt.ylabel('Predicted Cc')"
      ],
      "execution_count": 37,
      "outputs": [
        {
          "output_type": "execute_result",
          "data": {
            "text/plain": [
              "Text(0, 0.5, 'Predicted Cc')"
            ]
          },
          "metadata": {
            "tags": []
          },
          "execution_count": 37
        },
        {
          "output_type": "display_data",
          "data": {
            "image/png": "[encoded data removed]",
            "text/plain": [
              "<Figure size 432x288 with 1 Axes>"
            ]
          },
          "metadata": {
            "tags": [],
            "needs_background": "light"
          }
        }
      ]
    },
    {
      "cell_type": "code",
      "metadata": {
        "id": "ktVyfzxz66UD"
      },
      "source": [
        "m = data['Cu'].tail(25)\r\n",
        "n = np.array([2.87200115, 2.12266753, 3.03603543, 2.31834166, 3.73382332,\r\n",
        "       3.70669032, 2.06630356, 4.50295584, 4.91967054, 4.16134095,\r\n",
        "       5.67752919, 4.81234664, 2.38633798, 2.17784937, 4.7878039 ,\r\n",
        "       2.46864777, 4.97188209, 4.24681168, 2.23501875, 2.44083269,\r\n",
        "       4.84888229, 5.59037939, 5.38117732, 2.46902546, 2.80009303])"
      ],
      "execution_count": 38,
      "outputs": []
    },
    {
      "cell_type": "code",
      "metadata": {
        "colab": {
          "base_uri": "https://localhost:8080/",
          "height": 296
        },
        "id": "MDCdsSXt8Jm5",
        "outputId": "67aef1fe-79cb-41d5-96fe-cacb09975f56"
      },
      "source": [
        "plt.scatter(m,n,color='grey',marker='D')\r\n",
        "plt.xlabel('Actual Cu')\r\n",
        "plt.ylabel('Predicted Cu')"
      ],
      "execution_count": 39,
      "outputs": [
        {
          "output_type": "execute_result",
          "data": {
            "text/plain": [
              "Text(0, 0.5, 'Predicted Cu')"
            ]
          },
          "metadata": {
            "tags": []
          },
          "execution_count": 39
        },
        {
          "output_type": "display_data",
          "data": {
            "image/png": "[encoded data removed]",
            "text/plain": [
              "<Figure size 432x288 with 1 Axes>"
            ]
          },
          "metadata": {
            "tags": [],
            "needs_background": "light"
          }
        }
      ]
    },
    {
      "cell_type": "code",
      "metadata": {
        "colab": {
          "base_uri": "https://localhost:8080/",
          "height": 281
        },
        "id": "bRgdvj9V8Nid",
        "outputId": "b1d66300-1a79-4c93-8b8f-fb023cfb9b7d"
      },
      "source": [
        "z = data['Cc']\r\n",
        "plt.plot(z,color='y')\r\n",
        "plt.title('Cc')\r\n",
        "plt.grid()"
      ],
      "execution_count": 40,
      "outputs": [
        {
          "output_type": "display_data",
          "data": {
            "image/png": "[encoded data removed]",
            "text/plain": [
              "<Figure size 432x288 with 1 Axes>"
            ]
          },
          "metadata": {
            "tags": [],
            "needs_background": "light"
          }
        }
      ]
    },
    {
      "cell_type": "code",
      "metadata": {
        "colab": {
          "base_uri": "https://localhost:8080/",
          "height": 281
        },
        "id": "GlWhcT7IAbQn",
        "outputId": "a45f6110-827f-45ff-828a-1070b1be523d"
      },
      "source": [
        "p = data['Cu']\r\n",
        "plt.plot(p,color='grey')\r\n",
        "plt.title('Cu')\r\n",
        "plt.grid()"
      ],
      "execution_count": 41,
      "outputs": [
        {
          "output_type": "display_data",
          "data": {
            "image/png": "[encoded data removed]",
            "text/plain": [
              "<Figure size 432x288 with 1 Axes>"
            ]
          },
          "metadata": {
            "tags": [],
            "needs_background": "light"
          }
        }
      ]
    },
    {
      "cell_type": "code",
      "metadata": {
        "id": "cSQ9hWZIN2vO"
      },
      "source": [
        ""
      ],
      "execution_count": 41,
      "outputs": []
    },
    {
      "cell_type": "code",
      "metadata": {
        "id": "WIXLQC4AN2yN"
      },
      "source": [
        "features = data[['HC (%)','NQF (%)','C (%)','Ac','Φ']].values\r\n",
        "labels = data[['Cc']].values"
      ],
      "execution_count": 42,
      "outputs": []
    },
    {
      "cell_type": "code",
      "metadata": {
        "id": "QQh02V-mN9Qv"
      },
      "source": [
        "x_train,x_test,y_train,y_test = train_test_split(features,labels,test_size=0.2)"
      ],
      "execution_count": 43,
      "outputs": []
    },
    {
      "cell_type": "code",
      "metadata": {
        "colab": {
          "base_uri": "https://localhost:8080/"
        },
        "id": "nYDzM7KZOFHh",
        "outputId": "db7b6c13-1842-48a3-b2ff-e8630886e08f"
      },
      "source": [
        "poly_regs= PolynomialFeatures(degree= 1)  \r\n",
        "z = poly_regs.fit_transform(x_train)  \r\n",
        "model =LinearRegression()  \r\n",
        "model.fit(z, y_train)"
      ],
      "execution_count": 44,
      "outputs": [
        {
          "output_type": "execute_result",
          "data": {
            "text/plain": [
              "LinearRegression(copy_X=True, fit_intercept=True, n_jobs=None, normalize=False)"
            ]
          },
          "metadata": {
            "tags": []
          },
          "execution_count": 44
        }
      ]
    },
    {
      "cell_type": "code",
      "metadata": {
        "id": "solD15iUOLZG"
      },
      "source": [
        "m1 = poly_regs.fit_transform(x_test)"
      ],
      "execution_count": 45,
      "outputs": []
    },
    {
      "cell_type": "code",
      "metadata": {
        "colab": {
          "base_uri": "https://localhost:8080/"
        },
        "id": "3EPuk03-OQO_",
        "outputId": "e84cbc01-515a-4813-f0ca-7bcc63341d32"
      },
      "source": [
        "y_pred1 = model.predict(m1)\r\n",
        "y_pred1"
      ],
      "execution_count": 46,
      "outputs": [
        {
          "output_type": "execute_result",
          "data": {
            "text/plain": [
              "array([[1.59431115],\n",
              "       [1.35908216],\n",
              "       [0.96855212],\n",
              "       [1.00191433],\n",
              "       [1.18439864],\n",
              "       [1.45153828],\n",
              "       [1.51863454],\n",
              "       [1.57914131],\n",
              "       [1.36783511],\n",
              "       [1.44411269],\n",
              "       [1.65271504],\n",
              "       [1.58672623],\n",
              "       [0.90674342],\n",
              "       [1.03411945],\n",
              "       [1.43520041],\n",
              "       [1.69217244],\n",
              "       [1.70766096],\n",
              "       [1.72548552],\n",
              "       [1.8168347 ],\n",
              "       [1.32466164],\n",
              "       [1.10333925],\n",
              "       [1.4147817 ],\n",
              "       [1.79784211],\n",
              "       [1.07506658],\n",
              "       [1.47896514]])"
            ]
          },
          "metadata": {
            "tags": []
          },
          "execution_count": 46
        }
      ]
    },
    {
      "cell_type": "code",
      "metadata": {
        "colab": {
          "base_uri": "https://localhost:8080/"
        },
        "id": "-YkabrQUOX1m",
        "outputId": "cc42ae17-3ef9-45b6-8905-26e97dbed9df"
      },
      "source": [
        "mean_absolute_error(y_test,y_pred1)"
      ],
      "execution_count": 47,
      "outputs": [
        {
          "output_type": "execute_result",
          "data": {
            "text/plain": [
              "0.014638512361047984"
            ]
          },
          "metadata": {
            "tags": []
          },
          "execution_count": 47
        }
      ]
    },
    {
      "cell_type": "code",
      "metadata": {
        "colab": {
          "base_uri": "https://localhost:8080/"
        },
        "id": "LInXmt1COh28",
        "outputId": "df5dcd61-82f6-4ef5-d922-56d1625211f5"
      },
      "source": [
        "mean_squared_error(y_test,y_pred1)"
      ],
      "execution_count": 48,
      "outputs": [
        {
          "output_type": "execute_result",
          "data": {
            "text/plain": [
              "0.00027900489858054907"
            ]
          },
          "metadata": {
            "tags": []
          },
          "execution_count": 48
        }
      ]
    },
    {
      "cell_type": "code",
      "metadata": {
        "colab": {
          "base_uri": "https://localhost:8080/"
        },
        "id": "7XuLDorUOu9h",
        "outputId": "5f089298-0e6a-4f38-a28e-03ca474bc613"
      },
      "source": [
        "from math import sqrt\r\n",
        "rmse1 = sqrt(mean_squared_error(y_test,y_pred1)) # calculating the root mean squared error for actual and predicted values\r\n",
        "rmse1"
      ],
      "execution_count": 49,
      "outputs": [
        {
          "output_type": "execute_result",
          "data": {
            "text/plain": [
              "0.0167034397230196"
            ]
          },
          "metadata": {
            "tags": []
          },
          "execution_count": 49
        }
      ]
    },
    {
      "cell_type": "code",
      "metadata": {
        "colab": {
          "base_uri": "https://localhost:8080/"
        },
        "id": "s5Hm2x_1PHDV",
        "outputId": "8fd052ee-14f2-4c32-ccb8-f8e224a31c37"
      },
      "source": [
        "r2_score(y_test,y_pred1)"
      ],
      "execution_count": 50,
      "outputs": [
        {
          "output_type": "execute_result",
          "data": {
            "text/plain": [
              "0.9960908003072865"
            ]
          },
          "metadata": {
            "tags": []
          },
          "execution_count": 50
        }
      ]
    },
    {
      "cell_type": "code",
      "metadata": {
        "id": "Lc5CE_bJQnBL"
      },
      "source": [
        "x11 = np.array(['MAE','MSE','RMSE','R2_error'])\r\n",
        "y11 = np.array([0.0160,0.0003,0.0197,0.9954])"
      ],
      "execution_count": 51,
      "outputs": []
    },
    {
      "cell_type": "code",
      "metadata": {
        "colab": {
          "base_uri": "https://localhost:8080/",
          "height": 297
        },
        "id": "ov9YGrbDQnEM",
        "outputId": "68de472b-ba7b-4790-efbc-874780dd5696"
      },
      "source": [
        "plt.bar(x11,y11,color='g')\r\n",
        "plt.xlabel('Performance measure')\r\n",
        "plt.ylabel('value')"
      ],
      "execution_count": 52,
      "outputs": [
        {
          "output_type": "execute_result",
          "data": {
            "text/plain": [
              "Text(0, 0.5, 'value')"
            ]
          },
          "metadata": {
            "tags": []
          },
          "execution_count": 52
        },
        {
          "output_type": "display_data",
          "data": {
            "image/png": "[encoded data removed]",
            "text/plain": [
              "<Figure size 432x288 with 1 Axes>"
            ]
          },
          "metadata": {
            "tags": [],
            "needs_background": "light"
          }
        }
      ]
    },
    {
      "cell_type": "code",
      "metadata": {
        "id": "LwUgH9o0POa4"
      },
      "source": [
        ""
      ],
      "execution_count": 52,
      "outputs": []
    },
    {
      "cell_type": "code",
      "metadata": {
        "id": "-4T5fwGcPO9K"
      },
      "source": [
        "features1 = data[['HC (%)','NQF (%)','C (%)','Ac','Φ']].values\r\n",
        "labels1 = data[['Cu']].values"
      ],
      "execution_count": 53,
      "outputs": []
    },
    {
      "cell_type": "code",
      "metadata": {
        "id": "nTjG3eDEPc3l"
      },
      "source": [
        "x_train,x_test,y_train,y_test = train_test_split(features1,labels1,test_size=0.2)"
      ],
      "execution_count": 54,
      "outputs": []
    },
    {
      "cell_type": "code",
      "metadata": {
        "colab": {
          "base_uri": "https://localhost:8080/"
        },
        "id": "6xGAOdd0PflX",
        "outputId": "edcba861-3545-486c-d4a3-4af6dc55cdc8"
      },
      "source": [
        "poly_regs= PolynomialFeatures(degree= 1)  \r\n",
        "z = poly_regs.fit_transform(x_train)  \r\n",
        "model =LinearRegression()  \r\n",
        "model.fit(z, y_train)"
      ],
      "execution_count": 55,
      "outputs": [
        {
          "output_type": "execute_result",
          "data": {
            "text/plain": [
              "LinearRegression(copy_X=True, fit_intercept=True, n_jobs=None, normalize=False)"
            ]
          },
          "metadata": {
            "tags": []
          },
          "execution_count": 55
        }
      ]
    },
    {
      "cell_type": "code",
      "metadata": {
        "id": "SlR8wxsIPipF"
      },
      "source": [
        "m2 = poly_regs.fit_transform(x_test)"
      ],
      "execution_count": 56,
      "outputs": []
    },
    {
      "cell_type": "code",
      "metadata": {
        "colab": {
          "base_uri": "https://localhost:8080/"
        },
        "id": "3on_ATrGPmwV",
        "outputId": "f8614996-a87b-4a2b-d2a3-b82cc8d2f6e5"
      },
      "source": [
        "y_pred2 = model.predict(m2)\r\n",
        "y_pred2"
      ],
      "execution_count": 57,
      "outputs": [
        {
          "output_type": "execute_result",
          "data": {
            "text/plain": [
              "array([[2.14162472],\n",
              "       [4.83760146],\n",
              "       [5.02635324],\n",
              "       [1.85856221],\n",
              "       [3.80919374],\n",
              "       [2.37367535],\n",
              "       [5.75790656],\n",
              "       [4.5544738 ],\n",
              "       [2.78850321],\n",
              "       [2.00100507],\n",
              "       [3.54179675],\n",
              "       [1.90276288],\n",
              "       [4.55025831],\n",
              "       [5.62036702],\n",
              "       [4.93197735],\n",
              "       [1.91112556],\n",
              "       [1.96222215],\n",
              "       [2.13671001],\n",
              "       [4.11192568],\n",
              "       [4.1561687 ],\n",
              "       [5.48817194],\n",
              "       [5.99384628],\n",
              "       [5.53485685],\n",
              "       [2.32943233],\n",
              "       [2.24094628]])"
            ]
          },
          "metadata": {
            "tags": []
          },
          "execution_count": 57
        }
      ]
    },
    {
      "cell_type": "code",
      "metadata": {
        "colab": {
          "base_uri": "https://localhost:8080/"
        },
        "id": "8GpdWrFmPq4r",
        "outputId": "7ba2faa1-dbae-458b-bde7-f8006387e838"
      },
      "source": [
        "mean_absolute_error(y_test,y_pred2)"
      ],
      "execution_count": 58,
      "outputs": [
        {
          "output_type": "execute_result",
          "data": {
            "text/plain": [
              "0.14575776804399065"
            ]
          },
          "metadata": {
            "tags": []
          },
          "execution_count": 58
        }
      ]
    },
    {
      "cell_type": "code",
      "metadata": {
        "colab": {
          "base_uri": "https://localhost:8080/"
        },
        "id": "RFrjfObYQF4X",
        "outputId": "8e3ad8bf-4316-479b-ad4e-e2f68d34f4e4"
      },
      "source": [
        "mean_squared_error(y_test,y_pred2)"
      ],
      "execution_count": 59,
      "outputs": [
        {
          "output_type": "execute_result",
          "data": {
            "text/plain": [
              "0.02994191259579853"
            ]
          },
          "metadata": {
            "tags": []
          },
          "execution_count": 59
        }
      ]
    },
    {
      "cell_type": "code",
      "metadata": {
        "colab": {
          "base_uri": "https://localhost:8080/"
        },
        "id": "iQiLizCoQJDz",
        "outputId": "b6c5c8e4-d7bb-4106-a417-8a075e2e5253"
      },
      "source": [
        "from math import sqrt\r\n",
        "rmse2 = sqrt(mean_squared_error(y_test,y_pred2)) # calculating the root mean squared error for actual and predicted values\r\n",
        "rmse2"
      ],
      "execution_count": 60,
      "outputs": [
        {
          "output_type": "execute_result",
          "data": {
            "text/plain": [
              "0.1730373156165991"
            ]
          },
          "metadata": {
            "tags": []
          },
          "execution_count": 60
        }
      ]
    },
    {
      "cell_type": "code",
      "metadata": {
        "colab": {
          "base_uri": "https://localhost:8080/"
        },
        "id": "hxMPlaWGQOTg",
        "outputId": "fecdef29-53e0-4376-d771-c13e8394f493"
      },
      "source": [
        "r2_score(y_test,y_pred2)"
      ],
      "execution_count": 61,
      "outputs": [
        {
          "output_type": "execute_result",
          "data": {
            "text/plain": [
              "0.9855253348104935"
            ]
          },
          "metadata": {
            "tags": []
          },
          "execution_count": 61
        }
      ]
    },
    {
      "cell_type": "code",
      "metadata": {
        "id": "Zkgft59qRABG"
      },
      "source": [
        "x12 = np.array(['MAE','MSE','RMSE','R2_error'])\r\n",
        "y12 = np.array([0.1966,0.0586,0.2421,0.9579])"
      ],
      "execution_count": 62,
      "outputs": []
    },
    {
      "cell_type": "code",
      "metadata": {
        "colab": {
          "base_uri": "https://localhost:8080/",
          "height": 300
        },
        "id": "Sig7okwfRUws",
        "outputId": "14192dd2-beae-43b8-b615-14e9dd8d2612"
      },
      "source": [
        "plt.bar(x12,y12,color='black')\r\n",
        "plt.xlabel('Performance measure')\r\n",
        "plt.ylabel('value')"
      ],
      "execution_count": 63,
      "outputs": [
        {
          "output_type": "execute_result",
          "data": {
            "text/plain": [
              "Text(0, 0.5, 'value')"
            ]
          },
          "metadata": {
            "tags": []
          },
          "execution_count": 63
        },
        {
          "output_type": "display_data",
          "data": {
            "image/png": "[encoded data removed]",
            "text/plain": [
              "<Figure size 432x288 with 1 Axes>"
            ]
          },
          "metadata": {
            "tags": [],
            "needs_background": "light"
          }
        }
      ]
    }
  ]
}